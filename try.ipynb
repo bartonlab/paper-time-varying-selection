{
 "cells": [
  {
   "cell_type": "code",
   "execution_count": 26,
   "id": "d6ad701b",
   "metadata": {},
   "outputs": [
    {
     "name": "stdout",
     "output_type": "stream",
     "text": [
      "This notebook was prepared using:\n",
      "python version 3.10.9 | packaged by conda-forge | (main, Feb  2 2023, 20:26:08) [Clang 14.0.6 ]\n",
      "numpy version 1.24.2\n",
      "pandas version 1.5.3\n",
      "matplotlib version 3.7.1\n"
     ]
    }
   ],
   "source": [
    "print('This notebook was prepared using:')\n",
    "\n",
    "import os\n",
    "import sys\n",
    "print('python version %s' % sys.version)\n",
    "\n",
    "import numpy as np\n",
    "print('numpy version %s' % np.__version__)\n",
    "\n",
    "import pandas as pd\n",
    "print('pandas version %s' % pd.__version__)\n",
    "\n",
    "import math\n",
    "from math import isnan\n",
    "\n",
    "import matplotlib\n",
    "import matplotlib.cm as cm\n",
    "import matplotlib.pyplot as plt\n",
    "import matplotlib.gridspec as gridspec\n",
    "import matplotlib.image as mpimg\n",
    "print('matplotlib version %s' % matplotlib.__version__)\n",
    "\n",
    "import re\n",
    "import sys\n",
    "import argparse\n",
    "import scipy as sp\n",
    "import random\n",
    "\n",
    "from scipy import integrate\n",
    "import scipy.interpolate as sp_interpolate\n",
    "import statistics\n",
    "\n",
    "from dataclasses import dataclass\n",
    "import time as time_module\n",
    "\n",
    "import simulation as sim\n",
    "import importlib\n",
    "\n",
    "# GitHub directories\n",
    "HIV_DIR = 'data/HIV'\n",
    "MPL_DIR = 'src/MPL'\n",
    "SIM_DIR = 'data/simulation'\n",
    "FIG_DIR = 'figures'"
   ]
  },
  {
   "cell_type": "code",
   "execution_count": 3,
   "id": "333508cf",
   "metadata": {},
   "outputs": [],
   "source": [
    "### parameter\n",
    "importlib.reload(sim)\n",
    "\n",
    "generations = 500\n",
    "fn = np.zeros(generations+1)\n",
    "fi = np.zeros(generations+1)\n",
    "\n",
    "for t in range(len(fn)):\n",
    "    fi[t] = 0.04 - 0.08/generations * t\n",
    "    fn[t] = 0.1  - 0.05/generations * t\n",
    "\n",
    "pdata = {  \n",
    "    'NUC':           ['A', 'T'],      # all possible alleles\n",
    "    'xfile':         '0',             # output file name\n",
    "    'seq_length':    20,              # sequence length\n",
    "    'pop_size':      1000,            # population size\n",
    "    'generations':   generations,     # number of total generations\n",
    "    'totalT':        500,             # generations used to infer\n",
    "    'mut_rate':      1e-3,            # mutation rate\n",
    "    'rec_rate':      1e-3,            # recombination rate\n",
    "    'inital_state':  4,               # number of initial sub-population\n",
    "    'n_ben':         4,               # number of beneficial mutations\n",
    "    'n_del':         4,               # number of deleterious mutations\n",
    "    's_ben':         0.02,            # selection coefficient of beneficial mutations\n",
    "    's_del':         -0.02,           # selection coefficient of deleterious mutations\n",
    "    'fi':            fi,              # time-varying selection coefficient for individual site\n",
    "    'fn':            fn,              # time-varying selection coefficient for binary trait\n",
    "    'escape_group':  [[12,15,17]],    # escape sites\n",
    "    'escape_TF':     [[0,0,0]],       # wild type sequences for escape sites\n",
    "    'trait_dis':     [[3,2]],         # distance between trait sites\n",
    "    'p_sites':       [13,18],         # special sites (not escape sites but still time-varying)\n",
    "    'x_thresh':      -0.05,           # threshold for single allele frequency\n",
    "    'gamma_s':       10,              # regularization - selection coefficients - constant part\n",
    "    'gamma_2c':      1000000,         # regularization - the time derivative of the selection coefficients\n",
    "    'gamma_2tv':     500,             # regularization - the time derivative of the selection coefficients\n",
    "    'IF_raw':        True,            # True, using raw data; false, using finite sample noise\n",
    "    }"
   ]
  },
  {
   "cell_type": "code",
   "execution_count": 22,
   "id": "4f1a5a81",
   "metadata": {},
   "outputs": [
    {
     "name": "stdout",
     "output_type": "stream",
     "text": [
      "501\n",
      "501\n"
     ]
    }
   ],
   "source": [
    "import numpy as np\n",
    "totalT = 500\n",
    "t_step = 1\n",
    "sample_times    = np.linspace(0,totalT,int(totalT/t_step)+1)\n",
    "times        = np.linspace(0,totalT,totalT+1)\n",
    "print(len(sample_times))\n",
    "print(len(times))\n"
   ]
  },
  {
   "cell_type": "code",
   "execution_count": 28,
   "id": "6aba1145",
   "metadata": {},
   "outputs": [
    {
     "name": "stdout",
     "output_type": "stream",
     "text": [
      "[0.012097086856996613, 0.012627638848009803, 0.019998566856854447, 0.01590045605643212, 0.004814453715163591, -0.004810329307196423, -0.011685521315266182, 0.0016849984599446035, 0.0004401019265885476, 0.005426608407518101, 0.010266852597288852, 0.0030913650270542247, -0.005454647537296731, -0.00453601377694045, -0.0027472330244909544, 0.005109004725453488, -0.010526816801981722, 0.005120330484832386, -0.008197557298636535, -0.0015792032514844953]\n",
      "[0.013895322177801995, 0.01473680981537627, 0.025371773838502556, 0.01820157457170792, 0.006302521154012156, -0.0037563908921678553, -0.015467974853638683, 0.0020409053756962853, 0.00021231849436757473, 0.006756937997006085, 0.011949885385538582, 0.0040661016256516, -0.007627580913448715, -0.004479862939170187, -0.003316498479186716, 0.006160583757860087, -0.014283482155217478, 0.006298120789778914, -0.009532937762870666, -0.0020668829798186493]\n"
     ]
    }
   ],
   "source": [
    "name = str(0)+'_ns'+str(10)+'_dt'+str(10)\n",
    "data_full   = np.load('%s/output/nsdt/c_%s.npz'%(SIM_DIR,name), allow_pickle=\"True\")\n",
    "sc_full     = data_full['selection']\n",
    "TimeVaryingSC = [np.average(sc_full[i]) for i in range(20)]\n",
    "print(TimeVaryingSC)\n",
    "\n",
    "data_full   = np.load('%s/output_multiple/nsdt/c_%s.npz'%(SIM_DIR,name), allow_pickle=\"True\")\n",
    "sc_full     = data_full['selection']\n",
    "TimeVaryingSC = [np.average((sc_full[2*i+1]-sc_full[2*i])) for i in range(20)]\n",
    "print(TimeVaryingSC)\n"
   ]
  },
  {
   "cell_type": "code",
   "execution_count": 33,
   "id": "9fc76d72",
   "metadata": {},
   "outputs": [
    {
     "name": "stdout",
     "output_type": "stream",
     "text": [
      "[0.10661817 0.10641473 0.10602177 0.10545631 0.10473335 0.10386581\n",
      " 0.10286453 0.10173824 0.10049358 0.09922401 0.09797635 0.0967521\n",
      " 0.09555247 0.09437842 0.09323066 0.09210966 0.09101569 0.08994876\n",
      " 0.08890869 0.08789509 0.08690739 0.08594481 0.08500639 0.084091\n",
      " 0.08319731 0.08232385 0.08146897 0.08063084 0.0798075  0.07899679\n",
      " 0.07819644 0.07740398 0.07661682 0.0758322  0.07504723 0.07425885\n",
      " 0.07346386 0.07265894 0.07184061 0.07100526 0.07014913 0.06926838\n",
      " 0.068359   0.06741689 0.06643784 0.06541755 0.06440168 0.06341341\n",
      " 0.06245221 0.06151757 0.06060898 0.05972596 0.05886804 0.05803474\n",
      " 0.05722564 0.05644029 0.05567828 0.0549392  0.05422267 0.05352829\n",
      " 0.05285571 0.05220457 0.05157452 0.05096524 0.0503764  0.04980771\n",
      " 0.04925885 0.04872954 0.04821951 0.0477285  0.04725625 0.04680252\n",
      " 0.04636708 0.0459497  0.04555018 0.0451683  0.04480389 0.04445675\n",
      " 0.04412671 0.04381362 0.04351731 0.04323765 0.04297449 0.04272772\n",
      " 0.04249722 0.04228288]\n",
      "[0.10661817 0.10641473 0.10602177 0.10545631 0.10473335 0.10386581\n",
      " 0.10286453 0.10173824 0.10049358 0.09922401 0.09797635 0.0967521\n",
      " 0.09555247 0.09437842 0.09323066 0.09210966 0.09101569 0.08994876\n",
      " 0.08890869 0.08789509 0.08690739 0.08594481 0.08500639 0.084091\n",
      " 0.08319731 0.08232385 0.08146897 0.08063084 0.0798075  0.07899679\n",
      " 0.07819644 0.07740398 0.07661682 0.0758322  0.07504723 0.07425885\n",
      " 0.07346386 0.07265894 0.07184061 0.07100526 0.07014913 0.06926838\n",
      " 0.068359   0.06741689 0.06643784 0.06541755 0.06440168 0.06341341\n",
      " 0.06245221 0.06151757 0.06060898 0.05972596 0.05886804 0.05803474\n",
      " 0.05722564 0.05644029 0.05567828 0.0549392  0.05422267 0.05352829\n",
      " 0.05285571 0.05220457 0.05157452 0.05096524 0.0503764  0.04980771\n",
      " 0.04925885 0.04872954 0.04821951 0.0477285  0.04725625 0.04680252\n",
      " 0.04636708 0.0459497  0.04555018 0.0451683  0.04480389 0.04445675\n",
      " 0.04412671 0.04381362 0.04351731 0.04323765 0.04297449 0.04272772\n",
      " 0.04249722 0.04228288]\n"
     ]
    }
   ],
   "source": [
    "tag = '700010058-3'\n",
    "data_full   = np.load('%s/output/c_%s_1.npz'%(HIV_DIR,tag), allow_pickle=\"True\")\n",
    "sc_full     = data_full['selection']\n",
    "print(sc_full[-1])\n",
    "\n",
    "data_full   = np.load('%s/output_try/c_%s_1.npz'%(HIV_DIR,tag), allow_pickle=\"True\")\n",
    "sc_full     = data_full['selection']\n",
    "print(sc_full[-1])"
   ]
  },
  {
   "cell_type": "code",
   "execution_count": 2,
   "id": "84b116ca",
   "metadata": {},
   "outputs": [
    {
     "name": "stdout",
     "output_type": "stream",
     "text": [
      "[[1, 1, 1, 4], [2, 4, 4], [3, 2, 3, 4, 3]]\n"
     ]
    }
   ],
   "source": [
    "def read_file_special(name):\n",
    "    result = []\n",
    "\n",
    "    with open('%s.dat'%name, 'r') as file:\n",
    "        for line in file:\n",
    "            line_data = []\n",
    "            for item in line.split():\n",
    "                if '/' in item:\n",
    "                    sub_items = list(map(int, item.split('/')))\n",
    "                    line_data.append(sub_items)\n",
    "                else:\n",
    "                    line_data.append([int(item)])\n",
    "            result.append(line_data)\n",
    "\n",
    "    return result\n",
    "\n",
    "def read_file(name):\n",
    "    result = []\n",
    "    with open('%s.dat'%name, 'r') as file:\n",
    "        for line in file:\n",
    "            line_data = []\n",
    "            for item in line.split():\n",
    "                line_data.append(int(item))\n",
    "            result.append(line_data)\n",
    "    return result\n",
    "\n",
    "a = read_file('b')\n",
    "print(a)"
   ]
  },
  {
   "cell_type": "code",
   "execution_count": 58,
   "id": "f527deb9",
   "metadata": {},
   "outputs": [
    {
     "name": "stdout",
     "output_type": "stream",
     "text": [
      "\n",
      "CH040-3\n",
      "16(2%)\t29(5%)\t66(11%)\t70(12%)\t102(18%)\t129(23%)\t140(25%)\t\n",
      "CH058-3\n",
      "8(9%)\t37(43%)\t40(47%)\t\n",
      "CH077-3\n",
      "14(8%)\t18(11%)\t70(44%)\t57(35%)\t\n",
      "CH470-3\n",
      "13(3%)\t28(6%)\t28(6%)\t105(25%)\t246(58%)\t\n",
      "CH470-5\n",
      "13(2%)\t28(6%)\t28(6%)\t105(23%)\t246(54%)\t34(7%)\t\n",
      "CH607-3\n",
      "9(42%)\t5(23%)\t7(33%)\t\n",
      "CH131-3\n",
      "21(6%)\t7(2%)\t6(1%)\t29(8%)\t28(8%)\t84(25%)\t98(29%)\t60(18%)\t\n",
      "CH131-5\n",
      "21(6%)\t7(2%)\t6(1%)\t29(8%)\t28(8%)\t84(25%)\t98(29%)\t60(18%)\t\n",
      "CH159-3\n",
      "8(2%)\t4(1%)\t10(3%)\t7(2%)\t27(8%)\t29(9%)\t217(71%)\t\n",
      "CH256-3\n",
      "28(4%)\t35(5%)\t109(15%)\t254(37%)\t258(37%)\t\n",
      "CH256-5\n",
      "28(4%)\t35(5%)\t109(15%)\t254(37%)\t258(37%)\t\n",
      "CH162-3\n",
      "21(4%)\t56(12%)\t102(23%)\t259(59%)\t\n",
      "CH162-5\n",
      "21(4%)\t56(12%)\t102(23%)\t259(59%)\t\n",
      "CH042-3\n",
      "21(3%)\t39(5%)\t112(16%)\t252(37%)\t252(37%)\t\n",
      "CH185-5\n",
      "25(37%)\t42(62%)\t\n",
      "CH198-3\n",
      "11(18%)\t49(81%)\t\n",
      "CH164-3\n",
      "14(3%)\t14(3%)\t42(9%)\t113(26%)\t251(57%)\t"
     ]
    }
   ],
   "source": [
    "infer_tags = ['700010040-3','700010040-5','700010058-3','700010058-5','700010077-3','700010077-5',\n",
    "              '700010470-3','700010470-5','700010607-3','703010131-3','703010131-5','703010159-3',\n",
    "              '703010256-3','703010256-5','704010042-5','705010162-3','705010162-5','704010042-3',\n",
    "              '705010185-5','705010198-3','706010164-3','706010164-5'] #\n",
    "\n",
    "for tag in infer_tags:\n",
    "    rawdata = np.load('%s/rawdata/rawdata_%s.npz'%(HIV_DIR,tag), allow_pickle=True)\n",
    "    times   = rawdata['sample_times']\n",
    "    escape_group = rawdata['escape_group']\n",
    "    if len(escape_group)>0:\n",
    "        print(f'\\nCH{tag[-5:]}')\n",
    "        for t in range(len(times)-1):\n",
    "            print(f'{int(times[t+1]-times[t])}({int((times[t+1]-times[t])/times[-1]*100)}%)',end='\\t')"
   ]
  },
  {
   "cell_type": "code",
   "execution_count": null,
   "id": "e9f09789",
   "metadata": {},
   "outputs": [],
   "source": [
    "infer_tags = ['700010040-3','700010040-5','700010058-3','700010058-5','700010077-3','700010077-5',\n",
    "              '700010470-3','700010470-5','700010607-3','703010131-3','703010131-5','703010159-3',\n",
    "              '703010256-3','703010256-5','704010042-5','705010162-3','705010162-5','704010042-3',\n",
    "              '705010185-5','705010198-3','706010164-3','706010164-5'] #\n",
    "\n",
    "for tag in infer_tags:\n",
    "    rawdata = np.load('%s/rawdata/rawdata_%s.npz'%(HIV_DIR,tag), allow_pickle=True)\n",
    "    times   = rawdata['sample_times']\n",
    "    gap = [int((times[t+1]-times[t])) for t in range(len(times)-1)]\n",
    "    if np.max(gap)/times[-1] > 0.5:\n",
    "        times_new = times[:-1]\n",
    "        gap = [int((times_new[t+1]-times_new[t])) for t in range(len(times_new)-1)]\n",
    "        gap_ratio = [int(i/times_new[-1]*100) for i in gap]\n",
    "        print(f'CH{tag[-5:]}:{times_new}, {gap_ratio}')\n",
    "    else:\n",
    "        gap_ratio = [int(i/times[-1]*100) for i in gap]\n",
    "        print(f'CH{tag[-5:]}:{times}, {gap_ratio}')"
   ]
  },
  {
   "cell_type": "code",
   "execution_count": null,
   "id": "2a46f5b4",
   "metadata": {},
   "outputs": [],
   "source": []
  },
  {
   "cell_type": "code",
   "execution_count": 196,
   "id": "174910fa",
   "metadata": {},
   "outputs": [
    {
     "data": {
      "image/png": "[encoded data removed]",
      "text/plain": [
       "<Figure size 1000x600 with 1 Axes>"
      ]
     },
     "metadata": {},
     "output_type": "display_data"
    }
   ],
   "source": [
    "# extend the time range\n",
    "TLeft   = int(round(times[-1]*2/10)*10) # time range added before the beginning time\n",
    "TRight  = int(round(times[-1]*2/10)*10) # time range added after the ending time\n",
    "etleft  = np.linspace(-TLeft,-40,int(TLeft/40)) # time added before the beginning time (dt=10)\n",
    "etright = np.linspace(times[-1]+40,times[-1]+TRight,int(TRight/40))\n",
    "ExTimes = np.concatenate((etleft, times, etright))\n",
    "\n",
    "# individual site: gamma_2c, escape group and special site: gamma_2tv\n",
    "# gamma 2 is also time varying, it is smaller at the boundary\n",
    "\n",
    "gamma_t = np.zeros(len(ExTimes))\n",
    "beta_1 = 4\n",
    "beta_2 = 4\n",
    "ratio_1 = 0.1\n",
    "ratio_2 = 0.2\n",
    "alpha1  = np.log(beta_1) / (ratio_1*1000)\n",
    "alpha2  = np.log(beta_2) / (ratio_2*1000)\n",
    "\n",
    "for t in range(len(ExTimes)):\n",
    "    if t <= len(etleft):\n",
    "        gamma_t[t] = beta_1\n",
    "    elif t >= len(etleft)+len(times):\n",
    "        gamma_t[t] = beta_2\n",
    "    elif len(etleft) < t and t < len(etleft)+(len(times)-1)*ratio_1:\n",
    "        tt = (t - len(etleft)) * 1\n",
    "        gamma_t[t] = beta_1 * np.exp(-alpha1 * tt)\n",
    "    elif len(etleft)+(len(times)-1)*(1 - ratio_2) < t and t < len(etleft)+len(times):\n",
    "        tt = (t - len(etleft)) * 1 - (1 - ratio_2) * totalT\n",
    "        gamma_t[t] = 1 * np.exp(alpha2 * tt)\n",
    "    else:\n",
    "        gamma_t[t] = 1\n",
    "\n",
    "\n",
    "plt.figure(figsize=(10, 6))\n",
    "plt.plot(ExTimes, gamma_t, label=\"gamma_prime\")\n",
    "plt.title(\"Plot of gamma_prime\")\n",
    "plt.xlabel(\"t\")\n",
    "plt.ylabel(\"gamma_prime\")\n",
    "plt.grid(True)\n",
    "plt.show()\n",
    "\n"
   ]
  },
  {
   "cell_type": "code",
   "execution_count": 194,
   "id": "81045754",
   "metadata": {},
   "outputs": [],
   "source": [
    "const_num = 6\n",
    "output = '_ll_11'\n",
    "# Neumann boundary condition\n",
    "f = open('%s/simple/mpl_collected%s.csv'%(SIM_DIR,output),'w')\n",
    "f.write('trajectory,ns,delta_t')\n",
    "for i in range(const_num):\n",
    "    f.write(',sc_%d'%i)\n",
    "f.write('\\n')\n",
    "\n",
    "for k in range(100):\n",
    "    name = str(k)\n",
    "    data_full   = np.load('%s/simple/output%s/c_%s.npz'%(SIM_DIR,output,name), allow_pickle=\"True\")\n",
    "    sc_full     = data_full['selection']\n",
    "    TimeVaryingSC = [np.average(sc_full[i]) for i in range(const_num)]\n",
    "    f.write('%d,1000,1'%k)\n",
    "    for i in range(const_num):\n",
    "        f.write(',%f'%TimeVaryingSC[i])\n",
    "    f.write('\\n')\n",
    "f.close()"
   ]
  },
  {
   "cell_type": "code",
   "execution_count": 189,
   "id": "602c5278",
   "metadata": {},
   "outputs": [
    {
     "name": "stdout",
     "output_type": "stream",
     "text": [
      "2.8284271247461903\n"
     ]
    }
   ],
   "source": [
    "ratio = 0.2\n",
    "alpha  = np.log(beta) / (ratio*1000)\n",
    "gamma =  np.exp(alpha * 150)\n",
    "print(gamma)"
   ]
  },
  {
   "cell_type": "code",
   "execution_count": 152,
   "id": "2c8fbf30",
   "metadata": {},
   "outputs": [
    {
     "name": "stdout",
     "output_type": "stream",
     "text": [
      "1051\n",
      "1050\n"
     ]
    }
   ],
   "source": [
    "print(len(etleft)+len(times))\n",
    "print(len(ExTimes)-len(etright)-1)"
   ]
  },
  {
   "cell_type": "code",
   "execution_count": 147,
   "id": "c4ba582b",
   "metadata": {},
   "outputs": [
    {
     "data": {
      "image/png": "[encoded data removed]",
      "text/plain": [
       "<Figure size 1000x600 with 1 Axes>"
      ]
     },
     "metadata": {},
     "output_type": "display_data"
    }
   ],
   "source": [
    "gamma_t = np.zeros(len(ExTimes))\n",
    "beta = 4\n",
    "alpha = np.log(beta) / totalT * 10\n",
    "for tt in range(len(ExTimes)):\n",
    "    if tt <= len(etleft) or len(ExTimes)-len(etright)-1 < tt:\n",
    "        gamma_t[tt] = beta\n",
    "    elif tt > len(etleft) and tt <= len(etleft)+(len(times)-1)/10:\n",
    "        t = (tt - len(etleft)) * 1\n",
    "        gamma_t[tt] = beta * np.exp(-alpha * t)\n",
    "    elif tt > len(etleft)+(len(times)-1)*0.9 and tt < len(etleft)+len(times):\n",
    "        t = (tt - len(etleft)) * 1 - 0.9*totalT\n",
    "        gamma_t[tt] = 1 * np.exp(alpha * t)\n",
    "    else:\n",
    "        gamma_t[tt] = 1\n",
    "\n",
    "plt.figure(figsize=(10, 6))\n",
    "plt.plot(ExTimes, gamma_t, label=\"gamma_prime\")\n",
    "plt.title(\"Plot of gamma_prime\")\n",
    "plt.xlabel(\"t\")\n",
    "plt.ylabel(\"gamma_prime\")\n",
    "plt.grid(True)\n",
    "plt.show()"
   ]
  },
  {
   "cell_type": "code",
   "execution_count": 136,
   "id": "af9587ff",
   "metadata": {},
   "outputs": [
    {
     "data": {
      "image/png": "[encoded data removed]",
      "text/plain": [
       "<Figure size 1000x600 with 1 Axes>"
      ]
     },
     "metadata": {},
     "output_type": "display_data"
    }
   ],
   "source": [
    "import numpy as np\n",
    "import matplotlib.pyplot as plt\n",
    "\n",
    "totalT = 1000\n",
    "times = np.linspace(0,totalT,totalT+1)\n",
    "\n",
    "TLeft   = int(round(times[-1]*0.5/10)*10) # time range added before the beginning time\n",
    "TRight  = int(round(times[-1]*0.5/10)*10) # time range added after the ending time\n",
    "etleft  = np.linspace(-TLeft,-5,int(TLeft/5)) # time added before the beginning time (dt=10)\n",
    "etright = np.linspace(times[-1]+5,times[-1]+TRight,int(TRight/5))\n",
    "ExTimes = np.concatenate((etleft, times, etright))\n",
    "\n",
    "gamma_t = np.zeros(len(ExTimes))\n",
    "beta = 10\n",
    "alpha = np.log(beta) / totalT * 10\n",
    "for tt in range(len(ExTimes)):\n",
    "    if tt <= len(etleft) or len(ExTimes)-len(etright)-1 < tt:\n",
    "        gamma_t[tt] = beta\n",
    "    elif tt > len(etleft) and tt <= len(etleft)+(len(times)-1)/10:\n",
    "        t = (tt - len(etleft)) * 1\n",
    "        gamma_t[tt] = beta * np.exp(-alpha * t)\n",
    "    elif tt > len(etleft)+(len(times)-1)*0.9 and tt < len(etleft)+len(times):\n",
    "        t = (tt - len(etleft)) * 1 - 0.9*totalT\n",
    "        gamma_t[tt] = 1 * np.exp(alpha * t)\n",
    "    else:\n",
    "        gamma_t[tt] = 1\n",
    "\n",
    "# 绘图\n",
    "plt.figure(figsize=(10, 6))\n",
    "plt.plot(ExTimes, gamma_t, label=\"gamma_prime\")\n",
    "plt.title(\"Plot of gamma_prime\")\n",
    "plt.xlabel(\"t\")\n",
    "plt.ylabel(\"gamma_prime\")\n",
    "plt.grid(True)\n",
    "plt.show()"
   ]
  },
  {
   "cell_type": "code",
   "execution_count": 135,
   "id": "e050cfbe",
   "metadata": {},
   "outputs": [
    {
     "name": "stdout",
     "output_type": "stream",
     "text": [
      "[1 2 3]\n",
      "[[2 4 6]\n",
      " [2 4 6]\n",
      " [2 4 6]\n",
      " [2 4 6]\n",
      " [2 4 6]]\n"
     ]
    }
   ],
   "source": [
    "import numpy as np\n",
    "\n",
    "# 示例数组a\n",
    "a = np.array([1, 2, 3])\n",
    "\n",
    "# 设定行数\n",
    "num_rows = 5\n",
    "\n",
    "# 利用广播创建矩阵b\n",
    "b = np.vstack([a*2] * num_rows)\n",
    "\n",
    "print(a)\n",
    "print(b)\n"
   ]
  },
  {
   "cell_type": "code",
   "execution_count": 123,
   "id": "53acdf6b",
   "metadata": {},
   "outputs": [
    {
     "data": {
      "text/plain": [
       "2.0"
      ]
     },
     "execution_count": 123,
     "metadata": {},
     "output_type": "execute_result"
    }
   ],
   "source": [
    "gamma_2[1051]"
   ]
  },
  {
   "cell_type": "code",
   "execution_count": 24,
   "id": "fb92ab90",
   "metadata": {},
   "outputs": [],
   "source": [
    "import inference_HIV as HIV\n",
    "importlib.reload(HIV)\n",
    "\n",
    "tag = '700010077-3'\n",
    "gamma1 = 1\n",
    "result       = HIV.AnalyzeData(tag,gamma1)\n"
   ]
  },
  {
   "cell_type": "code",
   "execution_count": 15,
   "id": "c2583246",
   "metadata": {},
   "outputs": [
    {
     "name": "stdout",
     "output_type": "stream",
     "text": [
      "[[3, 1, 2, 1, 4], [1, 3, 2, 3], [3, 3, 1], [1, 3, 1, 4], [3, 1, 4, 3, 1, 2, 3, 2, 1, 3, 4, 3, 3, 3, 3, 3, 4, 3, 3, 3, 1, 2], [1, 1, 2, 4, 2]]\n"
     ]
    }
   ],
   "source": [
    "print(result.escape_TF)"
   ]
  },
  {
   "cell_type": "code",
   "execution_count": 21,
   "id": "465a8ab4",
   "metadata": {},
   "outputs": [
    {
     "name": "stdout",
     "output_type": "stream",
     "text": [
      "[[[3], [1], [2], [1], [2, 4]], [[1], [3], [2], [3]], [[3], [3], [1]], [[1], [3], [1], [4]], [[3], [1], [4], [3], [1], [2], [3], [2], [1], [3], [4], [1, 3], [3], [3], [3], [3], [4], [3], [3], [3], [1], [2]], [[1], [1], [2], [4], [2]]]\n"
     ]
    }
   ],
   "source": [
    "print(result.escape_TF)"
   ]
  },
  {
   "cell_type": "code",
   "execution_count": 42,
   "id": "dda5a737",
   "metadata": {},
   "outputs": [],
   "source": [
    "importlib.reload(sim)\n",
    "\n",
    "# Load the simulation data\n",
    "data         = np.loadtxt(\"%s/example/example-0.dat\"%(SIM_DIR))\n",
    "escape_group = sim.read_file('example','traitsite-0.dat')\n",
    "trait_dis    = sim.read_file('example','traitsite-0.dat')\n",
    "\n",
    "p_sites      = [13,18]\n",
    "# Calculate covariance matrix\n",
    "sVec,nVec,eVec = sim.getSequence(data,escape_group)\n",
    "seq_length     = len(sVec[0][0])      # sequence length\n",
    "ne             = len(escape_group) # trait group\n",
    "\n",
    "muVec    = -np.ones(seq_length)\n",
    "x_length = 0\n",
    "for i in range(seq_length):\n",
    "    allele_count = np.zeros(len(sVec))\n",
    "    allele_count = [np.sum([(sVec[t][k][i]==1)*nVec[t][k] for k in range(len(sVec[t]))]) for t in range(len(sVec))]\n",
    "    if max(allele_count) / np.sum(nVec[0]) >= 0:\n",
    "        muVec[i] = x_length\n",
    "        x_length += 1\n",
    "x_length      += ne\n"
   ]
  },
  {
   "cell_type": "code",
   "execution_count": 60,
   "id": "8f006faa",
   "metadata": {},
   "outputs": [],
   "source": [
    "def get_allele_frequency(sVec,nVec,eVec,muVec):\n",
    "\n",
    "    x  = np.zeros((len(nVec),x_length))           # single allele frequency\n",
    "    xx = np.zeros((len(nVec),x_length,x_length))  # pair allele frequency\n",
    "    for t in range(len(nVec)):\n",
    "        pop_size_t = np.sum([nVec[t]])\n",
    "        # individual locus part\n",
    "        for i in range(seq_length):\n",
    "            aa = int(muVec[i])\n",
    "            if aa != -1:\n",
    "                x[t,aa] = np.sum([sVec[t][k][i] * nVec[t][k] for k in range(len(sVec[t]))]) / pop_size_t\n",
    "            for j in range(int(i+1), seq_length):\n",
    "                bb = int(muVec[j])\n",
    "                if bb != -1:\n",
    "                    xx[t,aa,bb] = np.sum([sVec[t][k][i] * sVec[t][k][j] * nVec[t][k] for k in range(len(sVec[t]))]) / pop_size_t\n",
    "                    xx[t,aa,bb] = np.sum([sVec[t][k][i] * sVec[t][k][j] * nVec[t][k] for k in range(len(sVec[t]))]) / pop_size_t\n",
    "        # escape part\n",
    "        for n in range(ne):\n",
    "            aa      = x_length-ne+n\n",
    "            x[t,aa] = np.sum([eVec[t][k][n] * nVec[t][k] for k in range(len(sVec[t]))]) / pop_size_t\n",
    "            for m in range(int(n+1), ne):\n",
    "                bb          = x_length-ne+m\n",
    "                xx[t,aa,bb] = np.sum([eVec[t][k][n] * eVec[t][k][m] * nVec[t][k] for k in range(len(sVec[t]))]) / pop_size_t\n",
    "                xx[t,bb,aa] = np.sum([eVec[t][k][n] * eVec[t][k][m] * nVec[t][k] for k in range(len(sVec[t]))]) / pop_size_t\n",
    "            for j in range(seq_length):\n",
    "                bb = int(muVec[j])\n",
    "                if bb != -1:\n",
    "                    xx[t,bb,aa] = np.sum([sVec[t][k][j] * eVec[t][k][n] * nVec[t][k] for k in range(len(sVec[t]))]) / pop_size_t\n",
    "                    xx[t,aa,bb] = np.sum([sVec[t][k][j] * eVec[t][k][n] * nVec[t][k] for k in range(len(sVec[t]))]) / pop_size_t\n",
    "    return x,xx\n",
    "\n",
    "# calculate escape frequency (binary case)\n",
    "def get_escape_fre_term(sVec,nVec):\n",
    "    ex  = np.zeros((len(nVec),ne,seq_length))\n",
    "    for t in range(len(nVec)):\n",
    "        pop_size_t = np.sum([nVec[t]])\n",
    "        for k in range(len(sVec[t])):\n",
    "            for n in range(ne):\n",
    "                n_mutations = 0\n",
    "                for nn in escape_group[n]:\n",
    "                    if sVec[t][k][nn] != 0:\n",
    "                        n_mutations += 1\n",
    "                        site = nn\n",
    "                if n_mutations == 1:\n",
    "                    ex[t,n,site] += nVec[t][k]\n",
    "        ex[t,:,:] = ex[t,:,:] / pop_size_t\n",
    "    return ex\n",
    "\n",
    "x,xx         = get_allele_frequency(sVec,nVec,eVec,muVec) \n",
    "covar_int    = sim.diffusion_matrix_at_t(x,xx,x_length)\n"
   ]
  },
  {
   "cell_type": "code",
   "execution_count": 79,
   "id": "967c7b17",
   "metadata": {},
   "outputs": [
    {
     "name": "stdout",
     "output_type": "stream",
     "text": [
      "1.6262595409181634e-07\n"
     ]
    }
   ],
   "source": [
    "gamma_1s      = 10/500 # gamma_s/time points\n",
    "gamma_1p      = gamma_1s/10\n",
    "gamma_2c      = 1000000       # 1000000\n",
    "gamma_2tv     = 500\n",
    "\n",
    "# regularization value gamma_1 and gamma_2\n",
    "# individual site: gamma_1s, escape group: gamma_1p\n",
    "gamma1_m = np.zeros((x_length,x_length))\n",
    "for i in range(x_length):\n",
    "    gamma1_m[i][i] = gamma_1s\n",
    "for n in range(ne):\n",
    "    nn = x_length-ne+n\n",
    "    gamma1_m[nn][nn] = gamma_1p\n",
    "\n",
    "# individual site: gamma_2c, escape group and special site: gamma_2tv\n",
    "gamma2 = np.ones(x_length)*gamma_2c\n",
    "for n in range(ne):\n",
    "    gamma2[x_length-ne+n] = gamma_2tv\n",
    "for i in range(len(p_sites)): # special site - time varying\n",
    "    index = int (muVec[p_sites[i]]) \n",
    "    if index != -1:\n",
    "        gamma2[index] = gamma_2tv\n",
    "\n",
    "A_matrix = np.zeros((x_length,x_length))\n",
    "for i in range(x_length):\n",
    "    for j in range(x_length):\n",
    "        A_matrix[i][j] = (np.average(covar_int[:,i,j])+gamma1_m[i,j])/gamma2[i]\n",
    "\n",
    "print(A_matrix[0,0])"
   ]
  },
  {
   "cell_type": "code",
   "execution_count": 46,
   "id": "d328a7f4",
   "metadata": {},
   "outputs": [],
   "source": [
    "d_value, Q_matrix = np.linalg.eig(A_matrix) # calculate the eigenvalues d_value and eigenvectors Q_matrix\n",
    "D_matrix = np.diag(d_value) # D is a diagonal matrix with the eigenvalues of A\n"
   ]
  },
  {
   "cell_type": "code",
   "execution_count": null,
   "id": "7dd01d95",
   "metadata": {},
   "outputs": [],
   "source": []
  },
  {
   "cell_type": "code",
   "execution_count": null,
   "id": "d6e673f5",
   "metadata": {},
   "outputs": [],
   "source": []
  },
  {
   "cell_type": "code",
   "execution_count": null,
   "id": "977a3639",
   "metadata": {},
   "outputs": [],
   "source": []
  },
  {
   "cell_type": "code",
   "execution_count": null,
   "id": "ed961680",
   "metadata": {},
   "outputs": [],
   "source": []
  }
 ],
 "metadata": {
  "kernelspec": {
   "display_name": "Python 3 (ipykernel)",
   "language": "python",
   "name": "python3"
  },
  "language_info": {
   "codemirror_mode": {
    "name": "ipython",
    "version": 3
   },
   "file_extension": ".py",
   "mimetype": "text/x-python",
   "name": "python",
   "nbconvert_exporter": "python",
   "pygments_lexer": "ipython3",
   "version": "3.10.9"
  }
 },
 "nbformat": 4,
 "nbformat_minor": 5
}
