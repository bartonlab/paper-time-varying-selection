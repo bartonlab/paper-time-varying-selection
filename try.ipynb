{
 "cells": [
  {
   "cell_type": "code",
   "execution_count": 1,
   "id": "d6ad701b",
   "metadata": {},
   "outputs": [
    {
     "name": "stdout",
     "output_type": "stream",
     "text": [
      "This notebook was prepared using:\n",
      "python version 3.10.9 | packaged by conda-forge | (main, Feb  2 2023, 20:26:08) [Clang 14.0.6 ]\n",
      "numpy version 1.24.2\n",
      "pandas version 1.5.3\n",
      "matplotlib version 3.7.1\n"
     ]
    }
   ],
   "source": [
    "print('This notebook was prepared using:')\n",
    "\n",
    "import os\n",
    "import sys\n",
    "print('python version %s' % sys.version)\n",
    "\n",
    "import numpy as np\n",
    "print('numpy version %s' % np.__version__)\n",
    "\n",
    "import pandas as pd\n",
    "print('pandas version %s' % pd.__version__)\n",
    "\n",
    "import math\n",
    "from math import isnan\n",
    "\n",
    "import matplotlib\n",
    "import matplotlib.cm as cm\n",
    "import matplotlib.pyplot as plt\n",
    "import matplotlib.gridspec as gridspec\n",
    "import matplotlib.image as mpimg\n",
    "print('matplotlib version %s' % matplotlib.__version__)\n",
    "\n",
    "import re\n",
    "import sys\n",
    "import argparse\n",
    "import scipy as sp\n",
    "import random\n",
    "\n",
    "from scipy import integrate\n",
    "import scipy.interpolate as sp_interpolate\n",
    "import statistics\n",
    "\n",
    "from dataclasses import dataclass\n",
    "import time as time_module\n",
    "\n",
    "import simulation as sim\n",
    "import importlib\n",
    "\n",
    "# GitHub directories\n",
    "HIV_DIR = 'data/HIV'\n",
    "MPL_DIR = 'src/MPL'\n",
    "SIM_DIR = 'data/simulation'\n",
    "FIG_DIR = 'figures'"
   ]
  },
  {
   "cell_type": "code",
   "execution_count": null,
   "id": "ac2124ca-314f-462f-bc73-6ff80b05c298",
   "metadata": {},
   "outputs": [],
   "source": [
    "import importlib\n",
    "importlib.reload(fig)\n",
    "\n",
    "pdata = {                    \n",
    "    'HIV_DIR':   'data/HIV',\n",
    "    'FIG_DIR':   'figures',\n",
    "    'dirs':      ['output-cg','output-50','output-200'],               # input file name\n",
    "    'tag':       '703010256-3',\n",
    "    'epi_index': 1, \n",
    "    'epi_name':  'RN9',\n",
    "    'xtick_g':   [-350, 0,350,700, 1050],\n",
    "    'xtick':     [0,200,400,600,700],\n",
    "    'xminortick':[100,300,500],\n",
    "    'ytick':     [-0.05, 0, 0.10, 0.25],\n",
    "    'yminortick':[0.05,0.15,0.20],\n",
    "    'c_index':   0,\n",
    "    'savepdf':   False,}\n",
    "\n",
    "fig.plot_gamma_prime_HIV(**pdata)\n",
    "plt.show()\n",
    "\n",
    "\n",
    "# 'tags':       ['703010256-3','700010040-3'],\n",
    "#     'epi_indexes': [1,0], # index for epitope RN9 (1) and AR9 (0)\n",
    "# 'xtick':     [[0,200,400,600,700],[0,200,400,600]],\n",
    "    # 'xminortick':[[100,300,500],[100,300,500]],"
   ]
  },
  {
   "cell_type": "code",
   "execution_count": null,
   "id": "218e32f0-d273-4b23-96f7-345a4183b2f4",
   "metadata": {},
   "outputs": [],
   "source": [
    "import importlib\n",
    "importlib.reload(fig)\n",
    "\n",
    "pdata = {                    \n",
    "    'HIV_DIR':   'data/HIV',\n",
    "    'FIG_DIR':   'figures',\n",
    "    'dirs':      ['output-cg','output-50','output-200'],               # input file name\n",
    "    'tag':       '700010040-3',\n",
    "    'epi_index': 0, \n",
    "    'epi_name':  'AR9',\n",
    "    'xtick_g':   [-300, 0, 300, 600, 900],\n",
    "    'xtick':     [0,200,400,600],\n",
    "    'xminortick':[100,300,500],\n",
    "    'ytick':     [-0.05, 0, 0.10, 0.25],\n",
    "    'yminortick':[0.05,0.15,0.20],\n",
    "    'c_index':   1,\n",
    "    'savepdf':   False,}\n",
    "\n",
    "fig.plot_gamma_prime_HIV(**pdata)\n",
    "plt.show()\n"
   ]
  },
  {
   "cell_type": "code",
   "execution_count": null,
   "id": "dc2870d3-0c6d-424d-b081-8b4147cb8daa",
   "metadata": {},
   "outputs": [],
   "source": []
  },
  {
   "cell_type": "code",
   "execution_count": 43,
   "id": "91b1cbfd-db96-42fe-838a-98bc6a86b5d0",
   "metadata": {},
   "outputs": [
    {
     "name": "stdout",
     "output_type": "stream",
     "text": [
      "Original array: [  1   2   3   4   5   6   7   8   9  10  11  12  13  14  15  16  17  18\n",
      "  19  20  21  22  23  24  25  26  27  28  29  30  31  32  33  34  35  36\n",
      "  37  38  39  40  41  42  43  44  45  46  47  48  49  50  51  52  53  54\n",
      "  55  56  57  58  59  60  61  62  63  64  65  66  67  68  69  70  71  72\n",
      "  73  74  75  76  77  78  79  80  81  82  83  84  85  86  87  88  89  90\n",
      "  91  92  93  94  95  96  97  98  99 100]\n",
      "Selected numbers: [10, 50]\n",
      "Selected indices in original array: [9, 49]\n",
      "Remaining array: [ 8 58]\n",
      "New indices in remaining array: []\n"
     ]
    }
   ],
   "source": [
    "import numpy as np\n",
    "\n",
    "# 原始数组和选定数\n",
    "original_array = np.arange(1, 101)  # 从 1 到 1000 的有序数组\n",
    "# selected_numbers = [10, 50]\n",
    "\n",
    "# 随机去除 200 个数\n",
    "removed_numbers = np.random.choice(original_array, size=98, replace=False)\n",
    "remaining_array = np.setdiff1d(original_array, removed_numbers)\n",
    "\n",
    "# 确定选定数的原索引\n",
    "selected_indices = [np.where(original_array == num)[0][0] for num in selected_numbers]\n",
    "\n",
    "# 确定选定数的新索引（排除已移除的数）\n",
    "new_indices = [np.where(remaining_array == num)[0][0] for num in selected_numbers if num in remaining_array]\n",
    "\n",
    "print(\"Original array:\", original_array)\n",
    "print(\"Selected numbers:\", selected_numbers)\n",
    "print(\"Selected indices in original array:\", selected_indices)\n",
    "print(\"Remaining array:\", remaining_array)\n",
    "print(\"New indices in remaining array:\", new_indices)"
   ]
  },
  {
   "cell_type": "code",
   "execution_count": 45,
   "id": "f905cff1-17eb-461a-b89c-3f6015146cb4",
   "metadata": {},
   "outputs": [
    {
     "name": "stdout",
     "output_type": "stream",
     "text": [
      "[[2, 3], [2], [4, 5, 67]]\n",
      "[[8, 3], [2], [4, 5, 67]]\n"
     ]
    },
    {
     "data": {
      "text/plain": [
       "1"
      ]
     },
     "execution_count": 45,
     "metadata": {},
     "output_type": "execute_result"
    }
   ],
   "source": []
  },
  {
   "cell_type": "code",
   "execution_count": 5,
   "id": "9bac8af8-42bd-4a12-a73a-5e803f1528fe",
   "metadata": {},
   "outputs": [],
   "source": [
    "from scipy.interpolate import interp1d\n",
    "def get_mut_flux_at_t(x,ex,muVec):\n",
    "    flux = np.zeros(x_length)\n",
    "    for i in range(seq_length):\n",
    "        for a in range(q):\n",
    "            aa = int(muVec[i][a])\n",
    "            if aa != -1:\n",
    "                for b in range(q):\n",
    "                    bb = int(muVec[i][b])\n",
    "                    if b != a:\n",
    "                        if bb != -1:\n",
    "                            flux[aa] +=  muMatrix[b][a] * x[bb] - muMatrix[a][b] * x[aa]\n",
    "                        else:\n",
    "                            flux[aa] += -muMatrix[a][b] * x[aa]\n",
    "    for n in range(ne):\n",
    "        for nn in range(len(escape_group[n])):\n",
    "            for a in range(q):\n",
    "                WT = escape_TF[n][nn]\n",
    "                index = escape_group[n][nn]\n",
    "                if a not in WT:\n",
    "                    for b in WT:\n",
    "                        flux[x_length-ne+n] += muMatrix[b][a] * (1 - x[x_length-ne+n]) - muMatrix[a][b] * ex[index,a]\n",
    "    return flux\n",
    "\n",
    "# calculate recombination flux term at time t\n",
    "def get_rec_flux_at_t(r_rates, p_wt, p_mut_k, trait_dis):\n",
    "    flux = np.zeros(x_length)\n",
    "    for n in range(ne):\n",
    "        fluxIn  = 0\n",
    "        fluxOut = 0\n",
    "\n",
    "        for nn in range(len(escape_group[n])-1):\n",
    "            k_index = escape_group[n][0]+nn\n",
    "            fluxIn  += trait_dis[n][nn] * p_wt[n]*p_mut_k[k_index][0]\n",
    "            fluxOut += trait_dis[n][nn] * p_mut_k[k_index][1]*p_mut_k[k_index][2]\n",
    "        \n",
    "        flux[x_length-ne+n] = r_rates * (fluxIn - fluxOut)\n",
    "\n",
    "    return flux\n",
    "\n",
    "# calculate diffusion matrix C at time t\n",
    "def diffusion_matrix_at_t(x,xx):\n",
    "    x_length = len(x)\n",
    "    C = np.zeros([x_length,x_length])\n",
    "    for i in range(x_length):\n",
    "        C[i,i] = x[i] - x[i] * x[i]\n",
    "        for j in range(int(i+1) ,x_length):\n",
    "            C[i,j] = xx[i,j] - x[i] * x[j]\n",
    "            C[j,i] = xx[i,j] - x[i] * x[j]\n",
    "    return C\n",
    "        \n",
    "# calculate the frequency change at all times\n",
    "def cal_delta_x(single_freq,times):\n",
    "\n",
    "    delta_x  = np.zeros((len(single_freq),x_length))   # difference between the frequency at time t and time t-1s\n",
    "    # calculate by np.gradient function\n",
    "    # for ii in range(x_length):\n",
    "    #     delta_x[:,ii] = np.gradient(single_freq.T[ii],times)\n",
    "\n",
    "    # calculate manually\n",
    "    for t in range(len(single_freq)-1):\n",
    "        delta_x[t] = (single_freq[t+1] - single_freq[t])/(times[t+1]-times[t])\n",
    "\n",
    "    # dt for the last time point, make sure the expected x[t+1] is less than 1\n",
    "    dt_last = times[-1] - times[-2]\n",
    "    for ii in range(x_length):\n",
    "        if single_freq[-1,ii] + delta_x[-2,ii]*dt_last> 1:\n",
    "            delta_x[-1,ii] = (1 - single_freq[-1,ii])/dt_last\n",
    "        else:\n",
    "            delta_x[-1,ii] = delta_x[-2,ii]\n",
    "\n",
    "    return delta_x\n",
    "\n",
    "tag = '700010040-3'\n",
    "rawdata  = np.load('%s/rawdata/rawdata_%s.npz'%(HIV_DIR,tag), allow_pickle=True)\n",
    "# information for individual sites\n",
    "x            = rawdata['single_freq']\n",
    "xx           = rawdata['double_freq']\n",
    "ex           = rawdata['escape_freq']\n",
    "muVec        = rawdata['muVec']\n",
    "sample_times = rawdata['sample_times']\n",
    "seq_length   = rawdata['seq_length']\n",
    "r_rates = rawdata['r_rates']\n",
    "\n",
    "# information for escape group\n",
    "p_wt         = rawdata['p_wt_freq']\n",
    "p_mut_k      = rawdata['p_mut_k_freq']\n",
    "p_sites      = rawdata['special_sites']\n",
    "escape_group = rawdata['escape_group'].tolist()\n",
    "escape_TF    = rawdata['escape_TF'].tolist()\n",
    "trait_dis    = rawdata['trait_dis'].tolist()\n",
    "\n",
    "ne           = len(escape_group)\n",
    "x_length     = len(x[0])\n",
    "\n",
    "# get dx\n",
    "delta_x_raw = cal_delta_x(x, sample_times)\n",
    "\n",
    "# Use linear interpolates to get the input arrays at any given time point\n",
    "interp_x   = interp1d(sample_times, x, axis=0, kind='linear', bounds_error=False, fill_value=0)\n",
    "interp_xx  = interp1d(sample_times, xx, axis=0, kind='linear', bounds_error=False, fill_value=0)\n",
    "if ne > 0:\n",
    "    interp_ex  = interp1d(sample_times, ex, axis=0, kind='linear', bounds_error=False, fill_value=0)\n",
    "interp_wt  = interp1d(sample_times, p_wt, axis=0, kind='linear', bounds_error=False, fill_value=0)\n",
    "interp_mut = interp1d(sample_times, p_mut_k, axis=0, kind='linear', bounds_error=False, fill_value=0)\n",
    "interp_dx  = interp1d(sample_times, delta_x_raw, axis=0, kind='linear', bounds_error=False, fill_value=0)\n",
    "interp_r   = interp1d(sample_times, r_rates, kind='linear', bounds_error=False, fill_value=0)\n",
    "\n",
    "q = 5\n",
    "muMatrix = np.loadtxt(\"%s/Zanini-extended.dat\"%HIV_DIR)\n"
   ]
  },
  {
   "cell_type": "code",
   "execution_count": 8,
   "id": "e0e5701e-bcac-46fa-99eb-bc4b51290774",
   "metadata": {},
   "outputs": [
    {
     "name": "stdout",
     "output_type": "stream",
     "text": [
      "Memory Usage: 141.296875 MB\n"
     ]
    }
   ],
   "source": [
    "import psutil\n",
    "import os\n",
    "\n",
    "process = psutil.Process(os.getpid())\n",
    "print(f\"Memory Usage: {process.memory_info().rss / 1024 ** 2} MB\")  # RSS: Resident Set Size"
   ]
  },
  {
   "cell_type": "code",
   "execution_count": 133,
   "id": "284abdd1-885e-4161-8925-c5a3d10a466a",
   "metadata": {},
   "outputs": [],
   "source": [
    "def insert_time(arr, allowed_gaps=(7, 8, 9, 10, 11, 12, 13)):\n",
    "    \"\"\"\n",
    "    Insert values into an array, ensuring the difference between adjacent values \n",
    "    is within the allowed_gaps range as evenly distributed as possible.\n",
    "    \"\"\"\n",
    "    result = []\n",
    "\n",
    "    for i in range(len(arr) - 1):\n",
    "        result.append(arr[i])  # add current value\n",
    "        diff = arr[i+1] - arr[i]\n",
    "        \n",
    "        if diff < max(allowed_gaps):\n",
    "            continue\n",
    "\n",
    "        while diff > max(allowed_gaps):\n",
    "            # choose the gap that is closest to 10\n",
    "            if diff % 10 == 0:\n",
    "                step = diff/10\n",
    "            else:\n",
    "                step = (diff // 10) + 1\n",
    "            gap = min(allowed_gaps, key=lambda x: abs(x - diff / step))\n",
    "            next_value = result[-1] + gap\n",
    "            result.append(next_value)\n",
    "            diff = arr[i+1] - next_value  # update the remaining difference\n",
    "        \n",
    "        # check if the last gap is in the allowed_gaps\n",
    "        if diff not in allowed_gaps:\n",
    "            print(f\"Warning: the gap between {result[-1]} and {arr[i+1]} is not in the allowed_gaps range.\")\n",
    "        \n",
    "    # Add the last value\n",
    "    if result[-1] != arr[-1]:\n",
    "        result.append(arr[-1])\n",
    "\n",
    "    return np.array(result)\n",
    "\n",
    "\n",
    "def get_ExTimes(times):\n",
    "    t_extend = int(round(times[-1]*0.5/10)*10)\n",
    "    if t_extend <= 10:\n",
    "        time_step = 5\n",
    "    elif t_extend <= 30:\n",
    "        time_step = 10\n",
    "    elif t_extend <= 100:\n",
    "        time_step = 20\n",
    "    elif t_extend <= 300:\n",
    "        time_step = 50\n",
    "    else:\n",
    "        time_step = 100\n",
    "\n",
    "    etleft  = np.arange(-t_extend, 0, time_step)\n",
    "    etright = np.arange(times[-1]+time_step,times[-1]+t_extend,time_step)\n",
    "    if times[-1]+t_extend - etright[-1]  < time_step/2:\n",
    "        etright[-1] = times[-1]+t_extend\n",
    "    else:\n",
    "        etright = np.append(etright, times[-1]+t_extend)\n",
    "    ExTimes = np.concatenate((etleft, times, etright))\n",
    "    \n",
    "    return ExTimes\n",
    "\n",
    "# extend the time range\n",
    "interp_times = insert_time(sample_times)\n",
    "ExTimes  = get_ExTimes(interp_times)"
   ]
  },
  {
   "cell_type": "code",
   "execution_count": 134,
   "id": "a5b71ef7-4a3f-4f1e-abd7-2d4206da8f22",
   "metadata": {},
   "outputs": [],
   "source": [
    "def get_gamma1(last_time):\n",
    "    # individual site: gamma_1s, escape group: gamma_1p\n",
    "    gamma_1 = 10\n",
    "    gamma_1s = round(gamma_1/last_time,3) # constant MPL gamma value / max time\n",
    "    gamma_1p = gamma_1s/10\n",
    "    \n",
    "    gamma1   = np.ones(x_length)*gamma_1s\n",
    "    for n in range(ne):\n",
    "        gamma1[x_length-ne+n] = gamma_1p\n",
    "    \n",
    "    return gamma1\n",
    "\n",
    "def get_gamma2(last_time, beta):\n",
    "    # Use a time-varying gamma_prime, gamma_2tv is the middle value, \n",
    "    # boundary value is 4 times larger, decrese/increase exponentially within 10% generation.\n",
    "    gamma_t = np.ones(len(ExTimes))\n",
    "    tv_range = max(int(round(last_time*0.1/10)*10),1)\n",
    "    alpha  = np.log(beta) / tv_range\n",
    "    for ti, t in enumerate(ExTimes): # loop over all time points, ti: index, t: time\n",
    "        if t <= 0:\n",
    "            gamma_t[ti] = beta\n",
    "        elif t >= last_time:\n",
    "            gamma_t[ti] = beta\n",
    "        elif 0 < t and t <= tv_range:\n",
    "            gamma_t[ti] = beta * np.exp(-alpha * t)\n",
    "        elif last_time - tv_range < t and t <= last_time:\n",
    "            gamma_t[ti] = 1 * np.exp(alpha * (t - last_time + tv_range))\n",
    "        else:\n",
    "            gamma_t[ti] = 1\n",
    "    \n",
    "    gamma2 = np.ones((x_length,len(ExTimes)))* 1000000\n",
    "    for i in range(x_length):\n",
    "        if i in p_sites:\n",
    "            for qq in range(len(NUC)):\n",
    "                index = int (muVec[i][qq]) \n",
    "                if index != -1:\n",
    "                    gamma2[index] = gamma_t * 50\n",
    "        \n",
    "        if i >= x_length-ne:\n",
    "            gamma2[i] = gamma_t * 50\n",
    "\n",
    "    # # Use a constant gamma_2tv\n",
    "    # gamma2 = np.ones(x_length)*gamma_2c\n",
    "    # for n in range(ne): # binary trait\n",
    "    #     gamma2[x_length-ne+n] = gamma_2tv\n",
    "    # for p_site in p_sites: # special site\n",
    "    #     for qq in range(len(NUC)):\n",
    "    #         index = int (muVec[p_site][qq]) \n",
    "    #         if index != -1:\n",
    "    #             gamma2[index] = gamma_2tv\n",
    "\n",
    "    return gamma2.T\n",
    "\n",
    "gamma_1 = get_gamma1(sample_times[-1])\n",
    "gamma_2 = get_gamma2(sample_times[-1],4.0)"
   ]
  },
  {
   "cell_type": "code",
   "execution_count": 135,
   "id": "53398cb8-c678-40bf-8630-64fc72eac898",
   "metadata": {},
   "outputs": [
    {
     "name": "stdout",
     "output_type": "stream",
     "text": [
      "(182,)\n",
      "(182,)\n",
      "(182,)\n",
      "(182,)\n",
      "(182,)\n",
      "(182,)\n",
      "(182,)\n",
      "(182,)\n",
      "(182,)\n",
      "(182,)\n"
     ]
    }
   ],
   "source": [
    "interp_g2  = interp1d(ExTimes, gamma_2, axis=0, kind='linear', bounds_error=False, fill_value=0)\n",
    "single_freq = interp_x(interp_times)\n",
    "double_freq = interp_xx(interp_times)\n",
    "escape_freq = interp_ex(interp_times) if ne > 0 else 0\n",
    "p_wt_freq = interp_wt(interp_times)\n",
    "p_mut_k = interp_mut(interp_times)\n",
    "r_rate = interp_r(interp_times)\n",
    "delta_x = interp_dx(interp_times)\n",
    "gamma2     = interp_g2(interp_times)\n",
    "\n",
    "x_length = len(x[0])\n",
    "s1 = np.ones((x_length, len(interp_times)))\n",
    "ss_extend = np.zeros((2*x_length,len(interp_times)))\n",
    "\n",
    "# s2'(t) = A(t)s1(t) + b(t)\n",
    "for ti, t in enumerate(interp_times): # loop over all time points, ti: index, t: time\n",
    "\n",
    "    if t < 0 or t > sample_times[-1]:\n",
    "        # outside the range, only gamma\n",
    "        A_t = np.diag(gamma_1)\n",
    "        b_t = np.zeros((x_length,1))\n",
    "\n",
    "    else:\n",
    "        # calculate the frequency at time t\n",
    "        # calculate A(t) = C(t) + gamma_1 * I\n",
    "        C_t = diffusion_matrix_at_t(single_freq[ti], double_freq[ti]) # covariance matrix\n",
    "        A_t = C_t + np.diag(gamma_1)\n",
    "\n",
    "        # calculate b(t)\n",
    "        flux_mu  = get_mut_flux_at_t(single_freq[ti], escape_freq[ti], muVec)\n",
    "        flux_rec = get_rec_flux_at_t(r_rate[ti], p_wt_freq[ti], p_mut_k[ti], trait_dis)\n",
    "        b_t      = flux_mu + flux_rec - delta_x[ti]\n",
    "\n",
    "        print((A_t @ ss_extend[:x_length, ti]/ gamma2[ti] + b_t / gamma2[ti]).shape)\n",
    "        \n"
   ]
  },
  {
   "cell_type": "code",
   "execution_count": 111,
   "id": "ca6fd807-2bbc-46b3-8820-1f64adfc5484",
   "metadata": {},
   "outputs": [
    {
     "name": "stdout",
     "output_type": "stream",
     "text": [
      "(5,)\n"
     ]
    }
   ],
   "source": [
    "print(np.zeros(5).shape)"
   ]
  },
  {
   "cell_type": "code",
   "execution_count": 6,
   "id": "8fa470c8",
   "metadata": {},
   "outputs": [],
   "source": [
    "L = 2\n",
    "sample_times = [ 0, 10]\n",
    "a = np.random.rand(len(sample_times),L,L)\n",
    "b = np.random.rand(len(sample_times),L)\n",
    "\n",
    "interp_a  = interp1d(sample_times, a, axis=0, kind='linear', bounds_error=False, fill_value=0)\n",
    "interp_b  = interp1d(sample_times, b, axis=0, kind='linear', bounds_error=False, fill_value=0)\n",
    "\n",
    "Extimes = [0,1,2,3,4,5,6,7,8,9,10]\n"
   ]
  },
  {
   "cell_type": "code",
   "execution_count": 33,
   "id": "d4c1f486",
   "metadata": {},
   "outputs": [
    {
     "name": "stdout",
     "output_type": "stream",
     "text": [
      "[ 0.  1.  2.  3.  4.  5.  6.  7.  8.  9. 10.]\n",
      "[ 0.  1.  2.  3.  4.  5.  6.  7.  8.  9. 10.]\n",
      "[0.5 1.5 2.5 3.5 4.5 5.5 6.5 7.5 8.5 9.5]\n",
      "[ 0.  1.  2.  3.  4.  5.  6.  7.  8.  9. 10.]\n",
      "[ 0.  1.  2.  3.  4.  5.  6.  7.  8.  9. 10.]\n",
      "[ 0.  1.  2.  3.  4.  5.  6.  7.  8.  9. 10.]\n",
      "[ 0.  1.  2.  3.  4.  5.  6.  7.  8.  9. 10.]\n",
      "[0.5 1.5 2.5 3.5 4.5 5.5 6.5 7.5 8.5 9.5]\n",
      "[0.5 1.5 2.5 3.5 4.5 5.5 6.5 7.5 8.5 9.5]\n",
      "[0.5 1.5 2.5 3.5 4.5 5.5 6.5 7.5 8.5 9.5]\n",
      "[0.5 1.5 2.5 3.5 4.5 5.5 6.5 7.5 8.5 9.5]\n",
      "[ 0.  1.  2.  3.  4.  5.  6.  7.  8.  9. 10.]\n",
      "[0.5 1.5 2.5 3.5 4.5 5.5 6.5 7.5 8.5 9.5]\n",
      "[ 0.  1.  2.  3.  4.  5.  6.  7.  8.  9. 10.]\n",
      "[0.5 1.5 2.5 3.5 4.5 5.5 6.5 7.5 8.5 9.5]\n",
      "[0.82732684 1.82732684 2.82732684 3.82732684 4.82732684 5.82732684\n",
      " 6.82732684 7.82732684 8.82732684 9.82732684]\n",
      "[0.17267316 1.17267316 2.17267316 3.17267316 4.17267316 5.17267316\n",
      " 6.17267316 7.17267316 8.17267316 9.17267316]\n",
      "[ 0.  1.  2.  3.  4.  5.  6.  7.  8.  9. 10.]\n"
     ]
    }
   ],
   "source": [
    "import scipy.integrate as sp\n",
    "from scipy.interpolate import interp1d\n",
    "import numpy as np\n",
    "\n",
    "# 示例 A(x) 和 b(x)\n",
    "# def A(x):\n",
    "#     return np.array([[np.sin(x*10/np.pi), 0], [0, np.cos(x*10/np.pi)]])\n",
    "\n",
    "# def b(x):\n",
    "#     return np.array([np.sin(x*10/np.pi), np.cos(x*10/np.pi)])\n",
    "\n",
    "def fun_advanced(x, y):\n",
    "    s = y[:L, :]\n",
    "    v = y[L:, :]\n",
    "    dydx = np.zeros_like(y)\n",
    "\n",
    "    dydx[:L, :] = v\n",
    "    # for i, xi in enumerate(x):\n",
    "    #     print(xi)\n",
    "    #     dydx[L:, i] = bb[i] #+ AA[i] @ s[:, i]\n",
    "\n",
    "    for ix in range(len(x)):\n",
    "        print(x[ix])\n",
    "        dydx[L:, ix] = bb[ix] #+ AA[ix] @ s[:, ix]\n",
    "        \n",
    "    return dydx\n",
    "\n",
    "\n",
    "# AA = interp_a(Extimes)\n",
    "# bb = interp_b(Extimes)\n",
    "eval_count = 0\n",
    "\n",
    "def fun(x, y):\n",
    "    global eval_count\n",
    "    eval_count += 1\n",
    "    s = y[:L, :]\n",
    "    v = y[L:, :]\n",
    "    dydx = np.zeros_like(y)\n",
    "\n",
    "    dydx[:L, :] = v\n",
    "    for i, xi in enumerate(x):\n",
    "        A_x = interp_a(xi)\n",
    "        b_x = interp_b(xi)\n",
    "        dydx[L:, i] = A_x @ s[:, i] + b_x\n",
    "    # print(xi, end=',\\t')\n",
    "    # print(f'\\n {y[:2,:]}')\n",
    "    return dydx\n",
    "    \n",
    "def bc(ya, yb):\n",
    "    return np.ravel(np.array([ya[L:], yb[L:]]))\n",
    "\n",
    "y_guess = np.zeros((2*L, len(Extimes)))\n",
    "solution = sp.solve_bvp(fun, bc, Extimes, y_guess)\n",
    "\n",
    "print(solution.x)"
   ]
  },
  {
   "cell_type": "code",
   "execution_count": 31,
   "id": "ad1c425d-1e51-4c78-8a10-7717a0b5c844",
   "metadata": {},
   "outputs": [
    {
     "name": "stdout",
     "output_type": "stream",
     "text": [
      "The algorithm converged to the desired accuracy.\n",
      "17\n"
     ]
    }
   ],
   "source": [
    "print(solution.message)\n",
    "print(eval_count) "
   ]
  },
  {
   "cell_type": "code",
   "execution_count": 31,
   "id": "2316d614-7b59-4402-95fd-142c08d08bcf",
   "metadata": {},
   "outputs": [
    {
     "name": "stdout",
     "output_type": "stream",
     "text": [
      "v'(10): [ 0.26159804 -0.15315441]\n",
      "v_at_10: [ 0.261598   -0.15315443]\n"
     ]
    }
   ],
   "source": [
    "\n",
    "# 插值解\n",
    "x_interpolated = 7.5\n",
    "y_interpolated = solution.sol(x_interpolated)\n",
    "\n",
    "# 验证方程\n",
    "A_at_10 = interp_a(x_interpolated)\n",
    "b_at_10 = interp_b(x_interpolated)\n",
    "s_at_10 = y_interpolated[:2]\n",
    "v_at_10 = y_interpolated[2:]\n",
    "\n",
    "# 计算 v'(10) 并验证\n",
    "v_prime = A_at_10 @ s_at_10 + b_at_10\n",
    "print(\"v'(10):\", v_prime)\n",
    "\n",
    "\n",
    "# 插值解\n",
    "x_interpolated1 = x_interpolated + 0.000001\n",
    "y_interpolated1 = solution.sol(x_interpolated1)\n",
    "\n",
    "# 验证方程\n",
    "v_at_101 = y_interpolated1[2:]\n",
    "\n",
    "# 计算 v'(10) 并验证\n",
    "print(\"v_at_10:\", (v_at_101-v_at_10)/0.000001)"
   ]
  },
  {
   "cell_type": "code",
   "execution_count": 159,
   "id": "99dba7ef-e6da-43ee-b497-6087526e29a9",
   "metadata": {},
   "outputs": [
    {
     "name": "stdout",
     "output_type": "stream",
     "text": [
      "A @ b time: 0.002620 seconds\n",
      "np.sum(A * b, axis=1) time: 0.005391 seconds\n"
     ]
    }
   ],
   "source": [
    "import numpy as np\n",
    "import time\n",
    "\n",
    "# 示例数据\n",
    "A = np.random.rand(1000, 1000)  # 矩阵\n",
    "b = np.random.rand(1000)        # 向量\n",
    "\n",
    "# 测试 A @ b\n",
    "start_time = time.time()\n",
    "result1 = A @ b\n",
    "time1 = time.time() - start_time\n",
    "\n",
    "# 测试 np.sum(A * b, axis=1)\n",
    "start_time = time.time()\n",
    "result2 = np.sum(A * b, axis=1)\n",
    "time2 = time.time() - start_time\n",
    "\n",
    "# 输出时间对比\n",
    "print(f\"A @ b time: {time1:.6f} seconds\")\n",
    "print(f\"np.sum(A * b, axis=1) time: {time2:.6f} seconds\")"
   ]
  },
  {
   "cell_type": "code",
   "execution_count": 133,
   "id": "174910fa",
   "metadata": {},
   "outputs": [
    {
     "data": {
      "image/png": "[encoded data removed]",
      "text/plain": [
       "<Figure size 1000x600 with 1 Axes>"
      ]
     },
     "metadata": {},
     "output_type": "display_data"
    }
   ],
   "source": [
    "sample_times = np.linspace(0, 100, 11) \n",
    "ExTimes = np.concatenate(([-50], sample_times, [150]))\n",
    "\n",
    "gamma_t = np.ones(len(ExTimes))\n",
    "tv_range = max(int(round(sample_times[-1]*0.1/10)*10),1)\n",
    "alpha  = np.log(4) / tv_range\n",
    "for i, ti in enumerate(ExTimes): # loop over all time points, i: index, ti: time\n",
    "    if ti <= 0:\n",
    "        gamma_t[i] = 4\n",
    "    elif ti >= sample_times[-1]:\n",
    "        gamma_t[i] = 4\n",
    "    elif 0 < ti and ti <= tv_range:\n",
    "        gamma_t[i] = 4 * np.exp(-alpha * ti)\n",
    "    elif sample_times[-1]-tv_range < ti and ti <= sample_times[-1]:\n",
    "        gamma_t[i] = 1 * np.exp(alpha * (ti-sample_times[-1]+tv_range))\n",
    "    else:\n",
    "        gamma_t[i] = 1\n",
    "\n",
    "\n",
    "plt.figure(figsize=(10, 6))\n",
    "plt.plot(ExTimes, gamma_t, label=\"gamma_prime\")\n",
    "plt.title(\"Plot of gamma_prime\")\n",
    "plt.xlabel(\"t\")\n",
    "plt.ylabel(\"gamma_prime\")\n",
    "plt.grid(True)\n",
    "plt.show()\n"
   ]
  },
  {
   "cell_type": "code",
   "execution_count": 142,
   "id": "26674155-3d47-46e2-b07a-32c2fb681c8c",
   "metadata": {},
   "outputs": [
    {
     "name": "stdout",
     "output_type": "stream",
     "text": [
      "[ 0.          0.27777778  0.55555556  0.83333333  1.11111111  1.38888889\n",
      "  1.66666667  1.94444444  2.22222222  2.36111111  2.5         2.77777778\n",
      "  3.05555556  3.19444444  3.33333333  3.61111111  3.75        3.88888889\n",
      "  4.02777778  4.16666667  4.44444444  4.58333333  4.72222222  4.86111111\n",
      "  5.          5.27777778  5.55555556  5.83333333  6.11111111  6.38888889\n",
      "  6.66666667  6.94444444  7.22222222  7.5         7.77777778  8.05555556\n",
      "  8.33333333  8.61111111  8.88888889  9.16666667  9.44444444  9.72222222\n",
      "  9.86111111 10.        ]\n"
     ]
    }
   ],
   "source": [
    "import numpy as np\n",
    "import scipy.integrate as sp\n",
    "\n",
    "\n",
    "def A(x):\n",
    "    return np.array([[np.sin(x), 0], [0, np.cos(x)]])\n",
    "\n",
    "def b(x):\n",
    "    return np.array([np.sin(2 * x), np.cos(2 * x)])\n",
    "\n",
    "def fun(x, y):\n",
    "    L = len(y) // 2\n",
    "    s = y[:L, :]\n",
    "    v = y[L:, :]\n",
    "    dydx = np.zeros_like(y)\n",
    "\n",
    "    dydx[:L, :] = v  # s'(x) = v(x)\n",
    "    for i, xi in enumerate(x):\n",
    "        dydx[L:, i] = A(xi) @ s[:, i] + b(xi)  # v'(x) = A(x)s(x) + b(x)\n",
    "\n",
    "    return dydx\n",
    "\n",
    "# def bc(ya, yb):\n",
    "#     L = len(ya) // 2\n",
    "#     cond = np.zeros(2 * L)\n",
    "#     cond[:L] = ya[:L] - np.array([1, 0])  # s(0) = [1, 0]\n",
    "#     cond[L:] = yb[:L] - np.array([0, 0])  # s(50) = [0, 0]\n",
    "#     return cond\n",
    "\n",
    "def bc(ya, yb):\n",
    "    # Neumann boundary condition\n",
    "    L = len(ya) // 2\n",
    "    return np.ravel(np.array([ya[L:],yb[L:]])) # s' = 0 at the extended endpoints\n",
    "\n",
    "# 初始时间点和猜测\n",
    "x = np.array([0, 10])  # 初始点\n",
    "y_guess = np.zeros((4, len(x)))  # 假设 L=2\n",
    "solution = sp.solve_bvp(fun, bc, x, y_guess)\n",
    "print(solution.x)"
   ]
  },
  {
   "cell_type": "code",
   "execution_count": 143,
   "id": "a8ff6460-d965-4fba-8158-84b80b2cd6b4",
   "metadata": {},
   "outputs": [
    {
     "name": "stdout",
     "output_type": "stream",
     "text": [
      "s(10): [-0.65340606 -0.05730776]\n",
      "s'(10): [0.09948078 0.31892202]\n",
      "s''(10) (from A(10) * s(10) + b(10)): [0.46290779 0.64392277]\n"
     ]
    }
   ],
   "source": [
    "# 插值点\n",
    "test_x = 0.4\n",
    "s_10 = solution.sol(test_x)[:2]  # 解 s(10)\n",
    "v_10 = solution.sol(test_x)[2:]  # 解 s'(10)\n",
    "\n",
    "# 手动验证方程\n",
    "A_10 = A(test_x)\n",
    "b_10 = b(test_x)\n",
    "v_prime_10 = A_10 @ s_10 + b_10\n",
    "\n",
    "print(f\"s(10): {s_10}\")\n",
    "print(f\"s'(10): {v_10}\")\n",
    "print(f\"s''(10) (from A(10) * s(10) + b(10)): {v_prime_10}\")"
   ]
  },
  {
   "cell_type": "code",
   "execution_count": 145,
   "id": "873c18d9-3fd3-4990-9b73-39f677d44698",
   "metadata": {},
   "outputs": [
    {
     "name": "stdout",
     "output_type": "stream",
     "text": [
      "s''(10) : [0.46308885 0.64375097]\n"
     ]
    }
   ],
   "source": [
    "# 插值点\n",
    "test_x = 0.40001  \n",
    "v_10_01 = solution.sol(test_x)[2:]  # 解 s'(10)\n",
    "\n",
    "# 手动验证方程\n",
    "v_prime_10 = (v_10_01-v_10)/0.00001\n",
    "\n",
    "print(f\"s''(10) : {v_prime_10}\")"
   ]
  },
  {
   "cell_type": "code",
   "execution_count": 194,
   "id": "81045754",
   "metadata": {},
   "outputs": [],
   "source": [
    "const_num = 6\n",
    "output = '_ll_11'\n",
    "# Neumann boundary condition\n",
    "f = open('%s/simple/mpl_collected%s.csv'%(SIM_DIR,output),'w')\n",
    "f.write('trajectory,ns,delta_t')\n",
    "for i in range(const_num):\n",
    "    f.write(',sc_%d'%i)\n",
    "f.write('\\n')\n",
    "\n",
    "for k in range(100):\n",
    "    name = str(k)\n",
    "    data_full   = np.load('%s/simple/output%s/c_%s.npz'%(SIM_DIR,output,name), allow_pickle=\"True\")\n",
    "    sc_full     = data_full['selection']\n",
    "    TimeVaryingSC = [np.average(sc_full[i]) for i in range(const_num)]\n",
    "    f.write('%d,1000,1'%k)\n",
    "    for i in range(const_num):\n",
    "        f.write(',%f'%TimeVaryingSC[i])\n",
    "    f.write('\\n')\n",
    "f.close()"
   ]
  },
  {
   "cell_type": "code",
   "execution_count": 189,
   "id": "602c5278",
   "metadata": {},
   "outputs": [
    {
     "name": "stdout",
     "output_type": "stream",
     "text": [
      "2.8284271247461903\n"
     ]
    }
   ],
   "source": [
    "ratio = 0.2\n",
    "alpha  = np.log(beta) / (ratio*1000)\n",
    "gamma =  np.exp(alpha * 150)\n",
    "print(gamma)"
   ]
  },
  {
   "cell_type": "code",
   "execution_count": 35,
   "id": "2c8fbf30",
   "metadata": {},
   "outputs": [],
   "source": [
    "times = [0,2,5,6,10,12,15,18,25,32,40,80,85,88,90,92,93,95,96,97,98]\n",
    "# extend the time range\n",
    "theta = 0.1\n",
    "TLeft   = int(round(times[-1]*theta/10)*10)\n",
    "TRight  = int(round(times[-1]*theta/10)*10)\n",
    "ex_gap  = int(theta*20)\n",
    "etleft  = np.linspace(-TLeft,-ex_gap,int(TLeft/ex_gap))\n",
    "etright = np.linspace(times[-1]+ex_gap,times[-1]+TRight,int(TRight/ex_gap))\n",
    "ExTimes = np.concatenate((etleft, times, etright))"
   ]
  },
  {
   "cell_type": "code",
   "execution_count": 37,
   "id": "c4ba582b",
   "metadata": {},
   "outputs": [
    {
     "data": {
      "image/png": "[encoded data removed]",
      "text/plain": [
       "<Figure size 1000x600 with 1 Axes>"
      ]
     },
     "metadata": {},
     "output_type": "display_data"
    }
   ],
   "source": [
    "# regularization value gamma_1 and gamma_2\n",
    "\n",
    "# gamma 2 is also time varying, it is larger at the boundary\n",
    "gamma_t = np.zeros(len(ExTimes))\n",
    "tv_range = int(round(times[-1]*0.1/10)*10)\n",
    "alpha1  = np.log(4) / tv_range\n",
    "alpha2  = np.log(4) / tv_range\n",
    "for t in range(len(ExTimes)):\n",
    "    if ExTimes[t] <= 0:\n",
    "        gamma_t[t] = 4\n",
    "    elif ExTimes[t] >= times[-1]:\n",
    "        gamma_t[t] = 4\n",
    "    elif 0 < ExTimes[t] and ExTimes[t] <= tv_range:\n",
    "        gamma_t[t] = 4 * np.exp(-alpha1 * ExTimes[t])\n",
    "    elif times[-1]-tv_range <= ExTimes[t] and ExTimes[t] < times[-1]:\n",
    "        gamma_t[t] = 1 * np.exp(alpha2 * (ExTimes[t]-times[-1]+tv_range))\n",
    "    else:\n",
    "        gamma_t[t] = 1\n",
    "\n",
    "plt.figure(figsize=(10, 6))\n",
    "plt.plot(ExTimes, gamma_t, label=\"gamma_prime\")\n",
    "plt.title(\"Plot of gamma_prime\")\n",
    "plt.xlabel(\"t\")\n",
    "plt.ylabel(\"gamma_prime\")\n",
    "plt.grid(True)\n",
    "plt.show()\n"
   ]
  },
  {
   "cell_type": "code",
   "execution_count": null,
   "id": "c62eca15",
   "metadata": {},
   "outputs": [],
   "source": []
  },
  {
   "cell_type": "code",
   "execution_count": null,
   "id": "c09b6d90",
   "metadata": {},
   "outputs": [],
   "source": []
  },
  {
   "cell_type": "code",
   "execution_count": null,
   "id": "8ed44ad4",
   "metadata": {},
   "outputs": [],
   "source": []
  },
  {
   "cell_type": "code",
   "execution_count": 39,
   "id": "af9587ff",
   "metadata": {},
   "outputs": [
    {
     "data": {
      "image/png": "[encoded data removed]",
      "text/plain": [
       "<Figure size 1000x600 with 1 Axes>"
      ]
     },
     "metadata": {},
     "output_type": "display_data"
    }
   ],
   "source": [
    "import numpy as np\n",
    "import matplotlib.pyplot as plt\n",
    "\n",
    "totalT = 1000\n",
    "times = np.linspace(0,totalT,totalT+1)\n",
    "\n",
    "TLeft   = int(round(times[-1]*0.5/10)*10) # time range added before the beginning time\n",
    "TRight  = int(round(times[-1]*0.5/10)*10) # time range added after the ending time\n",
    "etleft  = np.linspace(-TLeft,-5,int(TLeft/5)) # time added before the beginning time (dt=10)\n",
    "etright = np.linspace(times[-1]+5,times[-1]+TRight,int(TRight/5))\n",
    "ExTimes = np.concatenate((etleft, times, etright))\n",
    "\n",
    "\n",
    "        \n",
    "# 绘图\n",
    "plt.figure(figsize=(10, 6))\n",
    "plt.plot(ExTimes, gamma_t, label=\"gamma_prime\")\n",
    "plt.title(\"Plot of gamma_prime\")\n",
    "plt.xlabel(\"t\")\n",
    "plt.ylabel(\"gamma_prime\")\n",
    "plt.grid(True)\n",
    "plt.show()"
   ]
  },
  {
   "cell_type": "code",
   "execution_count": 40,
   "id": "e4580c66",
   "metadata": {},
   "outputs": [
    {
     "data": {
      "text/plain": [
       "2"
      ]
     },
     "execution_count": 40,
     "metadata": {},
     "output_type": "execute_result"
    }
   ],
   "source": [
    "max(0,2)"
   ]
  },
  {
   "cell_type": "code",
   "execution_count": 52,
   "id": "6695e85b",
   "metadata": {},
   "outputs": [],
   "source": [
    "interpolation = lambda a,b: sp_interpolate.interp1d(a,b,kind='linear')\n",
    "\n",
    "def interpolator_x(single_freq, double_freq, current_times, result_times):\n",
    "    single_freq_temp = np.zeros((len(result_times),x_length))\n",
    "    double_freq_temp = np.zeros((len(result_times),x_length,x_length))\n",
    "\n",
    "    for i in range(x_length):\n",
    "        single_freq_temp[:,i] = interpolation(current_times, single_freq[:,i])(result_times)\n",
    "        for j in range(x_length):\n",
    "            double_freq_temp[:,i,j] = interpolation(current_times, double_freq[:,i,j])(result_times)\n",
    "\n",
    "    return single_freq_temp, double_freq_temp\n",
    "\n",
    "def interpolator_ex(escape_freq, current_times, result_times):\n",
    "    if ne != 0:\n",
    "        escape_freq_temp  = np.zeros((len(result_times),ne,seq_length,q))\n",
    "    else: # if there is no escape group, return 0\n",
    "        escape_freq_temp  = []\n",
    "\n",
    "    for n in range(ne):\n",
    "        for i in range(seq_length):\n",
    "            for a in range(q):\n",
    "                escape_freq_temp[:,n,i,a] = interpolation(current_times, escape_freq[:,n,i,a])(result_times)\n",
    "\n",
    "    return escape_freq_temp\n",
    "\n",
    "def interpolator_p(p_wt, p_mut_k, current_times, result_times):\n",
    "    wt_temp    = np.zeros((len(result_times),ne))\n",
    "    mut_k_temp = np.zeros((len(result_times),seq_length,3))\n",
    "    # interpolation for wild type frequency\n",
    "    for n in range(ne):\n",
    "        wt_temp[:,n] = interpolation(current_times, p_wt[:,n])(result_times)\n",
    "\n",
    "    # interpolation for frequency related to recombination part\n",
    "    for i in range(seq_length):\n",
    "        for j in range(3):\n",
    "            mut_k_temp[:,i,j] = interpolation(current_times, p_mut_k[:,i,j])(result_times)\n",
    "    \n",
    "    return wt_temp, mut_k_temp\n",
    "\n",
    "def diffusion_matrix_at_t(x,xx):\n",
    "    x_length = len(x[0])\n",
    "    C = np.zeros([len(x),x_length,x_length])\n",
    "    for t in range(len(x)):\n",
    "        for i in range(x_length):\n",
    "            C[t,i,i] = x[t,i] - x[t,i] * x[t,i]\n",
    "            for j in range(int(i+1) ,x_length):\n",
    "                C[t,i,j] = xx[t,i,j] - x[t,i] * x[t,j]\n",
    "                C[t,j,i] = xx[t,i,j] - x[t,i] * x[t,j]\n",
    "    return C\n",
    "\n",
    "def get_mutation_flux(x,ex,muVec):\n",
    "    flux = np.zeros((len(x),x_length))\n",
    "    for t in range(len(x)):\n",
    "        for i in range(seq_length):\n",
    "            for a in range(q):\n",
    "                aa = int(muVec[i][a])\n",
    "                if aa != -1:\n",
    "                    for b in range(q):\n",
    "                        bb = int(muVec[i][b])\n",
    "                        if b != a:\n",
    "                            if bb != -1:\n",
    "                                flux[t,aa] +=  muMatrix[b][a] * x[t,bb] - muMatrix[a][b] * x[t,aa]\n",
    "                            else:\n",
    "                                flux[t,aa] += -muMatrix[a][b] * x[t,aa]\n",
    "        for n in range(ne):\n",
    "            for nn in range(len(escape_group[n])):\n",
    "                for a in range(q):\n",
    "                    WT = escape_TF[n][nn]\n",
    "                    index = escape_group[n][nn]\n",
    "                    if a not in WT:\n",
    "                        for b in WT:\n",
    "                            flux[t, x_length-ne+n] += muMatrix[b][a] * (1 - x[t,x_length-ne+n]) - muMatrix[a][b] * ex[t,n,index,a]\n",
    "    return flux\n",
    "\n",
    "# calculate recombination flux term\n",
    "def get_recombination_flux(x,p_wt,p_mut_k,trait_dis):\n",
    "    flux = np.zeros((len(x),x_length))\n",
    "    for n in range(ne):\n",
    "        for t in range(len(x)):\n",
    "            fluxIn  = 0\n",
    "            fluxOut = 0\n",
    "\n",
    "            for nn in range(len(escape_group[n])-1):\n",
    "                k_index = escape_group[n][0]+nn\n",
    "                fluxIn  += trait_dis[n][nn] * p_wt[t][n]*p_mut_k[t][k_index][0]\n",
    "                fluxOut += trait_dis[n][nn] * p_mut_k[t][k_index][1]*p_mut_k[t][k_index][2]\n",
    "\n",
    "            flux[t,x_length-ne+n] = r_rate * (fluxIn - fluxOut)\n",
    "\n",
    "    return flux\n",
    "\n",
    "# calculate the difference between the frequency at time t and time t-1\n",
    "def cal_delta_x(single_freq,times):\n",
    "    delta_x = np.zeros((len(single_freq),x_length))   # difference between the frequency at time t and time t-1s\n",
    "#     calculate by np.gradient function\n",
    "#         for ii in range(x_length):\n",
    "#             delta_x[:,ii] = np.gradient(single_freq.T[ii],times)\n",
    "#     calculate manually\n",
    "    for t in range(len(single_freq)-1):\n",
    "        delta_x[t] = (single_freq[t+1] - single_freq[t])/(times[t+1]-times[t])\n",
    "\n",
    "    # dt for the last time point, make sure the expected x[t+1] is less than 1\n",
    "    dt_last = times[-1] - times[-2]\n",
    "    for ii in range(x_length):\n",
    "        if single_freq[-1,ii] + delta_x[-1,ii]*dt_last> 1:\n",
    "            delta_x[-1,ii] = (1 - single_freq[-1,ii])/dt_last\n",
    "        else:\n",
    "            delta_x[-1,ii] = delta_x[-2,ii]\n",
    "\n",
    "    return delta_x"
   ]
  },
  {
   "cell_type": "code",
   "execution_count": 103,
   "id": "e050cfbe",
   "metadata": {},
   "outputs": [
    {
     "name": "stdout",
     "output_type": "stream",
     "text": [
      "217\n"
     ]
    }
   ],
   "source": [
    "tag = '703010131-3'\n",
    "rawdata  = np.load('%s/rawdata/rawdata_%s.npz'%(HIV_DIR,tag), allow_pickle=True)\n",
    "# information for individual sites\n",
    "x            = rawdata['single_freq']\n",
    "xx           = rawdata['double_freq']\n",
    "ex           = rawdata['escape_freq']\n",
    "muVec        = rawdata['muVec']\n",
    "sample_times = rawdata['sample_times']\n",
    "times        = rawdata['times']\n",
    "time_step    = rawdata['time_step']\n",
    "seq_length   = rawdata['seq_length']\n",
    "\n",
    "# information for escape group\n",
    "p_wt         = rawdata['p_wt_freq']\n",
    "p_mut_k      = rawdata['p_mut_k_freq']\n",
    "p_sites      = rawdata['special_sites']\n",
    "escape_group = rawdata['escape_group'].tolist()\n",
    "escape_TF    = rawdata['escape_TF'].tolist()\n",
    "trait_dis    = rawdata['trait_dis'].tolist()\n",
    "\n",
    "ne           = len(escape_group)\n",
    "x_length     = len(x[0])\n",
    "print(x_length)"
   ]
  },
  {
   "cell_type": "code",
   "execution_count": 104,
   "id": "57f15956",
   "metadata": {},
   "outputs": [
    {
     "name": "stdout",
     "output_type": "stream",
     "text": [
      "[1.         1.         1.         0.83333333 1.         1.\n",
      " 1.         1.         1.        ]\n"
     ]
    }
   ],
   "source": [
    "print(x[:,18])"
   ]
  },
  {
   "cell_type": "code",
   "execution_count": 56,
   "id": "3a64caf4",
   "metadata": {},
   "outputs": [],
   "source": [
    "NUC = ['-', 'A', 'C', 'G', 'T']\n",
    "q = len(NUC)\n",
    "muMatrix = np.loadtxt(\"%s/Zanini-extended.dat\"%HIV_DIR)\n",
    "\n",
    "# after interpolation, calculate all the required data\n",
    "single_freq, double_freq = interpolator_x(x, xx, sample_times, times)\n",
    "escape_freq              = interpolator_ex(ex, sample_times, times)\n",
    "p_wt_freq, p_mut_k_freq  = interpolator_p(p_wt, p_mut_k,sample_times, times)"
   ]
  },
  {
   "cell_type": "code",
   "execution_count": 58,
   "id": "0e28116f",
   "metadata": {},
   "outputs": [],
   "source": [
    "r_rate = 1.4e-5\n",
    "# covariance matrix, flux term and delta_x\n",
    "covariance_n = diffusion_matrix_at_t(single_freq, double_freq)\n",
    "covariance   = np.swapaxes(covariance_n, 0, 2)\n",
    "flux_mu      = get_mutation_flux(single_freq,escape_freq,muVec)         # mutation part\n",
    "flux_rec     = get_recombination_flux(single_freq,p_wt_freq,p_mut_k_freq,trait_dis) # recombination part\n",
    "delta_x      = cal_delta_x(single_freq,times)\n",
    "\n",
    "# extend the time range\n",
    "TLeft   = int(round(times[-1]*theta/10)*10)\n",
    "TRight  = int(round(times[-1]*theta/10)*10)\n",
    "ex_gap  = int(theta*20)\n",
    "etleft  = np.linspace(-TLeft,-ex_gap,int(TLeft/ex_gap))\n",
    "etright = np.linspace(times[-1]+ex_gap,times[-1]+TRight,int(TRight/ex_gap))\n",
    "ExTimes = np.concatenate((etleft, times, etright))"
   ]
  },
  {
   "cell_type": "code",
   "execution_count": 61,
   "id": "c33e70cb",
   "metadata": {},
   "outputs": [],
   "source": [
    "# regularization value gamma_1 and gamma_2\n",
    "# individual site: gamma_1s, escape group: gamma_1p\n",
    "gamma_1s = round(10/sample_times[-1],3) # constant MPL gamma value / max time\n",
    "gamma_1p = gamma_1s/10\n",
    "gamma1   = np.ones(x_length)*gamma_1s\n",
    "for n in range(ne):\n",
    "    gamma1[x_length-ne+n] = gamma_1p\n",
    "\n",
    "# gamma 2 is also time varying, it is larger at the boundary\n",
    "gamma_t = np.zeros(len(ExTimes))\n",
    "tv_range = max(int(round(times[-1]*0.1/10)*10),1)\n",
    "alpha1  = np.log(4) / tv_range\n",
    "alpha2  = np.log(4) / tv_range\n",
    "for t in range(len(ExTimes)):\n",
    "    if ExTimes[t] <= 0:\n",
    "        gamma_t[t] = 4\n",
    "    elif ExTimes[t] >= times[-1]:\n",
    "        gamma_t[t] = 4\n",
    "    elif 0 < ExTimes[t] and ExTimes[t] <= tv_range:\n",
    "        gamma_t[t] = 4 * np.exp(-alpha1 * ExTimes[t])\n",
    "    elif times[-1]-tv_range <= ExTimes[t] and ExTimes[t] < times[-1]:\n",
    "        gamma_t[t] = 1 * np.exp(alpha2 * (ExTimes[t]-times[-1]+tv_range))\n",
    "    else:\n",
    "        gamma_t[t] = 1\n",
    "\n",
    "gamma_2c = 200\n",
    "gamma_2tv = 1000000\n",
    "# individual site: gamma_2c, escape group and special site: gamma_2tv\n",
    "gamma2 = np.ones((x_length,len(ExTimes)))*gamma_2c\n",
    "for n in range(ne):\n",
    "    gamma2[x_length-ne+n] = gamma_t * gamma_2tv\n",
    "for p_site in p_sites: # special site - time varying\n",
    "    for qq in range(len(NUC)):\n",
    "        index = int (muVec[p_site][qq]) \n",
    "        if index != -1:\n",
    "            gamma2[index] = gamma_t * gamma_2tv\n"
   ]
  },
  {
   "cell_type": "code",
   "execution_count": 66,
   "id": "92efb9e2",
   "metadata": {},
   "outputs": [],
   "source": [
    "# solve the bounadry condition ODE to infer selections\n",
    "def fun(a,b):\n",
    "    \"\"\" Function defining the right-hand side of the system of ODE's\"\"\"\n",
    "    b_1                 = b[:x_length,:]   # the actual selection coefficients\n",
    "    b_2                 = b[x_length:,:]   # the derivatives of the selection coefficients, s'\n",
    "    result              = np.zeros((2*x_length,len(a))) # The RHS of the system of ODE's\n",
    "    result[:x_length]   = b_2       # sets the derivatives of the selection coefficients 'b_1', equal to s'\n",
    "    mat_prod            = np.sum(covariance[:,:,:len(a)] * b_1[:,len(etleft):len(etleft)+len(times)], 1)\n",
    "\n",
    "    for t in range(len(a)): # right hand side of second half of the ODE system\n",
    "        # within the time range\n",
    "        if len(etleft) <= t < len(etleft)+len(times):\n",
    "            tt = t - len(etleft)\n",
    "            for i in range(x_length):\n",
    "                result[x_length+i,t] = (mat_prod[i,tt] + gamma1[i] * b_1[i,t] + flux_mu[tt,i] + flux_rec[tt,i] - delta_x[tt,i]) / gamma2[i,t]\n",
    "\n",
    "        # outside the time range, no selection strength\n",
    "        else:\n",
    "            for i in range(x_length):\n",
    "                result[x_length+i,t] = gamma1[i] * b_1[i,t] / gamma2[i,t]\n",
    "\n",
    "    return result\n",
    "\n",
    "def bc(b1,b2):\n",
    "    return np.ravel(np.array([b1[x_length:],b2[x_length:]])) # s' = 0 at the extended endpoints\n",
    "\n",
    "ss_extend = np.zeros((2*x_length,len(ExTimes)))\n",
    "\n",
    "solution = sp.integrate.solve_bvp(fun, bc, ExTimes, ss_extend, max_nodes=10000, tol=1e-3)\n",
    "\n",
    "selection_coefficients = solution.sol(ExTimes)\n",
    "# removes the superfluous part of the array and only save the real time points\n",
    "desired_coefficients   = selection_coefficients[:x_length,len(etleft):len(etleft)+len(times)]\n",
    "\n"
   ]
  },
  {
   "cell_type": "code",
   "execution_count": 79,
   "id": "a8ec7e6f",
   "metadata": {},
   "outputs": [
    {
     "name": "stdout",
     "output_type": "stream",
     "text": [
      "[  0   5  10  15  21  28  34  39  44  49  54  59  63  68  73  78  83  88\n",
      "  91  96 101 106 111 116 121 126 131 136 141 146 151 156 161 166 171 175\n",
      " 180 185 190 195 200 205 210 215 220 225 230 235 240 245 250 255 260 265\n",
      " 270 273 278 283 288 293 298 303 308 313 318 323 328 333]\n",
      "[0.03030303 0.         0.         0.         0.         0.\n",
      " 0.         0.         0.        ]\n"
     ]
    }
   ],
   "source": [
    "print(times)\n",
    "print(x[:,-3])"
   ]
  },
  {
   "cell_type": "code",
   "execution_count": 70,
   "id": "c809d138",
   "metadata": {},
   "outputs": [
    {
     "name": "stdout",
     "output_type": "stream",
     "text": [
      "68\n"
     ]
    }
   ],
   "source": [
    "print(len(desired_coefficients[-1]))"
   ]
  },
  {
   "cell_type": "code",
   "execution_count": 64,
   "id": "6e68f6a7",
   "metadata": {},
   "outputs": [
    {
     "name": "stdout",
     "output_type": "stream",
     "text": [
      "[  0   5  10  15  21  28  34  39  44  49  54  59  63  68  73  78  83  88\n",
      "  91  96 101 106 111 116 121 126 131 136 141 146 151 156 161 166 171 175\n",
      " 180 185 190 195 200 205 210 215 220 225 230 235 240 245 250 255 260 265\n",
      " 270 273 278 283 288 293 298 303 308 313 318 323 328 333]\n"
     ]
    }
   ],
   "source": [
    "print(times)"
   ]
  },
  {
   "cell_type": "code",
   "execution_count": 42,
   "id": "dda5a737",
   "metadata": {},
   "outputs": [],
   "source": [
    "importlib.reload(sim)\n",
    "\n",
    "# Load the simulation data\n",
    "data         = np.loadtxt(\"%s/example/example-0.dat\"%(SIM_DIR))\n",
    "escape_group = sim.read_file('example','traitsite-0.dat')\n",
    "trait_dis    = sim.read_file('example','traitsite-0.dat')\n",
    "\n",
    "p_sites      = [13,18]\n",
    "# Calculate covariance matrix\n",
    "sVec,nVec,eVec = sim.getSequence(data,escape_group)\n",
    "seq_length     = len(sVec[0][0])      # sequence length\n",
    "ne             = len(escape_group) # trait group\n",
    "\n",
    "muVec    = -np.ones(seq_length)\n",
    "x_length = 0\n",
    "for i in range(seq_length):\n",
    "    allele_count = np.zeros(len(sVec))\n",
    "    allele_count = [np.sum([(sVec[t][k][i]==1)*nVec[t][k] for k in range(len(sVec[t]))]) for t in range(len(sVec))]\n",
    "    if max(allele_count) / np.sum(nVec[0]) >= 0:\n",
    "        muVec[i] = x_length\n",
    "        x_length += 1\n",
    "x_length      += ne\n"
   ]
  },
  {
   "cell_type": "code",
   "execution_count": 60,
   "id": "8f006faa",
   "metadata": {},
   "outputs": [],
   "source": [
    "def get_allele_frequency(sVec,nVec,eVec,muVec):\n",
    "\n",
    "    x  = np.zeros((len(nVec),x_length))           # single allele frequency\n",
    "    xx = np.zeros((len(nVec),x_length,x_length))  # pair allele frequency\n",
    "    for t in range(len(nVec)):\n",
    "        pop_size_t = np.sum([nVec[t]])\n",
    "        # individual locus part\n",
    "        for i in range(seq_length):\n",
    "            aa = int(muVec[i])\n",
    "            if aa != -1:\n",
    "                x[t,aa] = np.sum([sVec[t][k][i] * nVec[t][k] for k in range(len(sVec[t]))]) / pop_size_t\n",
    "            for j in range(int(i+1), seq_length):\n",
    "                bb = int(muVec[j])\n",
    "                if bb != -1:\n",
    "                    xx[t,aa,bb] = np.sum([sVec[t][k][i] * sVec[t][k][j] * nVec[t][k] for k in range(len(sVec[t]))]) / pop_size_t\n",
    "                    xx[t,aa,bb] = np.sum([sVec[t][k][i] * sVec[t][k][j] * nVec[t][k] for k in range(len(sVec[t]))]) / pop_size_t\n",
    "        # escape part\n",
    "        for n in range(ne):\n",
    "            aa      = x_length-ne+n\n",
    "            x[t,aa] = np.sum([eVec[t][k][n] * nVec[t][k] for k in range(len(sVec[t]))]) / pop_size_t\n",
    "            for m in range(int(n+1), ne):\n",
    "                bb          = x_length-ne+m\n",
    "                xx[t,aa,bb] = np.sum([eVec[t][k][n] * eVec[t][k][m] * nVec[t][k] for k in range(len(sVec[t]))]) / pop_size_t\n",
    "                xx[t,bb,aa] = np.sum([eVec[t][k][n] * eVec[t][k][m] * nVec[t][k] for k in range(len(sVec[t]))]) / pop_size_t\n",
    "            for j in range(seq_length):\n",
    "                bb = int(muVec[j])\n",
    "                if bb != -1:\n",
    "                    xx[t,bb,aa] = np.sum([sVec[t][k][j] * eVec[t][k][n] * nVec[t][k] for k in range(len(sVec[t]))]) / pop_size_t\n",
    "                    xx[t,aa,bb] = np.sum([sVec[t][k][j] * eVec[t][k][n] * nVec[t][k] for k in range(len(sVec[t]))]) / pop_size_t\n",
    "    return x,xx\n",
    "\n",
    "# calculate escape frequency (binary case)\n",
    "def get_escape_fre_term(sVec,nVec):\n",
    "    ex  = np.zeros((len(nVec),ne,seq_length))\n",
    "    for t in range(len(nVec)):\n",
    "        pop_size_t = np.sum([nVec[t]])\n",
    "        for k in range(len(sVec[t])):\n",
    "            for n in range(ne):\n",
    "                n_mutations = 0\n",
    "                for nn in escape_group[n]:\n",
    "                    if sVec[t][k][nn] != 0:\n",
    "                        n_mutations += 1\n",
    "                        site = nn\n",
    "                if n_mutations == 1:\n",
    "                    ex[t,n,site] += nVec[t][k]\n",
    "        ex[t,:,:] = ex[t,:,:] / pop_size_t\n",
    "    return ex\n",
    "\n",
    "x,xx         = get_allele_frequency(sVec,nVec,eVec,muVec) \n",
    "covar_int    = sim.diffusion_matrix_at_t(x,xx,x_length)\n"
   ]
  },
  {
   "cell_type": "code",
   "execution_count": 79,
   "id": "967c7b17",
   "metadata": {},
   "outputs": [
    {
     "name": "stdout",
     "output_type": "stream",
     "text": [
      "1.6262595409181634e-07\n"
     ]
    }
   ],
   "source": [
    "gamma_1s      = 10/500 # gamma_s/time points\n",
    "gamma_1p      = gamma_1s/10\n",
    "gamma_2c      = 1000000       # 1000000\n",
    "gamma_2tv     = 500\n",
    "\n",
    "# regularization value gamma_1 and gamma_2\n",
    "# individual site: gamma_1s, escape group: gamma_1p\n",
    "gamma1_m = np.zeros((x_length,x_length))\n",
    "for i in range(x_length):\n",
    "    gamma1_m[i][i] = gamma_1s\n",
    "for n in range(ne):\n",
    "    nn = x_length-ne+n\n",
    "    gamma1_m[nn][nn] = gamma_1p\n",
    "\n",
    "# individual site: gamma_2c, escape group and special site: gamma_2tv\n",
    "gamma2 = np.ones(x_length)*gamma_2c\n",
    "for n in range(ne):\n",
    "    gamma2[x_length-ne+n] = gamma_2tv\n",
    "for i in range(len(p_sites)): # special site - time varying\n",
    "    index = int (muVec[p_sites[i]]) \n",
    "    if index != -1:\n",
    "        gamma2[index] = gamma_2tv\n",
    "\n",
    "A_matrix = np.zeros((x_length,x_length))\n",
    "for i in range(x_length):\n",
    "    for j in range(x_length):\n",
    "        A_matrix[i][j] = (np.average(covar_int[:,i,j])+gamma1_m[i,j])/gamma2[i]\n",
    "\n",
    "print(A_matrix[0,0])"
   ]
  },
  {
   "cell_type": "code",
   "execution_count": 46,
   "id": "d328a7f4",
   "metadata": {},
   "outputs": [],
   "source": [
    "d_value, Q_matrix = np.linalg.eig(A_matrix) # calculate the eigenvalues d_value and eigenvectors Q_matrix\n",
    "D_matrix = np.diag(d_value) # D is a diagonal matrix with the eigenvalues of A\n"
   ]
  },
  {
   "cell_type": "code",
   "execution_count": 4,
   "id": "7dd01d95",
   "metadata": {},
   "outputs": [
    {
     "name": "stdout",
     "output_type": "stream",
     "text": [
      "241\n"
     ]
    }
   ],
   "source": [
    "tag = '703010131-3'\n",
    "rawdata = np.load('%s/rawdata/rawdata_%s.npz'%(HIV_DIR,tag), allow_pickle=\"True\")\n",
    "x            = rawdata['single_freq']\n",
    "print(len(x[0]))"
   ]
  },
  {
   "cell_type": "code",
   "execution_count": 25,
   "id": "7e87a799",
   "metadata": {},
   "outputs": [],
   "source": [
    "def getSequence(history,escape_TF,escape_group):\n",
    "    sVec      = []\n",
    "    nVec      = []\n",
    "    eVec      = []\n",
    "\n",
    "    temp_sVec   = []\n",
    "    temp_nVec   = []\n",
    "    temp_eVec   = []\n",
    "\n",
    "    times       = []\n",
    "    time        = 0\n",
    "    times.append(time)\n",
    "\n",
    "    ne          = len(escape_group)\n",
    "\n",
    "    for t in range(len(history)):\n",
    "        if history[t][0] != time:\n",
    "            time = history[t][0]\n",
    "            times.append(int(time))\n",
    "            sVec.append(temp_sVec)\n",
    "            nVec.append(temp_nVec)\n",
    "            eVec.append(temp_eVec)\n",
    "            temp_sVec   = []\n",
    "            temp_nVec   = []\n",
    "            temp_eVec   = []\n",
    "\n",
    "        temp_nVec.append(history[t][1])\n",
    "        temp_sVec.append(history[t][2:])\n",
    "\n",
    "        if ne > 0: # the patient contains escape group\n",
    "            temp_escape = np.zeros(ne, dtype=int)\n",
    "            for n in range(ne):\n",
    "                for nn in range(len(escape_group[n])):\n",
    "                    index = escape_group[n][nn] + 2\n",
    "                    if history[t][index] not in escape_TF[n][nn]:\n",
    "                        temp_escape[n] = 1\n",
    "                        break\n",
    "            temp_eVec.append(temp_escape)\n",
    "\n",
    "        if t == len(history)-1:\n",
    "            sVec.append(temp_sVec)\n",
    "            nVec.append(temp_nVec)\n",
    "            eVec.append(temp_eVec)\n",
    "\n",
    "    return sVec,nVec,eVec\n",
    "\n",
    "# get muVec\n",
    "def getMutantS(sVec):\n",
    "    # use muVec matrix to record the index of time-varying sites\n",
    "    muVec = -np.ones((seq_length, q)) # default value is -1, positive number means the index\n",
    "    x_length  = 0\n",
    "\n",
    "    for i in range(seq_length):            \n",
    "        # find all possible alleles in site i\n",
    "        alleles     = [int(sVec[t][k][i]) for t in range(len(sVec)) for k in range(len(sVec[t]))]\n",
    "        allele_uniq = np.unique(alleles)\n",
    "        for allele in allele_uniq:\n",
    "            muVec[i][int(allele)] = x_length\n",
    "            x_length += 1\n",
    "\n",
    "    return x_length,muVec"
   ]
  },
  {
   "cell_type": "code",
   "execution_count": 29,
   "id": "d6e673f5",
   "metadata": {},
   "outputs": [
    {
     "name": "stdout",
     "output_type": "stream",
     "text": [
      "[[[4], [2], [4], [2]], [[3], [1], [1], [1], [1], [1, 3], [1], [1], [3], [1], [1], [1], [1]]]\n",
      "107\n"
     ]
    }
   ],
   "source": [
    "import inference_HIV as HIV\n",
    "importlib.reload(HIV)\n",
    "\n",
    "infer_tags = ['700010040-3','700010040-5','700010058-3','700010058-5','700010077-3','700010077-5',\n",
    "              '700010470-3','700010470-5','700010607-3','703010131-3','703010131-5','703010159-3',\n",
    "              '703010256-3','703010256-5','704010042-3','704010042-5','705010162-3','705010162-5',\n",
    "              '705010185-5','705010198-3','706010164-3','706010164-5']\n",
    "\n",
    "tag = '703010131-3'\n",
    "data     = np.loadtxt('%s/sequence/%s-poly-seq2state.dat'%(HIV_DIR,tag))\n",
    "\n",
    "# data     = np.loadtxt('%s/sequence/%s-cut.dat'%(HIV_DIR,tag))\n",
    "\n",
    "# information for escape group\n",
    "result       = HIV.AnalyzeData(tag,HIV_DIR)\n",
    "escape_group = result.escape_group\n",
    "escape_TF    = result.escape_TF\n",
    "trait_dis    = result.trait_dis\n",
    "seq_length   = result.seq_length\n",
    "sample_times = result.uniq_t\n",
    "times        = result.IntTime\n",
    "ne           = len(escape_group)\n",
    "\n",
    "## regularization parameter\n",
    "p_sites      = result.special_sites\n",
    "time_step    = result.time_step\n",
    "q = 5\n",
    "\n",
    "print(escape_TF)\n",
    "print(seq_length)\n",
    "# obtain sequence data and frequencies\n",
    "sVec,nVec,eVec = getSequence(data,escape_TF,escape_group)\n",
    "# x_length,muVec = getMutantS(sVec)\n"
   ]
  },
  {
   "cell_type": "code",
   "execution_count": null,
   "id": "977a3639",
   "metadata": {},
   "outputs": [],
   "source": []
  },
  {
   "cell_type": "code",
   "execution_count": 86,
   "id": "15a73ffd",
   "metadata": {},
   "outputs": [
    {
     "data": {
      "text/plain": [
       "[<matplotlib.lines.Line2D at 0x108f15c30>]"
      ]
     },
     "execution_count": 86,
     "metadata": {},
     "output_type": "execute_result"
    },
    {
     "data": {
      "image/png": "[encoded data removed]",
      "text/plain": [
       "<Figure size 1200x300 with 3 Axes>"
      ]
     },
     "metadata": {},
     "output_type": "display_data"
    }
   ],
   "source": [
    "t_x  = np.linspace(0, 500, 501)\n",
    "x_mu = np.exp(s_coef * (t_x-250)) / (np.exp(s_coef * (t_x-250)) + 1)\n",
    "\n",
    "times  = np.linspace(0,int(t_x[-1]),int(t_x[-1]+1))\n",
    "\n",
    "\n",
    "fig, axs = plt.subplots(1, 3, figsize=(12, 3))\n",
    "\n",
    "axs[0].plot(t_x,x_mu)\n",
    "\n",
    "\n"
   ]
  },
  {
   "cell_type": "markdown",
   "id": "45e7476b",
   "metadata": {},
   "source": [
    "In order to convert the genotype level to allele level, we begin by defining G as a M$\\times$(L+$\\Lambda$)"
   ]
  },
  {
   "cell_type": "code",
   "execution_count": null,
   "id": "1cc6eb98",
   "metadata": {},
   "outputs": [],
   "source": []
  },
  {
   "cell_type": "code",
   "execution_count": 79,
   "id": "396e5858",
   "metadata": {},
   "outputs": [],
   "source": [
    "import sys,os\n",
    "import argparse\n",
    "from typing import List\n",
    "import numpy as np\n",
    "import scipy as sp\n",
    "import pandas as pd\n",
    "from scipy import integrate\n",
    "import scipy.interpolate as sp_interpolate\n",
    "import statistics\n",
    "import pickle\n",
    "from dataclasses import dataclass\n",
    "import time as time_module\n",
    "from itertools import product\n",
    "\n",
    "## nucleotide parameter\n",
    "NUC = ['-', 'A', 'C', 'G', 'T']\n",
    "q = len(NUC)\n",
    "\n",
    "@dataclass\n",
    "class Result:\n",
    "    variants: int\n",
    "    seq_length: int\n",
    "    special_sites: List[int]\n",
    "    uniq_t: List[int]\n",
    "    r_rates: List[float]\n",
    "    time_step: int\n",
    "    escape_group: List[List[int]]\n",
    "    escape_TF: List[List[int]]\n",
    "    trait_dis: List[List[int]]\n",
    "    IntTime: List[int]"
   ]
  },
  {
   "cell_type": "code",
   "execution_count": 80,
   "id": "2432072d",
   "metadata": {},
   "outputs": [],
   "source": [
    "def AnalyzeData(tag,HIV_DIR):\n",
    "    if tag == '704010042-3' or tag == '703010131-3':\n",
    "        df_info = pd.read_csv('%s/constant/analysis/%s-analyze-cut.csv' %(HIV_DIR,tag), comment='#', memory_map=True)\n",
    "        seq     = np.loadtxt('%s/sequence/%s-cut.dat'%(HIV_DIR,tag))\n",
    "    else:\n",
    "        df_info = pd.read_csv('%s/constant/analysis/%s-analyze.csv' %(HIV_DIR,tag), comment='#', memory_map=True)\n",
    "        seq     = np.loadtxt('%s/sequence/%s-poly-seq2state.dat'%(HIV_DIR,tag))\n",
    "\n",
    "    \"\"\"get raw time points\"\"\"\n",
    "    times = []\n",
    "    for i in range(len(seq)):\n",
    "        times.append(seq[i][0])\n",
    "    uniq_t = np.unique(times)\n",
    "\n",
    "    '''get recombinant rate'''\n",
    "    r_rates = np.loadtxt('%s/r_rates/r-%s.dat'%(HIV_DIR, tag))\n",
    "    if len(r_rates) != len(uniq_t):\n",
    "        print('Error: the length of r_rates is not equal to the length of time')\n",
    "        sys.exit\n",
    "\n",
    "    \"\"\"get variants number and sequence length\"\"\"\n",
    "    df_poly  = df_info[df_info['nucleotide']!=df_info['TF']]\n",
    "    variants = len(df_poly)\n",
    "    seq_length = int(df_info.iloc[-1].polymorphic_index + 1)\n",
    "\n",
    "    \"\"\"get special sites and escape sites\"\"\"\n",
    "    # get all epitopes for one tag\n",
    "    df_rows = df_info[df_info['epitope'].notna()]\n",
    "    unique_epitopes = df_rows['epitope'].unique()\n",
    "\n",
    "    min_n = 2 # the least escape sites a trait group should have (more than min_n)\n",
    "    special_sites = [] # special site considered as time-varying site but not escape site\n",
    "    escape_group  = [] # escape group (each group should have more than 2 escape sites)\n",
    "    escape_TF     = [] # corresponding wild type nucleotide\n",
    "    for epi in unique_epitopes:\n",
    "        df_e = df_rows[(df_rows['epitope'] == epi) & (df_rows['escape'] == True)] # find all escape mutation for one epitope\n",
    "        unique_sites = df_e['polymorphic_index'].unique()\n",
    "        unique_sites = [int(site) for site in unique_sites]\n",
    "\n",
    "        if len(unique_sites) <= min_n:\n",
    "            special_sites.append(unique_sites)\n",
    "        else:\n",
    "            escape_group.append(list(unique_sites))\n",
    "            escape_TF_epi = []\n",
    "            for site in unique_sites:\n",
    "                tf_values = []\n",
    "                df_site = df_info[df_info['polymorphic_index'] == site]\n",
    "                for i in range(len(df_site)):\n",
    "                    if df_site.iloc[i].escape != True:\n",
    "                        tf_values.append(int(NUC.index(df_site.iloc[i].nucleotide)))\n",
    "                escape_TF_epi.append(tf_values)\n",
    "            escape_TF.append(escape_TF_epi)\n",
    "\n",
    "    special_sites = [item for sublist in special_sites for item in sublist]\n",
    "\n",
    "    \"\"\"trait distance\"\"\"\n",
    "    trait_dis = []\n",
    "    if len(escape_group) > 0:\n",
    "        for i in range(len(escape_group)):\n",
    "            i_dis = []\n",
    "            for j in range(len(escape_group[i])-1):\n",
    "                index0 = df_info[df_info['polymorphic_index']==escape_group[i][j]].iloc[0].alignment\n",
    "                index1 = df_info[df_info['polymorphic_index']==escape_group[i][j+1]].iloc[0].alignment\n",
    "                i_dis.append(int(index1-index0))\n",
    "            trait_dis.append(i_dis)\n",
    "\n",
    "    \"\"\"find proper time step\"\"\"\n",
    "    if uniq_t[-1] < 100:\n",
    "        time_step = 1\n",
    "    else:\n",
    "        if seq_length > 300:\n",
    "            time_step = 20\n",
    "        elif seq_length < 100:\n",
    "            time_step = 1\n",
    "        else:\n",
    "            time_step = 5\n",
    "\n",
    "    \"\"\"find proper gamma value\"\"\"\n",
    "    # interpolation time according to the time step get above, all the inserted time points are integer\n",
    "    times = [0]\n",
    "    for t in range(1,len(uniq_t)):\n",
    "        tp_i   = round((uniq_t[t]-uniq_t[t-1])/time_step) # number of insertion points\n",
    "        if tp_i > 0:\n",
    "            ts_i   = round((uniq_t[t]-uniq_t[t-1])/tp_i) # modified time step\n",
    "            for i in range(tp_i):\n",
    "                time_i = uniq_t[t-1] + (i+1) * ts_i\n",
    "                time_s = uniq_t[t]\n",
    "                # if the inserted time is close to the bounadry time point, throw out the inserted point\n",
    "                if abs(time_i-time_s) <= ts_i/2:\n",
    "                    times.append(int(time_s))\n",
    "                else:\n",
    "                    times.append(int(time_i))\n",
    "        else:\n",
    "            times.append(uniq_t[t])\n",
    "    IntTime = list(times)\n",
    "\n",
    "    return Result(variants, seq_length, special_sites, uniq_t, r_rates, time_step, escape_group, escape_TF, trait_dis, IntTime)\n"
   ]
  },
  {
   "cell_type": "code",
   "execution_count": 83,
   "id": "b5fcdf9b",
   "metadata": {},
   "outputs": [],
   "source": [
    "tag = '700010040-3'\n",
    "HIV_DIR = 'data/HIV'\n",
    "rawdata  = np.load('%s/rawdata/rawdata_%s.npz'%(HIV_DIR,tag), allow_pickle=True)\n",
    "# information for individual sites\n",
    "x            = rawdata['single_freq']\n",
    "xx           = rawdata['double_freq']\n",
    "ex           = rawdata['escape_freq']\n",
    "muVec        = rawdata['muVec']\n",
    "sample_times = rawdata['sample_times']\n",
    "r_rates      = rawdata['r_rates']\n",
    "times        = rawdata['times']\n",
    "time_step    = rawdata['time_step']\n",
    "seq_length   = rawdata['seq_length']\n",
    "\n",
    "# information for escape group\n",
    "p_wt         = rawdata['p_wt_freq']\n",
    "p_mut_k      = rawdata['p_mut_k_freq']\n",
    "p_sites      = rawdata['special_sites']\n",
    "escape_group = rawdata['escape_group'].tolist()\n",
    "escape_TF    = rawdata['escape_TF'].tolist()\n",
    "trait_dis    = rawdata['trait_dis'].tolist()\n"
   ]
  },
  {
   "cell_type": "code",
   "execution_count": 112,
   "id": "c2c07966-8066-4d83-a410-ae74a7088477",
   "metadata": {},
   "outputs": [
    {
     "name": "stdout",
     "output_type": "stream",
     "text": [
      "[1. 0. 1. 0. 0. 1. 1. 0. 0. 1.]\n",
      "[0.88888889 0.11111111 1.         0.         0.         1.\n",
      " 1.         0.         0.         1.        ]\n",
      "[  0.  16.  45. 111. 181. 283. 412. 552.]\n"
     ]
    }
   ],
   "source": [
    "print(x[2][:10])\n",
    "print(x[3][:10])\n",
    "print(sample_times)"
   ]
  },
  {
   "cell_type": "code",
   "execution_count": 113,
   "id": "4ba54c5d-8a19-46de-8df5-9ed919acf461",
   "metadata": {},
   "outputs": [
    {
     "name": "stdout",
     "output_type": "stream",
     "text": [
      "[0. 0. 0. 0. 0. 0. 0. 0. 0. 0.]\n",
      "[0. 0. 0. 0. 0. 0. 0. 0. 0. 0.]\n",
      "[-0.0016835  0.0016835  0.         0.         0.         0.\n",
      "  0.         0.         0.         0.       ]\n",
      "[ 0.0015873 -0.0015873  0.         0.         0.         0.\n",
      "  0.         0.         0.         0.       ]\n"
     ]
    }
   ],
   "source": [
    "def cal_delta_x(single_freq,times):\n",
    "    delta_x = np.zeros((len(single_freq),x_length))   # difference between the frequency at time t and time t-1s\n",
    "#     calculate manually\n",
    "    for t in range(len(single_freq)-1):\n",
    "        delta_x[t] = (single_freq[t+1] - single_freq[t])/(times[t+1]-times[t])\n",
    "\n",
    "    # dt for the last time point, make sure the expected x[t+1] is less than 1\n",
    "    dt_last = times[-1] - times[-2]\n",
    "    for ii in range(x_length):\n",
    "        if single_freq[-1,ii] + delta_x[-1,ii]*dt_last> 1:\n",
    "            delta_x[-1,ii] = (1 - single_freq[-1,ii])/dt_last\n",
    "        else:\n",
    "            delta_x[-1,ii] = delta_x[-2,ii]\n",
    "    return delta_x\n",
    "\n",
    "dx = cal_delta_x(x,sample_times)\n",
    "print(dx[0][:10])\n",
    "print(dx[1][:10])\n",
    "print(dx[2][:10])\n",
    "print(dx[3][:10])\n"
   ]
  },
  {
   "cell_type": "code",
   "execution_count": 110,
   "id": "fb754c41-8827-437c-b7d0-df81bf997754",
   "metadata": {},
   "outputs": [
    {
     "name": "stdout",
     "output_type": "stream",
     "text": [
      "[1. 0. 1. 0. 0. 1. 1. 0. 0. 1.]\n",
      "[0.88888889 0.11111111 1.         0.         0.         1.\n",
      " 1.         0.         0.         1.        ]\n",
      "22\n"
     ]
    }
   ],
   "source": [
    "print(x[2][:10])\n",
    "print(x[3][:10])\n",
    "print(times[3]-times[2])"
   ]
  },
  {
   "cell_type": "code",
   "execution_count": 98,
   "id": "7b94a2fb-30ac-4970-919c-55e683ca0818",
   "metadata": {},
   "outputs": [
    {
     "name": "stdout",
     "output_type": "stream",
     "text": [
      "[ 0.          0.          0.          0.          0.          0.\n",
      "  0.          0.          0.          0.          0.          0.\n",
      "  0.          0.          0.          0.          0.          0.\n",
      "  0.          0.          0.          0.          0.          0.\n",
      "  0.          0.          0.          0.          0.          0.\n",
      "  0.          0.          0.          0.          0.          0.\n",
      "  0.          0.          0.          0.          0.          0.\n",
      "  0.          0.          0.          0.          0.          0.\n",
      "  0.          0.          0.          0.          0.          0.\n",
      "  0.          0.          0.          0.          0.          0.\n",
      "  0.          0.          0.          0.          0.          0.\n",
      "  0.          0.          0.          0.          0.          0.\n",
      "  0.          0.          0.          0.          0.          0.\n",
      "  0.          0.          0.          0.          0.          0.\n",
      "  0.          0.          0.          0.          0.          0.\n",
      "  0.          0.          0.          0.          0.          0.\n",
      "  0.          0.          0.          0.          0.          0.\n",
      "  0.          0.          0.          0.          0.          0.\n",
      "  0.          0.          0.          0.          0.          0.\n",
      "  0.          0.          0.          0.          0.          0.\n",
      "  0.          0.          0.          0.          0.          0.\n",
      "  0.          0.          0.          0.          0.          0.\n",
      "  0.          0.          0.          0.          0.          0.\n",
      "  0.          0.          0.          0.          0.          0.\n",
      "  0.          0.          0.          0.          0.          0.\n",
      "  0.          0.          0.          0.          0.          0.\n",
      "  0.          0.          0.          0.          0.          0.\n",
      "  0.          0.          0.          0.          0.          0.\n",
      "  0.          0.          0.          0.          0.          0.\n",
      "  0.          0.          0.          0.          0.          0.\n",
      "  0.          0.          0.          0.          0.          0.\n",
      "  0.          0.          0.          0.          0.          0.\n",
      "  0.          0.          0.          0.          0.          0.\n",
      "  0.          0.          0.          0.          0.          0.\n",
      "  0.          0.          0.          0.          0.          0.\n",
      "  0.          0.          0.          0.          0.          0.\n",
      "  0.          0.          0.          0.          0.          0.\n",
      "  0.          0.          0.          0.          0.          0.\n",
      "  0.          0.          0.          0.          0.          0.\n",
      "  0.          0.          0.          0.          0.          0.\n",
      "  0.          0.          0.          0.          0.          0.\n",
      "  0.          0.          0.          0.          0.          0.\n",
      "  0.          0.          0.          0.          0.          0.\n",
      "  0.          0.          0.          0.          0.          0.\n",
      "  0.          0.          0.          0.          0.          0.\n",
      "  0.          0.          0.          0.          0.          0.\n",
      "  0.          0.          0.          0.          0.          0.\n",
      "  0.          0.          0.          0.          0.          0.\n",
      "  0.          0.          0.          0.          0.          0.\n",
      "  0.          0.          0.          0.          0.          0.\n",
      "  0.          0.          0.          0.          0.          0.\n",
      "  0.          0.          0.          0.          0.          0.\n",
      "  0.          0.          0.          0.          0.          0.\n",
      "  0.          0.          0.          0.          0.          0.\n",
      "  0.          0.          0.          0.          0.          0.\n",
      "  0.          0.          0.          0.          0.          0.\n",
      "  0.          0.          0.          0.          0.          0.\n",
      "  0.          0.          0.          0.          0.          0.\n",
      "  0.          0.          0.          0.          0.          0.\n",
      "  0.          0.          0.          0.          0.          0.\n",
      "  0.          0.          0.          0.          0.          0.\n",
      "  0.          0.          0.          0.          0.          0.\n",
      "  0.          0.          0.          0.          0.          0.\n",
      "  0.          0.          0.          0.          0.          0.\n",
      "  0.          0.          0.          0.          0.          0.\n",
      "  0.          0.          0.          0.          0.          0.\n",
      "  0.          0.          0.          0.          0.          0.\n",
      "  0.          0.          0.          0.          0.          0.\n",
      "  0.          0.          0.          0.          0.          0.\n",
      "  0.          0.          0.          0.          0.          0.\n",
      "  0.          0.          0.          0.          0.          0.\n",
      "  0.          0.          0.          0.          0.          0.\n",
      "  0.          0.          0.          0.          0.          0.\n",
      "  0.          0.          0.          0.          0.          0.\n",
      "  0.          0.          0.          0.          0.          0.\n",
      "  0.          0.          0.          0.          0.          0.\n",
      "  0.          0.          0.          0.          0.          0.\n",
      "  0.          0.          0.          0.          0.          0.\n",
      "  0.          0.          0.          0.          0.          0.\n",
      "  0.          0.          0.          0.          0.          0.\n",
      "  0.          0.          0.          0.          0.          0.\n",
      "  0.          0.          0.          0.          0.          0.\n",
      "  0.          0.          0.          0.          0.          0.\n",
      "  0.          0.          0.          0.          0.          0.\n",
      "  0.          0.          0.          0.          0.          0.\n",
      "  0.          0.          0.          0.          0.          0.\n",
      "  0.          0.          0.          0.          0.          0.\n",
      "  0.          0.          0.          0.          0.          0.\n",
      "  0.          0.          0.          0.          0.          0.\n",
      "  0.          0.          0.          0.          0.          0.\n",
      "  0.          0.          0.          0.          0.          0.\n",
      "  0.          0.          0.          0.          0.          0.\n",
      "  0.          0.          0.          0.          0.          0.\n",
      "  0.          0.          0.          0.          0.          0.\n",
      "  0.          0.          0.          0.          0.          0.\n",
      "  0.          0.          0.          0.          0.          0.\n",
      "  0.          0.          0.          0.          0.          0.\n",
      "  0.          0.          0.          0.          0.          0.\n",
      "  0.          0.          0.          0.          0.          0.\n",
      "  0.          0.          0.          0.          0.          0.\n",
      "  0.          0.          0.          0.          0.          0.\n",
      "  0.          0.          0.          0.          0.          0.\n",
      "  0.          0.          0.          0.          0.          0.\n",
      "  0.         -0.00407407]\n"
     ]
    }
   ],
   "source": [
    "print(flux_rec[1])"
   ]
  },
  {
   "cell_type": "code",
   "execution_count": 75,
   "id": "bf725aab-cd5b-4ce3-bf00-72a2ca589f64",
   "metadata": {},
   "outputs": [
    {
     "name": "stdout",
     "output_type": "stream",
     "text": [
      "59\n",
      "60\n",
      "113\n",
      "114\n"
     ]
    }
   ],
   "source": [
    "for i in range(seq_length):\n",
    "    if (x[0][i] != 0) & (x[0][i] != 1):\n",
    "        print(i)"
   ]
  },
  {
   "cell_type": "code",
   "execution_count": 50,
   "id": "d23af6d2",
   "metadata": {},
   "outputs": [
    {
     "name": "stdout",
     "output_type": "stream",
     "text": [
      "0.25\t"
     ]
    }
   ],
   "source": [
    "print(ex[0][2][288][1],end='\\t')"
   ]
  },
  {
   "cell_type": "code",
   "execution_count": 25,
   "id": "b11e8469",
   "metadata": {},
   "outputs": [
    {
     "name": "stdout",
     "output_type": "stream",
     "text": [
      "0.0\t0.0\t1.0\t0.0\t0.0\t1.0\t1.0\t0.0\t0.0\t1.0\t\n",
      "0.0\t0.0\t0.0\t0.0\t0.0\t0.0\t0.0\t0.0\t0.0\t0.0\t\n",
      "1.0\t0.0\t0.0\t0.0\t0.0\t1.0\t1.0\t0.0\t0.0\t1.0\t\n",
      "0.0\t0.0\t0.0\t0.0\t0.0\t0.0\t0.0\t0.0\t0.0\t0.0\t\n",
      "0.0\t0.0\t0.0\t0.0\t0.0\t0.0\t0.0\t0.0\t0.0\t0.0\t\n",
      "1.0\t0.0\t1.0\t0.0\t0.0\t0.0\t1.0\t0.0\t0.0\t1.0\t\n",
      "1.0\t0.0\t1.0\t0.0\t0.0\t1.0\t0.0\t0.0\t0.0\t1.0\t\n",
      "0.0\t0.0\t0.0\t0.0\t0.0\t0.0\t0.0\t0.0\t0.0\t0.0\t\n",
      "0.0\t0.0\t0.0\t0.0\t0.0\t0.0\t0.0\t0.0\t0.0\t0.0\t\n",
      "1.0\t0.0\t1.0\t0.0\t0.0\t1.0\t1.0\t0.0\t0.0\t0.0\t\n"
     ]
    }
   ],
   "source": [
    "for i in range(10):\n",
    "    for j in range(10):\n",
    "        print(xx[0][i][j], end='\\t')\n",
    "    print('')"
   ]
  },
  {
   "cell_type": "code",
   "execution_count": 9,
   "id": "b8b77a29",
   "metadata": {},
   "outputs": [
    {
     "name": "stdout",
     "output_type": "stream",
     "text": [
      "3\n"
     ]
    }
   ],
   "source": [
    "print(len(escape_group))"
   ]
  },
  {
   "cell_type": "code",
   "execution_count": 42,
   "id": "7a5178b5",
   "metadata": {},
   "outputs": [
    {
     "data": {
      "text/plain": [
       "50"
      ]
     },
     "execution_count": 42,
     "metadata": {},
     "output_type": "execute_result"
    }
   ],
   "source": [
    "int(round(500*0.1/10)*10)"
   ]
  },
  {
   "cell_type": "code",
   "execution_count": 5,
   "id": "78e425c1",
   "metadata": {},
   "outputs": [],
   "source": [
    "## nucleotide parameter\n",
    "NUC = ['-', 'A', 'C', 'G', 'T']\n",
    "q = len(NUC)"
   ]
  },
  {
   "cell_type": "code",
   "execution_count": 8,
   "id": "afed0fb2-bbd7-4ce5-8e0c-d673e5479579",
   "metadata": {},
   "outputs": [],
   "source": [
    "# Interpolation function definition\n",
    "# Interpolates the input arrays so that they will have the same number of generations as the original population.\n",
    "interpolation = lambda a,b: sp_interpolate.interp1d(a,b,kind='linear')\n",
    "\n",
    "def interpolator_x(single_freq, double_freq, current_times, result_times):\n",
    "    single_freq_temp = np.zeros((len(result_times),x_length))\n",
    "    double_freq_temp = np.zeros((len(result_times),x_length,x_length))\n",
    "    \n",
    "    for i in range(x_length):\n",
    "        single_freq_temp[:,i] = interpolation(current_times, single_freq[:,i])(result_times)\n",
    "        for j in range(x_length):\n",
    "            double_freq_temp[:,i,j] = interpolation(current_times, double_freq[:,i,j])(result_times)\n",
    "    \n",
    "    return single_freq_temp, double_freq_temp\n",
    "\n",
    "def interpolator_ex(escape_freq, current_times, result_times):\n",
    "    if ne != 0:\n",
    "        escape_freq_temp  = np.zeros((len(result_times),ne,seq_length,q))\n",
    "    else: # if there is no escape group, return 0\n",
    "        escape_freq_temp  = []\n",
    "    \n",
    "    for n in range(ne):\n",
    "        for i in range(seq_length):\n",
    "            for a in range(q):\n",
    "                escape_freq_temp[:,n,i,a] = interpolation(current_times, escape_freq[:,n,i,a])(result_times)\n",
    "    \n",
    "    return escape_freq_temp\n",
    "\n",
    "def interpolator_p(p_wt, p_mut_k, current_times, result_times):\n",
    "    wt_temp    = np.zeros((len(result_times),ne))\n",
    "    mut_k_temp = np.zeros((len(result_times),seq_length,3))\n",
    "    # interpolation for wild type frequency\n",
    "    for n in range(ne):\n",
    "        wt_temp[:,n] = interpolation(current_times, p_wt[:,n])(result_times)\n",
    "\n",
    "    # interpolation for frequency related to recombination part\n",
    "    for i in range(seq_length):\n",
    "        for j in range(3):\n",
    "            mut_k_temp[:,i,j] = interpolation(current_times, p_mut_k[:,i,j])(result_times)\n",
    "\n",
    "    wt_temp    = wt_temp[:len(result_times)]\n",
    "    mut_k_temp = mut_k_temp[:len(result_times)]\n",
    "\n",
    "    return wt_temp, mut_k_temp\n",
    "\n",
    "def get_mutation_flux(x,ex,muVec):\n",
    "    flux = np.zeros((len(x),x_length))\n",
    "    for t in range(len(x)):\n",
    "        for i in range(seq_length):\n",
    "            for a in range(q):\n",
    "                aa = int(muVec[i][a])\n",
    "                if aa != -1:\n",
    "                    for b in range(q):\n",
    "                        bb = int(muVec[i][b])\n",
    "                        if b != a:\n",
    "                            if bb != -1:\n",
    "                                flux[t,aa] +=  muMatrix[b][a] * x[t,bb] - muMatrix[a][b] * x[t,aa]\n",
    "                            else:\n",
    "                                flux[t,aa] += -muMatrix[a][b] * x[t,aa]\n",
    "        for n in range(ne):\n",
    "            for nn in range(len(escape_group[n])):\n",
    "                for a in range(q):\n",
    "                    WT = escape_TF[n][nn]\n",
    "                    index = escape_group[n][nn]\n",
    "                    if a not in WT:\n",
    "                        for b in WT:\n",
    "                            flux[t, x_length-ne+n] += muMatrix[b][a] * (1 - x[t,x_length-ne+n]) - muMatrix[a][b] * ex[t,n,index,a]\n",
    "    return flux\n",
    "# calculate recombination flux term\n",
    "def get_recombination_flux(x, r_rates, p_wt, p_mut_k, trait_dis):\n",
    "    flux = np.zeros((len(x),x_length))\n",
    "    for n in range(ne):\n",
    "        for t in range(len(x)):\n",
    "            fluxIn  = 0\n",
    "            fluxOut = 0\n",
    "\n",
    "            for nn in range(len(escape_group[n])-1):\n",
    "                k_index = escape_group[n][0]+nn\n",
    "                fluxIn  += trait_dis[n][nn] * p_wt[t][n]*p_mut_k[t][k_index][0]\n",
    "                fluxOut += trait_dis[n][nn] * p_mut_k[t][k_index][1]*p_mut_k[t][k_index][2]\n",
    "            \n",
    "            flux[t,x_length-ne+n] = r_rates[t] * (fluxIn - fluxOut)\n",
    "\n",
    "    return flux\n",
    "\n",
    "# calculate the difference between the frequency at time t and time t-1\n",
    "def cal_delta_x(single_freq,times):\n",
    "    delta_x = np.zeros((len(single_freq),x_length))   # difference between the frequency at time t and time t-1s\n",
    "#     calculate by np.gradient function\n",
    "#         for ii in range(x_length):\n",
    "#             delta_x[:,ii] = np.gradient(single_freq.T[ii],times)\n",
    "#     calculate manually\n",
    "    for t in range(len(single_freq)-1):\n",
    "        delta_x[t] = (single_freq[t+1] - single_freq[t])/(times[t+1]-times[t])\n",
    "\n",
    "    # dt for the last time point, make sure the expected x[t+1] is less than 1\n",
    "    dt_last = times[-1] - times[-2]\n",
    "    for ii in range(x_length):\n",
    "        if single_freq[-1,ii] + delta_x[-1,ii]*dt_last> 1:\n",
    "            delta_x[-1,ii] = (1 - single_freq[-1,ii])/dt_last\n",
    "        else:\n",
    "            delta_x[-1,ii] = delta_x[-2,ii]\n",
    "\n",
    "    return delta_x"
   ]
  },
  {
   "cell_type": "code",
   "execution_count": 62,
   "id": "70cd4ce9",
   "metadata": {},
   "outputs": [],
   "source": [
    "tag = '700010040-5'\n",
    "\n",
    "rawdata  = np.load('%s/rawdata/rawdata_%s.npz'%(HIV_DIR,tag), allow_pickle=True)\n",
    "# information for individual sites\n",
    "x            = rawdata['single_freq']\n",
    "xx           = rawdata['double_freq']\n",
    "ex           = rawdata['escape_freq']\n",
    "muVec        = rawdata['muVec']\n",
    "sample_times = rawdata['sample_times']\n",
    "times        = rawdata['times']\n",
    "time_step    = rawdata['time_step']\n",
    "seq_length   = rawdata['seq_length']\n",
    "r_rates = rawdata['r_rates']\n",
    "\n",
    "# information for escape group\n",
    "p_wt         = rawdata['p_wt_freq']\n",
    "p_mut_k      = rawdata['p_mut_k_freq']\n",
    "p_sites      = rawdata['special_sites']\n",
    "escape_group = rawdata['escape_group'].tolist()\n",
    "escape_TF    = rawdata['escape_TF'].tolist()\n",
    "trait_dis    = rawdata['trait_dis'].tolist()\n",
    "\n",
    "ne           = len(escape_group)\n",
    "x_length     = len(x[0])\n",
    "\n",
    "muMatrix = np.loadtxt(\"%s/Zanini-extended.dat\"%HIV_DIR)"
   ]
  },
  {
   "cell_type": "code",
   "execution_count": 63,
   "id": "bb2caac6-0d90-459e-a352-d8d4a2e04be1",
   "metadata": {},
   "outputs": [],
   "source": [
    "import json\n",
    "\n",
    "escape_group = np.array(escape_group).tolist()\n",
    "escape_TF = np.array(escape_TF).tolist()\n",
    "trait_dis = np.array(trait_dis).tolist()\n",
    "r_rates = np.array(r_rates).tolist()\n",
    "p_sites = np.array(p_sites).tolist()\n",
    "\n",
    "data = {\n",
    "    'escape_group': escape_group,\n",
    "    'escape_TF': escape_TF,\n",
    "    'trait_dis': trait_dis,\n",
    "    'r_rates': r_rates,\n",
    "    'p_sites':p_sites\n",
    "}\n",
    "\n",
    "# 将字典写入到 .json 文件中\n",
    "with open('combined_data.json', 'w') as f:\n",
    "    json.dump(data, f)\n",
    "\n",
    "# 读取数据\n",
    "with open('combined_data.json', 'r') as f:\n",
    "    data = json.load(f)\n",
    "\n",
    "# 访问其中的数据\n",
    "a_data = data['escape_group']\n",
    "b_data = data['escape_TF']\n",
    "c_data = data['trait_dis']\n",
    "d_data = data['r_rates']"
   ]
  },
  {
   "cell_type": "code",
   "execution_count": 48,
   "id": "4be3b944-90e1-4710-b733-796f5c1f1a17",
   "metadata": {},
   "outputs": [],
   "source": [
    "single_freq, double_freq = interpolator_x(x, xx, sample_times, times)\n",
    "escape_freq              = interpolator_ex(ex, sample_times, times)\n",
    "p_wt_freq, p_mut_k_freq  = interpolator_p(p_wt, p_mut_k,sample_times, times)\n",
    "r_rates_times            = interpolation(sample_times, r_rates)(times)\n",
    "\n",
    "# covariance matrix, flux term and delta_x\n",
    "flux_mu      = get_mutation_flux(single_freq,escape_freq,muVec)         # mutation part\n",
    "flux_rec     = get_recombination_flux(single_freq,r_rates_times, p_wt_freq,p_mut_k_freq,trait_dis) # recombination part\n",
    "delta_x      = cal_delta_x(single_freq,times)"
   ]
  },
  {
   "cell_type": "code",
   "execution_count": 49,
   "id": "460ba916-1a96-4496-941c-b8ae65fed909",
   "metadata": {},
   "outputs": [],
   "source": [
    "source = (delta_x + flux_rec + flux_mu).T"
   ]
  },
  {
   "cell_type": "code",
   "execution_count": 50,
   "id": "86f152d4-0913-402f-a740-3ef1115d9606",
   "metadata": {},
   "outputs": [
    {
     "data": {
      "image/png": "[encoded data removed]",
      "text/plain": [
       "<Figure size 640x480 with 1 Axes>"
      ]
     },
     "metadata": {},
     "output_type": "display_data"
    }
   ],
   "source": [
    "import mplot as mp\n",
    "BKCOLOR  = '#252525'\n",
    "\n",
    "box = dict(left=0.08, right=0.98, bottom=0.08, top=0.98)\n",
    "gs  = gridspec.GridSpec(1, 1, width_ratios=[1.0], height_ratios=[1.0], **box)\n",
    "ax  = plt.subplot(gs[0, 0])\n",
    "\n",
    "pprops = { 'xticks':      [0, 600],\n",
    "           'yticks':      [-0.05, 0, 0.05],\n",
    "           'nudgey':      1,\n",
    "           'xlabel':      '',\n",
    "           'ylabel':      'Source',\n",
    "           'plotprops':   {'lw': 1, 'ls': '-', 'alpha': 0.2 },\n",
    "           'axoffset':    0.1,\n",
    "           'theme':       'open'}\n",
    "\n",
    "xdat = [times for k in range(len(source))]\n",
    "ydat = source\n",
    "mp.plot(type='line',ax=ax, x=xdat, y=ydat, colors=[BKCOLOR for k in range(len(source))], **pprops)\n",
    "\n",
    "# mp.plot(type='line',ax=ax, x=[times], y=[source_avg], colors=[BKCOLOR], **pprops)\n"
   ]
  },
  {
   "cell_type": "code",
   "execution_count": 54,
   "id": "ae5206b8-cfda-440e-b17f-0ffefc40f60d",
   "metadata": {},
   "outputs": [],
   "source": [
    "infer_tags = ['700010040-3','700010040-5','700010058-3','700010058-5','700010077-3','700010077-5',\n",
    "              '700010470-3','700010470-5','700010607-3','703010131-3','703010131-5','703010159-3',\n",
    "              '703010256-3','703010256-5','704010042-3','704010042-5','705010162-3','705010162-5',\n",
    "              '705010185-5','705010198-3','706010164-3','706010164-5']\n",
    "\n",
    "for tag in infer_tags:\n",
    "    \n",
    "    rawdata  = np.load('%s/rawdata/rawdata_%s.npz'%(HIV_DIR,tag), allow_pickle=True)\n",
    "    p_sites      = rawdata['special_sites']\n",
    "    \n",
    "    f = open(\"%s/input/spsite/sp-%s.dat\"%(HIV_DIR,tag),'w')\n",
    "    f.write('%s' % ('\\t'.join(str(int(p_site)) for p_site in p_sites)))\n",
    "    f.close()"
   ]
  },
  {
   "cell_type": "code",
   "execution_count": null,
   "id": "54f5ee36-9f77-4112-a8c9-348ce8d9cbf2",
   "metadata": {},
   "outputs": [],
   "source": []
  }
 ],
 "metadata": {
  "kernelspec": {
   "display_name": "Python 3 (ipykernel)",
   "language": "python",
   "name": "python3"
  },
  "language_info": {
   "codemirror_mode": {
    "name": "ipython",
    "version": 3
   },
   "file_extension": ".py",
   "mimetype": "text/x-python",
   "name": "python",
   "nbconvert_exporter": "python",
   "pygments_lexer": "ipython3",
   "version": "3.10.9"
  },
  "widgets": {
   "application/vnd.jupyter.widget-state+json": {
    "state": {},
    "version_major": 2,
    "version_minor": 0
   }
  }
 },
 "nbformat": 4,
 "nbformat_minor": 5
}
