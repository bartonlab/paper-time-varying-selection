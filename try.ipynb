{
 "cells": [
  {
   "cell_type": "code",
   "execution_count": 26,
   "id": "d6ad701b",
   "metadata": {},
   "outputs": [
    {
     "name": "stdout",
     "output_type": "stream",
     "text": [
      "This notebook was prepared using:\n",
      "python version 3.10.9 | packaged by conda-forge | (main, Feb  2 2023, 20:26:08) [Clang 14.0.6 ]\n",
      "numpy version 1.24.2\n",
      "pandas version 1.5.3\n",
      "matplotlib version 3.7.1\n"
     ]
    }
   ],
   "source": [
    "print('This notebook was prepared using:')\n",
    "\n",
    "import os\n",
    "import sys\n",
    "print('python version %s' % sys.version)\n",
    "\n",
    "import numpy as np\n",
    "print('numpy version %s' % np.__version__)\n",
    "\n",
    "import pandas as pd\n",
    "print('pandas version %s' % pd.__version__)\n",
    "\n",
    "import math\n",
    "from math import isnan\n",
    "\n",
    "import matplotlib\n",
    "import matplotlib.cm as cm\n",
    "import matplotlib.pyplot as plt\n",
    "import matplotlib.gridspec as gridspec\n",
    "import matplotlib.image as mpimg\n",
    "print('matplotlib version %s' % matplotlib.__version__)\n",
    "\n",
    "import re\n",
    "import sys\n",
    "import argparse\n",
    "import scipy as sp\n",
    "import random\n",
    "\n",
    "from scipy import integrate\n",
    "import scipy.interpolate as sp_interpolate\n",
    "import statistics\n",
    "\n",
    "from dataclasses import dataclass\n",
    "import time as time_module\n",
    "\n",
    "import simulation as sim\n",
    "import importlib\n",
    "\n",
    "# GitHub directories\n",
    "HIV_DIR = 'data/HIV'\n",
    "MPL_DIR = 'src/MPL'\n",
    "SIM_DIR = 'data/simulation'\n",
    "FIG_DIR = 'figures'"
   ]
  },
  {
   "cell_type": "code",
   "execution_count": 3,
   "id": "333508cf",
   "metadata": {},
   "outputs": [],
   "source": [
    "### parameter\n",
    "importlib.reload(sim)\n",
    "\n",
    "generations = 500\n",
    "fn = np.zeros(generations+1)\n",
    "fi = np.zeros(generations+1)\n",
    "\n",
    "for t in range(len(fn)):\n",
    "    fi[t] = 0.04 - 0.08/generations * t\n",
    "    fn[t] = 0.1  - 0.05/generations * t\n",
    "\n",
    "pdata = {  \n",
    "    'NUC':           ['A', 'T'],      # all possible alleles\n",
    "    'xfile':         '0',             # output file name\n",
    "    'seq_length':    20,              # sequence length\n",
    "    'pop_size':      1000,            # population size\n",
    "    'generations':   generations,     # number of total generations\n",
    "    'totalT':        500,             # generations used to infer\n",
    "    'mut_rate':      1e-3,            # mutation rate\n",
    "    'rec_rate':      1e-3,            # recombination rate\n",
    "    'inital_state':  4,               # number of initial sub-population\n",
    "    'n_ben':         4,               # number of beneficial mutations\n",
    "    'n_del':         4,               # number of deleterious mutations\n",
    "    's_ben':         0.02,            # selection coefficient of beneficial mutations\n",
    "    's_del':         -0.02,           # selection coefficient of deleterious mutations\n",
    "    'fi':            fi,              # time-varying selection coefficient for individual site\n",
    "    'fn':            fn,              # time-varying selection coefficient for binary trait\n",
    "    'escape_group':  [[12,15,17]],    # escape sites\n",
    "    'escape_TF':     [[0,0,0]],       # wild type sequences for escape sites\n",
    "    'trait_dis':     [[3,2]],         # distance between trait sites\n",
    "    'p_sites':       [13,18],         # special sites (not escape sites but still time-varying)\n",
    "    'x_thresh':      -0.05,           # threshold for single allele frequency\n",
    "    'gamma_s':       10,              # regularization - selection coefficients - constant part\n",
    "    'gamma_2c':      1000000,         # regularization - the time derivative of the selection coefficients\n",
    "    'gamma_2tv':     500,             # regularization - the time derivative of the selection coefficients\n",
    "    'IF_raw':        True,            # True, using raw data; false, using finite sample noise\n",
    "    }"
   ]
  },
  {
   "cell_type": "code",
   "execution_count": 22,
   "id": "4f1a5a81",
   "metadata": {},
   "outputs": [
    {
     "name": "stdout",
     "output_type": "stream",
     "text": [
      "501\n",
      "501\n"
     ]
    }
   ],
   "source": [
    "import numpy as np\n",
    "totalT = 500\n",
    "t_step = 1\n",
    "sample_times    = np.linspace(0,totalT,int(totalT/t_step)+1)\n",
    "times        = np.linspace(0,totalT,totalT+1)\n",
    "print(len(sample_times))\n",
    "print(len(times))\n"
   ]
  },
  {
   "cell_type": "code",
   "execution_count": 28,
   "id": "b1a23e62",
   "metadata": {},
   "outputs": [
    {
     "name": "stdout",
     "output_type": "stream",
     "text": [
      "[0.012097086856996613, 0.012627638848009803, 0.019998566856854447, 0.01590045605643212, 0.004814453715163591, -0.004810329307196423, -0.011685521315266182, 0.0016849984599446035, 0.0004401019265885476, 0.005426608407518101, 0.010266852597288852, 0.0030913650270542247, -0.005454647537296731, -0.00453601377694045, -0.0027472330244909544, 0.005109004725453488, -0.010526816801981722, 0.005120330484832386, -0.008197557298636535, -0.0015792032514844953]\n",
      "[0.013895322177801995, 0.01473680981537627, 0.025371773838502556, 0.01820157457170792, 0.006302521154012156, -0.0037563908921678553, -0.015467974853638683, 0.0020409053756962853, 0.00021231849436757473, 0.006756937997006085, 0.011949885385538582, 0.0040661016256516, -0.007627580913448715, -0.004479862939170187, -0.003316498479186716, 0.006160583757860087, -0.014283482155217478, 0.006298120789778914, -0.009532937762870666, -0.0020668829798186493]\n"
     ]
    }
   ],
   "source": [
    "name = str(0)+'_ns'+str(10)+'_dt'+str(10)\n",
    "data_full   = np.load('%s/output/nsdt/c_%s.npz'%(SIM_DIR,name), allow_pickle=\"True\")\n",
    "sc_full     = data_full['selection']\n",
    "TimeVaryingSC = [np.average(sc_full[i]) for i in range(20)]\n",
    "print(TimeVaryingSC)\n",
    "\n",
    "data_full   = np.load('%s/output_multiple/nsdt/c_%s.npz'%(SIM_DIR,name), allow_pickle=\"True\")\n",
    "sc_full     = data_full['selection']\n",
    "TimeVaryingSC = [np.average((sc_full[2*i+1]-sc_full[2*i])) for i in range(20)]\n",
    "print(TimeVaryingSC)\n"
   ]
  },
  {
   "cell_type": "code",
   "execution_count": 33,
   "id": "e8ce2060",
   "metadata": {},
   "outputs": [
    {
     "name": "stdout",
     "output_type": "stream",
     "text": [
      "[0.10661817 0.10641473 0.10602177 0.10545631 0.10473335 0.10386581\n",
      " 0.10286453 0.10173824 0.10049358 0.09922401 0.09797635 0.0967521\n",
      " 0.09555247 0.09437842 0.09323066 0.09210966 0.09101569 0.08994876\n",
      " 0.08890869 0.08789509 0.08690739 0.08594481 0.08500639 0.084091\n",
      " 0.08319731 0.08232385 0.08146897 0.08063084 0.0798075  0.07899679\n",
      " 0.07819644 0.07740398 0.07661682 0.0758322  0.07504723 0.07425885\n",
      " 0.07346386 0.07265894 0.07184061 0.07100526 0.07014913 0.06926838\n",
      " 0.068359   0.06741689 0.06643784 0.06541755 0.06440168 0.06341341\n",
      " 0.06245221 0.06151757 0.06060898 0.05972596 0.05886804 0.05803474\n",
      " 0.05722564 0.05644029 0.05567828 0.0549392  0.05422267 0.05352829\n",
      " 0.05285571 0.05220457 0.05157452 0.05096524 0.0503764  0.04980771\n",
      " 0.04925885 0.04872954 0.04821951 0.0477285  0.04725625 0.04680252\n",
      " 0.04636708 0.0459497  0.04555018 0.0451683  0.04480389 0.04445675\n",
      " 0.04412671 0.04381362 0.04351731 0.04323765 0.04297449 0.04272772\n",
      " 0.04249722 0.04228288]\n",
      "[0.10661817 0.10641473 0.10602177 0.10545631 0.10473335 0.10386581\n",
      " 0.10286453 0.10173824 0.10049358 0.09922401 0.09797635 0.0967521\n",
      " 0.09555247 0.09437842 0.09323066 0.09210966 0.09101569 0.08994876\n",
      " 0.08890869 0.08789509 0.08690739 0.08594481 0.08500639 0.084091\n",
      " 0.08319731 0.08232385 0.08146897 0.08063084 0.0798075  0.07899679\n",
      " 0.07819644 0.07740398 0.07661682 0.0758322  0.07504723 0.07425885\n",
      " 0.07346386 0.07265894 0.07184061 0.07100526 0.07014913 0.06926838\n",
      " 0.068359   0.06741689 0.06643784 0.06541755 0.06440168 0.06341341\n",
      " 0.06245221 0.06151757 0.06060898 0.05972596 0.05886804 0.05803474\n",
      " 0.05722564 0.05644029 0.05567828 0.0549392  0.05422267 0.05352829\n",
      " 0.05285571 0.05220457 0.05157452 0.05096524 0.0503764  0.04980771\n",
      " 0.04925885 0.04872954 0.04821951 0.0477285  0.04725625 0.04680252\n",
      " 0.04636708 0.0459497  0.04555018 0.0451683  0.04480389 0.04445675\n",
      " 0.04412671 0.04381362 0.04351731 0.04323765 0.04297449 0.04272772\n",
      " 0.04249722 0.04228288]\n"
     ]
    }
   ],
   "source": [
    "tag = '700010058-3'\n",
    "data_full   = np.load('%s/output/c_%s_1.npz'%(HIV_DIR,tag), allow_pickle=\"True\")\n",
    "sc_full     = data_full['selection']\n",
    "print(sc_full[-1])\n",
    "\n",
    "data_full   = np.load('%s/output_try/c_%s_1.npz'%(HIV_DIR,tag), allow_pickle=\"True\")\n",
    "sc_full     = data_full['selection']\n",
    "print(sc_full[-1])"
   ]
  },
  {
   "cell_type": "code",
   "execution_count": 2,
   "id": "84b116ca",
   "metadata": {},
   "outputs": [
    {
     "name": "stdout",
     "output_type": "stream",
     "text": [
      "[[1, 1, 1, 4], [2, 4, 4], [3, 2, 3, 4, 3]]\n"
     ]
    }
   ],
   "source": [
    "def read_file_special(name):\n",
    "    result = []\n",
    "\n",
    "    with open('%s.dat'%name, 'r') as file:\n",
    "        for line in file:\n",
    "            line_data = []\n",
    "            for item in line.split():\n",
    "                if '/' in item:\n",
    "                    sub_items = list(map(int, item.split('/')))\n",
    "                    line_data.append(sub_items)\n",
    "                else:\n",
    "                    line_data.append([int(item)])\n",
    "            result.append(line_data)\n",
    "\n",
    "    return result\n",
    "\n",
    "def read_file(name):\n",
    "    result = []\n",
    "    with open('%s.dat'%name, 'r') as file:\n",
    "        for line in file:\n",
    "            line_data = []\n",
    "            for item in line.split():\n",
    "                line_data.append(int(item))\n",
    "            result.append(line_data)\n",
    "    return result\n",
    "\n",
    "a = read_file('b')\n",
    "print(a)"
   ]
  },
  {
   "cell_type": "code",
   "execution_count": 29,
   "id": "f527deb9",
   "metadata": {},
   "outputs": [
    {
     "name": "stdout",
     "output_type": "stream",
     "text": [
      "[[1.0, 2, 3], [1.0, 2, 4], [4.0, 2, 3], [4.0, 2, 4]]\n",
      "[[2, 4]]\n",
      "[[3, 2], [4, 2], [5, 2]]\n"
     ]
    }
   ],
   "source": [
    "from itertools import product\n",
    "\n",
    "def generate_combinations(line):\n",
    "    return list(product(*line))\n",
    "\n",
    "result = [[[1.,4.], [2], [3, 4]],[[2],[4]],[[3,4,5],[2]]]\n",
    "\n",
    "\n",
    "sWT_n = list(product(*result[0]))\n",
    "sWT_n = [list(combination) for combination in sWT_n]\n",
    "print(sWT_n)\n",
    "\n",
    "sWT_n = list(product(*result[1]))\n",
    "sWT_n = [list(combination) for combination in sWT_n]\n",
    "print(sWT_n)\n",
    "\n",
    "sWT_n = list(product(*result[2]))\n",
    "sWT_n = [list(combination) for combination in sWT_n]\n",
    "print(sWT_n)"
   ]
  },
  {
   "cell_type": "code",
   "execution_count": 24,
   "id": "fb92ab90",
   "metadata": {},
   "outputs": [],
   "source": [
    "import inference_HIV as HIV\n",
    "importlib.reload(HIV)\n",
    "\n",
    "tag = '700010077-3'\n",
    "gamma1 = 1\n",
    "result       = HIV.AnalyzeData(tag,gamma1)\n"
   ]
  },
  {
   "cell_type": "code",
   "execution_count": 15,
   "id": "c2583246",
   "metadata": {},
   "outputs": [
    {
     "name": "stdout",
     "output_type": "stream",
     "text": [
      "[[3, 1, 2, 1, 4], [1, 3, 2, 3], [3, 3, 1], [1, 3, 1, 4], [3, 1, 4, 3, 1, 2, 3, 2, 1, 3, 4, 3, 3, 3, 3, 3, 4, 3, 3, 3, 1, 2], [1, 1, 2, 4, 2]]\n"
     ]
    }
   ],
   "source": [
    "print(result.escape_TF)"
   ]
  },
  {
   "cell_type": "code",
   "execution_count": 21,
   "id": "465a8ab4",
   "metadata": {},
   "outputs": [
    {
     "name": "stdout",
     "output_type": "stream",
     "text": [
      "[[[3], [1], [2], [1], [2, 4]], [[1], [3], [2], [3]], [[3], [3], [1]], [[1], [3], [1], [4]], [[3], [1], [4], [3], [1], [2], [3], [2], [1], [3], [4], [1, 3], [3], [3], [3], [3], [4], [3], [3], [3], [1], [2]], [[1], [1], [2], [4], [2]]]\n"
     ]
    }
   ],
   "source": [
    "print(result.escape_TF)"
   ]
  },
  {
   "cell_type": "code",
   "execution_count": 42,
   "id": "dda5a737",
   "metadata": {},
   "outputs": [],
   "source": [
    "importlib.reload(sim)\n",
    "\n",
    "# Load the simulation data\n",
    "data         = np.loadtxt(\"%s/example/example-0.dat\"%(SIM_DIR))\n",
    "escape_group = sim.read_file('example','traitsite-0.dat')\n",
    "trait_dis    = sim.read_file('example','traitsite-0.dat')\n",
    "\n",
    "p_sites      = [13,18]\n",
    "# Calculate covariance matrix\n",
    "sVec,nVec,eVec = sim.getSequence(data,escape_group)\n",
    "seq_length     = len(sVec[0][0])      # sequence length\n",
    "ne             = len(escape_group) # trait group\n",
    "\n",
    "muVec    = -np.ones(seq_length)\n",
    "x_length = 0\n",
    "for i in range(seq_length):\n",
    "    allele_count = np.zeros(len(sVec))\n",
    "    allele_count = [np.sum([(sVec[t][k][i]==1)*nVec[t][k] for k in range(len(sVec[t]))]) for t in range(len(sVec))]\n",
    "    if max(allele_count) / np.sum(nVec[0]) >= 0:\n",
    "        muVec[i] = x_length\n",
    "        x_length += 1\n",
    "x_length      += ne\n"
   ]
  },
  {
   "cell_type": "code",
   "execution_count": 60,
   "id": "8f006faa",
   "metadata": {},
   "outputs": [],
   "source": [
    "def get_allele_frequency(sVec,nVec,eVec,muVec):\n",
    "\n",
    "    x  = np.zeros((len(nVec),x_length))           # single allele frequency\n",
    "    xx = np.zeros((len(nVec),x_length,x_length))  # pair allele frequency\n",
    "    for t in range(len(nVec)):\n",
    "        pop_size_t = np.sum([nVec[t]])\n",
    "        # individual locus part\n",
    "        for i in range(seq_length):\n",
    "            aa = int(muVec[i])\n",
    "            if aa != -1:\n",
    "                x[t,aa] = np.sum([sVec[t][k][i] * nVec[t][k] for k in range(len(sVec[t]))]) / pop_size_t\n",
    "            for j in range(int(i+1), seq_length):\n",
    "                bb = int(muVec[j])\n",
    "                if bb != -1:\n",
    "                    xx[t,aa,bb] = np.sum([sVec[t][k][i] * sVec[t][k][j] * nVec[t][k] for k in range(len(sVec[t]))]) / pop_size_t\n",
    "                    xx[t,aa,bb] = np.sum([sVec[t][k][i] * sVec[t][k][j] * nVec[t][k] for k in range(len(sVec[t]))]) / pop_size_t\n",
    "        # escape part\n",
    "        for n in range(ne):\n",
    "            aa      = x_length-ne+n\n",
    "            x[t,aa] = np.sum([eVec[t][k][n] * nVec[t][k] for k in range(len(sVec[t]))]) / pop_size_t\n",
    "            for m in range(int(n+1), ne):\n",
    "                bb          = x_length-ne+m\n",
    "                xx[t,aa,bb] = np.sum([eVec[t][k][n] * eVec[t][k][m] * nVec[t][k] for k in range(len(sVec[t]))]) / pop_size_t\n",
    "                xx[t,bb,aa] = np.sum([eVec[t][k][n] * eVec[t][k][m] * nVec[t][k] for k in range(len(sVec[t]))]) / pop_size_t\n",
    "            for j in range(seq_length):\n",
    "                bb = int(muVec[j])\n",
    "                if bb != -1:\n",
    "                    xx[t,bb,aa] = np.sum([sVec[t][k][j] * eVec[t][k][n] * nVec[t][k] for k in range(len(sVec[t]))]) / pop_size_t\n",
    "                    xx[t,aa,bb] = np.sum([sVec[t][k][j] * eVec[t][k][n] * nVec[t][k] for k in range(len(sVec[t]))]) / pop_size_t\n",
    "    return x,xx\n",
    "\n",
    "# calculate escape frequency (binary case)\n",
    "def get_escape_fre_term(sVec,nVec):\n",
    "    ex  = np.zeros((len(nVec),ne,seq_length))\n",
    "    for t in range(len(nVec)):\n",
    "        pop_size_t = np.sum([nVec[t]])\n",
    "        for k in range(len(sVec[t])):\n",
    "            for n in range(ne):\n",
    "                n_mutations = 0\n",
    "                for nn in escape_group[n]:\n",
    "                    if sVec[t][k][nn] != 0:\n",
    "                        n_mutations += 1\n",
    "                        site = nn\n",
    "                if n_mutations == 1:\n",
    "                    ex[t,n,site] += nVec[t][k]\n",
    "        ex[t,:,:] = ex[t,:,:] / pop_size_t\n",
    "    return ex\n",
    "\n",
    "x,xx         = get_allele_frequency(sVec,nVec,eVec,muVec) \n",
    "covar_int    = sim.diffusion_matrix_at_t(x,xx,x_length)\n"
   ]
  },
  {
   "cell_type": "code",
   "execution_count": 79,
   "id": "967c7b17",
   "metadata": {},
   "outputs": [
    {
     "name": "stdout",
     "output_type": "stream",
     "text": [
      "1.6262595409181634e-07\n"
     ]
    }
   ],
   "source": [
    "gamma_1s      = 10/500 # gamma_s/time points\n",
    "gamma_1p      = gamma_1s/10\n",
    "gamma_2c      = 1000000       # 1000000\n",
    "gamma_2tv     = 500\n",
    "\n",
    "# regularization value gamma_1 and gamma_2\n",
    "# individual site: gamma_1s, escape group: gamma_1p\n",
    "gamma1_m = np.zeros((x_length,x_length))\n",
    "for i in range(x_length):\n",
    "    gamma1_m[i][i] = gamma_1s\n",
    "for n in range(ne):\n",
    "    nn = x_length-ne+n\n",
    "    gamma1_m[nn][nn] = gamma_1p\n",
    "\n",
    "# individual site: gamma_2c, escape group and special site: gamma_2tv\n",
    "gamma2 = np.ones(x_length)*gamma_2c\n",
    "for n in range(ne):\n",
    "    gamma2[x_length-ne+n] = gamma_2tv\n",
    "for i in range(len(p_sites)): # special site - time varying\n",
    "    index = int (muVec[p_sites[i]]) \n",
    "    if index != -1:\n",
    "        gamma2[index] = gamma_2tv\n",
    "\n",
    "A_matrix = np.zeros((x_length,x_length))\n",
    "for i in range(x_length):\n",
    "    for j in range(x_length):\n",
    "        A_matrix[i][j] = (np.average(covar_int[:,i,j])+gamma1_m[i,j])/gamma2[i]\n",
    "\n",
    "print(A_matrix[0,0])"
   ]
  },
  {
   "cell_type": "code",
   "execution_count": 46,
   "id": "d328a7f4",
   "metadata": {},
   "outputs": [],
   "source": [
    "d_value, Q_matrix = np.linalg.eig(A_matrix) # calculate the eigenvalues d_value and eigenvectors Q_matrix\n",
    "D_matrix = np.diag(d_value) # D is a diagonal matrix with the eigenvalues of A\n"
   ]
  },
  {
   "cell_type": "code",
   "execution_count": null,
   "id": "7dd01d95",
   "metadata": {},
   "outputs": [],
   "source": []
  },
  {
   "cell_type": "code",
   "execution_count": null,
   "id": "d6e673f5",
   "metadata": {},
   "outputs": [],
   "source": []
  },
  {
   "cell_type": "code",
   "execution_count": null,
   "id": "977a3639",
   "metadata": {},
   "outputs": [],
   "source": []
  },
  {
   "cell_type": "code",
   "execution_count": null,
   "id": "ed961680",
   "metadata": {},
   "outputs": [],
   "source": []
  }
 ],
 "metadata": {
  "kernelspec": {
   "display_name": "Python 3 (ipykernel)",
   "language": "python",
   "name": "python3"
  },
  "language_info": {
   "codemirror_mode": {
    "name": "ipython",
    "version": 3
   },
   "file_extension": ".py",
   "mimetype": "text/x-python",
   "name": "python",
   "nbconvert_exporter": "python",
   "pygments_lexer": "ipython3",
   "version": "3.10.9"
  }
 },
 "nbformat": 4,
 "nbformat_minor": 5
}
