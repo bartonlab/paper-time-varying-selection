{
 "cells": [
  {
   "cell_type": "code",
   "execution_count": 2,
   "id": "d6ad701b",
   "metadata": {},
   "outputs": [
    {
     "name": "stdout",
     "output_type": "stream",
     "text": [
      "This notebook was prepared using:\n",
      "python version 3.10.9 | packaged by conda-forge | (main, Feb  2 2023, 20:26:08) [Clang 14.0.6 ]\n",
      "numpy version 1.24.2\n",
      "pandas version 1.5.3\n",
      "matplotlib version 3.7.1\n"
     ]
    }
   ],
   "source": [
    "print('This notebook was prepared using:')\n",
    "\n",
    "import os\n",
    "import sys\n",
    "print('python version %s' % sys.version)\n",
    "\n",
    "import numpy as np\n",
    "print('numpy version %s' % np.__version__)\n",
    "\n",
    "import pandas as pd\n",
    "print('pandas version %s' % pd.__version__)\n",
    "\n",
    "import math\n",
    "from math import isnan\n",
    "\n",
    "import matplotlib\n",
    "import matplotlib.cm as cm\n",
    "import matplotlib.pyplot as plt\n",
    "import matplotlib.gridspec as gridspec\n",
    "import matplotlib.image as mpimg\n",
    "print('matplotlib version %s' % matplotlib.__version__)\n",
    "\n",
    "import re\n",
    "import sys\n",
    "import argparse\n",
    "import scipy as sp\n",
    "import random\n",
    "\n",
    "from scipy import integrate\n",
    "import scipy.interpolate as sp_interpolate\n",
    "import statistics\n",
    "\n",
    "from dataclasses import dataclass\n",
    "import time as time_module\n",
    "\n",
    "import simulation as sim\n",
    "import importlib\n",
    "\n",
    "# GitHub directories\n",
    "HIV_DIR = 'data/HIV'\n",
    "MPL_DIR = 'src/MPL'\n",
    "SIM_DIR = 'data/simulation'\n",
    "FIG_DIR = 'figures'"
   ]
  },
  {
   "cell_type": "code",
   "execution_count": 196,
   "id": "174910fa",
   "metadata": {},
   "outputs": [
    {
     "data": {
      "image/png": "[encoded data removed]",
      "text/plain": [
       "<Figure size 1000x600 with 1 Axes>"
      ]
     },
     "metadata": {},
     "output_type": "display_data"
    }
   ],
   "source": [
    "# extend the time range\n",
    "TLeft   = int(round(times[-1]*2/10)*10) # time range added before the beginning time\n",
    "TRight  = int(round(times[-1]*2/10)*10) # time range added after the ending time\n",
    "etleft  = np.linspace(-TLeft,-40,int(TLeft/40)) # time added before the beginning time (dt=10)\n",
    "etright = np.linspace(times[-1]+40,times[-1]+TRight,int(TRight/40))\n",
    "ExTimes = np.concatenate((etleft, times, etright))\n",
    "\n",
    "# individual site: gamma_2c, escape group and special site: gamma_2tv\n",
    "# gamma 2 is also time varying, it is smaller at the boundary\n",
    "\n",
    "gamma_t = np.zeros(len(ExTimes))\n",
    "beta_1 = 4\n",
    "beta_2 = 4\n",
    "ratio_1 = 0.1\n",
    "ratio_2 = 0.2\n",
    "alpha1  = np.log(beta_1) / (ratio_1*1000)\n",
    "alpha2  = np.log(beta_2) / (ratio_2*1000)\n",
    "\n",
    "for t in range(len(ExTimes)):\n",
    "    if t <= len(etleft):\n",
    "        gamma_t[t] = beta_1\n",
    "    elif t >= len(etleft)+len(times):\n",
    "        gamma_t[t] = beta_2\n",
    "    elif len(etleft) < t and t < len(etleft)+(len(times)-1)*ratio_1:\n",
    "        tt = (t - len(etleft)) * 1\n",
    "        gamma_t[t] = beta_1 * np.exp(-alpha1 * tt)\n",
    "    elif len(etleft)+(len(times)-1)*(1 - ratio_2) < t and t < len(etleft)+len(times):\n",
    "        tt = (t - len(etleft)) * 1 - (1 - ratio_2) * totalT\n",
    "        gamma_t[t] = 1 * np.exp(alpha2 * tt)\n",
    "    else:\n",
    "        gamma_t[t] = 1\n",
    "\n",
    "\n",
    "plt.figure(figsize=(10, 6))\n",
    "plt.plot(ExTimes, gamma_t, label=\"gamma_prime\")\n",
    "plt.title(\"Plot of gamma_prime\")\n",
    "plt.xlabel(\"t\")\n",
    "plt.ylabel(\"gamma_prime\")\n",
    "plt.grid(True)\n",
    "plt.show()\n",
    "\n"
   ]
  },
  {
   "cell_type": "code",
   "execution_count": 194,
   "id": "81045754",
   "metadata": {},
   "outputs": [],
   "source": [
    "const_num = 6\n",
    "output = '_ll_11'\n",
    "# Neumann boundary condition\n",
    "f = open('%s/simple/mpl_collected%s.csv'%(SIM_DIR,output),'w')\n",
    "f.write('trajectory,ns,delta_t')\n",
    "for i in range(const_num):\n",
    "    f.write(',sc_%d'%i)\n",
    "f.write('\\n')\n",
    "\n",
    "for k in range(100):\n",
    "    name = str(k)\n",
    "    data_full   = np.load('%s/simple/output%s/c_%s.npz'%(SIM_DIR,output,name), allow_pickle=\"True\")\n",
    "    sc_full     = data_full['selection']\n",
    "    TimeVaryingSC = [np.average(sc_full[i]) for i in range(const_num)]\n",
    "    f.write('%d,1000,1'%k)\n",
    "    for i in range(const_num):\n",
    "        f.write(',%f'%TimeVaryingSC[i])\n",
    "    f.write('\\n')\n",
    "f.close()"
   ]
  },
  {
   "cell_type": "code",
   "execution_count": 189,
   "id": "602c5278",
   "metadata": {},
   "outputs": [
    {
     "name": "stdout",
     "output_type": "stream",
     "text": [
      "2.8284271247461903\n"
     ]
    }
   ],
   "source": [
    "ratio = 0.2\n",
    "alpha  = np.log(beta) / (ratio*1000)\n",
    "gamma =  np.exp(alpha * 150)\n",
    "print(gamma)"
   ]
  },
  {
   "cell_type": "code",
   "execution_count": 35,
   "id": "2c8fbf30",
   "metadata": {},
   "outputs": [],
   "source": [
    "times = [0,2,5,6,10,12,15,18,25,32,40,80,85,88,90,92,93,95,96,97,98]\n",
    "# extend the time range\n",
    "theta = 0.1\n",
    "TLeft   = int(round(times[-1]*theta/10)*10)\n",
    "TRight  = int(round(times[-1]*theta/10)*10)\n",
    "ex_gap  = int(theta*20)\n",
    "etleft  = np.linspace(-TLeft,-ex_gap,int(TLeft/ex_gap))\n",
    "etright = np.linspace(times[-1]+ex_gap,times[-1]+TRight,int(TRight/ex_gap))\n",
    "ExTimes = np.concatenate((etleft, times, etright))"
   ]
  },
  {
   "cell_type": "code",
   "execution_count": 37,
   "id": "c4ba582b",
   "metadata": {},
   "outputs": [
    {
     "data": {
      "image/png": "[encoded data removed]",
      "text/plain": [
       "<Figure size 1000x600 with 1 Axes>"
      ]
     },
     "metadata": {},
     "output_type": "display_data"
    }
   ],
   "source": [
    "# regularization value gamma_1 and gamma_2\n",
    "\n",
    "# gamma 2 is also time varying, it is larger at the boundary\n",
    "gamma_t = np.zeros(len(ExTimes))\n",
    "tv_range = int(round(times[-1]*0.1/10)*10)\n",
    "alpha1  = np.log(4) / tv_range\n",
    "alpha2  = np.log(4) / tv_range\n",
    "for t in range(len(ExTimes)):\n",
    "    if ExTimes[t] <= 0:\n",
    "        gamma_t[t] = 4\n",
    "    elif ExTimes[t] >= times[-1]:\n",
    "        gamma_t[t] = 4\n",
    "    elif 0 < ExTimes[t] and ExTimes[t] <= tv_range:\n",
    "        gamma_t[t] = 4 * np.exp(-alpha1 * ExTimes[t])\n",
    "    elif times[-1]-tv_range <= ExTimes[t] and ExTimes[t] < times[-1]:\n",
    "        gamma_t[t] = 1 * np.exp(alpha2 * (ExTimes[t]-times[-1]+tv_range))\n",
    "    else:\n",
    "        gamma_t[t] = 1\n",
    "\n",
    "plt.figure(figsize=(10, 6))\n",
    "plt.plot(ExTimes, gamma_t, label=\"gamma_prime\")\n",
    "plt.title(\"Plot of gamma_prime\")\n",
    "plt.xlabel(\"t\")\n",
    "plt.ylabel(\"gamma_prime\")\n",
    "plt.grid(True)\n",
    "plt.show()\n"
   ]
  },
  {
   "cell_type": "code",
   "execution_count": null,
   "id": "c62eca15",
   "metadata": {},
   "outputs": [],
   "source": []
  },
  {
   "cell_type": "code",
   "execution_count": null,
   "id": "c09b6d90",
   "metadata": {},
   "outputs": [],
   "source": []
  },
  {
   "cell_type": "code",
   "execution_count": null,
   "id": "8ed44ad4",
   "metadata": {},
   "outputs": [],
   "source": []
  },
  {
   "cell_type": "code",
   "execution_count": 39,
   "id": "af9587ff",
   "metadata": {},
   "outputs": [
    {
     "data": {
      "image/png": "[encoded data removed]",
      "text/plain": [
       "<Figure size 1000x600 with 1 Axes>"
      ]
     },
     "metadata": {},
     "output_type": "display_data"
    }
   ],
   "source": [
    "import numpy as np\n",
    "import matplotlib.pyplot as plt\n",
    "\n",
    "totalT = 1000\n",
    "times = np.linspace(0,totalT,totalT+1)\n",
    "\n",
    "TLeft   = int(round(times[-1]*0.5/10)*10) # time range added before the beginning time\n",
    "TRight  = int(round(times[-1]*0.5/10)*10) # time range added after the ending time\n",
    "etleft  = np.linspace(-TLeft,-5,int(TLeft/5)) # time added before the beginning time (dt=10)\n",
    "etright = np.linspace(times[-1]+5,times[-1]+TRight,int(TRight/5))\n",
    "ExTimes = np.concatenate((etleft, times, etright))\n",
    "\n",
    "\n",
    "        \n",
    "# 绘图\n",
    "plt.figure(figsize=(10, 6))\n",
    "plt.plot(ExTimes, gamma_t, label=\"gamma_prime\")\n",
    "plt.title(\"Plot of gamma_prime\")\n",
    "plt.xlabel(\"t\")\n",
    "plt.ylabel(\"gamma_prime\")\n",
    "plt.grid(True)\n",
    "plt.show()"
   ]
  },
  {
   "cell_type": "code",
   "execution_count": 40,
   "id": "e4580c66",
   "metadata": {},
   "outputs": [
    {
     "data": {
      "text/plain": [
       "2"
      ]
     },
     "execution_count": 40,
     "metadata": {},
     "output_type": "execute_result"
    }
   ],
   "source": [
    "max(0,2)"
   ]
  },
  {
   "cell_type": "code",
   "execution_count": 52,
   "id": "6695e85b",
   "metadata": {},
   "outputs": [],
   "source": [
    "interpolation = lambda a,b: sp_interpolate.interp1d(a,b,kind='linear')\n",
    "\n",
    "def interpolator_x(single_freq, double_freq, current_times, result_times):\n",
    "    single_freq_temp = np.zeros((len(result_times),x_length))\n",
    "    double_freq_temp = np.zeros((len(result_times),x_length,x_length))\n",
    "\n",
    "    for i in range(x_length):\n",
    "        single_freq_temp[:,i] = interpolation(current_times, single_freq[:,i])(result_times)\n",
    "        for j in range(x_length):\n",
    "            double_freq_temp[:,i,j] = interpolation(current_times, double_freq[:,i,j])(result_times)\n",
    "\n",
    "    return single_freq_temp, double_freq_temp\n",
    "\n",
    "def interpolator_ex(escape_freq, current_times, result_times):\n",
    "    if ne != 0:\n",
    "        escape_freq_temp  = np.zeros((len(result_times),ne,seq_length,q))\n",
    "    else: # if there is no escape group, return 0\n",
    "        escape_freq_temp  = []\n",
    "\n",
    "    for n in range(ne):\n",
    "        for i in range(seq_length):\n",
    "            for a in range(q):\n",
    "                escape_freq_temp[:,n,i,a] = interpolation(current_times, escape_freq[:,n,i,a])(result_times)\n",
    "\n",
    "    return escape_freq_temp\n",
    "\n",
    "def interpolator_p(p_wt, p_mut_k, current_times, result_times):\n",
    "    wt_temp    = np.zeros((len(result_times),ne))\n",
    "    mut_k_temp = np.zeros((len(result_times),seq_length,3))\n",
    "    # interpolation for wild type frequency\n",
    "    for n in range(ne):\n",
    "        wt_temp[:,n] = interpolation(current_times, p_wt[:,n])(result_times)\n",
    "\n",
    "    # interpolation for frequency related to recombination part\n",
    "    for i in range(seq_length):\n",
    "        for j in range(3):\n",
    "            mut_k_temp[:,i,j] = interpolation(current_times, p_mut_k[:,i,j])(result_times)\n",
    "    \n",
    "    return wt_temp, mut_k_temp\n",
    "\n",
    "def diffusion_matrix_at_t(x,xx):\n",
    "    x_length = len(x[0])\n",
    "    C = np.zeros([len(x),x_length,x_length])\n",
    "    for t in range(len(x)):\n",
    "        for i in range(x_length):\n",
    "            C[t,i,i] = x[t,i] - x[t,i] * x[t,i]\n",
    "            for j in range(int(i+1) ,x_length):\n",
    "                C[t,i,j] = xx[t,i,j] - x[t,i] * x[t,j]\n",
    "                C[t,j,i] = xx[t,i,j] - x[t,i] * x[t,j]\n",
    "    return C\n",
    "\n",
    "def get_mutation_flux(x,ex,muVec):\n",
    "    flux = np.zeros((len(x),x_length))\n",
    "    for t in range(len(x)):\n",
    "        for i in range(seq_length):\n",
    "            for a in range(q):\n",
    "                aa = int(muVec[i][a])\n",
    "                if aa != -1:\n",
    "                    for b in range(q):\n",
    "                        bb = int(muVec[i][b])\n",
    "                        if b != a:\n",
    "                            if bb != -1:\n",
    "                                flux[t,aa] +=  muMatrix[b][a] * x[t,bb] - muMatrix[a][b] * x[t,aa]\n",
    "                            else:\n",
    "                                flux[t,aa] += -muMatrix[a][b] * x[t,aa]\n",
    "        for n in range(ne):\n",
    "            for nn in range(len(escape_group[n])):\n",
    "                for a in range(q):\n",
    "                    WT = escape_TF[n][nn]\n",
    "                    index = escape_group[n][nn]\n",
    "                    if a not in WT:\n",
    "                        for b in WT:\n",
    "                            flux[t, x_length-ne+n] += muMatrix[b][a] * (1 - x[t,x_length-ne+n]) - muMatrix[a][b] * ex[t,n,index,a]\n",
    "    return flux\n",
    "\n",
    "# calculate recombination flux term\n",
    "def get_recombination_flux(x,p_wt,p_mut_k,trait_dis):\n",
    "    flux = np.zeros((len(x),x_length))\n",
    "    for n in range(ne):\n",
    "        for t in range(len(x)):\n",
    "            fluxIn  = 0\n",
    "            fluxOut = 0\n",
    "\n",
    "            for nn in range(len(escape_group[n])-1):\n",
    "                k_index = escape_group[n][0]+nn\n",
    "                fluxIn  += trait_dis[n][nn] * p_wt[t][n]*p_mut_k[t][k_index][0]\n",
    "                fluxOut += trait_dis[n][nn] * p_mut_k[t][k_index][1]*p_mut_k[t][k_index][2]\n",
    "\n",
    "            flux[t,x_length-ne+n] = r_rate * (fluxIn - fluxOut)\n",
    "\n",
    "    return flux\n",
    "\n",
    "# calculate the difference between the frequency at time t and time t-1\n",
    "def cal_delta_x(single_freq,times):\n",
    "    delta_x = np.zeros((len(single_freq),x_length))   # difference between the frequency at time t and time t-1s\n",
    "#     calculate by np.gradient function\n",
    "#         for ii in range(x_length):\n",
    "#             delta_x[:,ii] = np.gradient(single_freq.T[ii],times)\n",
    "#     calculate manually\n",
    "    for t in range(len(single_freq)-1):\n",
    "        delta_x[t] = (single_freq[t+1] - single_freq[t])/(times[t+1]-times[t])\n",
    "\n",
    "    # dt for the last time point, make sure the expected x[t+1] is less than 1\n",
    "    dt_last = times[-1] - times[-2]\n",
    "    for ii in range(x_length):\n",
    "        if single_freq[-1,ii] + delta_x[-1,ii]*dt_last> 1:\n",
    "            delta_x[-1,ii] = (1 - single_freq[-1,ii])/dt_last\n",
    "        else:\n",
    "            delta_x[-1,ii] = delta_x[-2,ii]\n",
    "\n",
    "    return delta_x"
   ]
  },
  {
   "cell_type": "code",
   "execution_count": 103,
   "id": "e050cfbe",
   "metadata": {},
   "outputs": [
    {
     "name": "stdout",
     "output_type": "stream",
     "text": [
      "217\n"
     ]
    }
   ],
   "source": [
    "tag = '703010131-3'\n",
    "rawdata  = np.load('%s/rawdata/rawdata_%s.npz'%(HIV_DIR,tag), allow_pickle=True)\n",
    "# information for individual sites\n",
    "x            = rawdata['single_freq']\n",
    "xx           = rawdata['double_freq']\n",
    "ex           = rawdata['escape_freq']\n",
    "muVec        = rawdata['muVec']\n",
    "sample_times = rawdata['sample_times']\n",
    "times        = rawdata['times']\n",
    "time_step    = rawdata['time_step']\n",
    "seq_length   = rawdata['seq_length']\n",
    "\n",
    "# information for escape group\n",
    "p_wt         = rawdata['p_wt_freq']\n",
    "p_mut_k      = rawdata['p_mut_k_freq']\n",
    "p_sites      = rawdata['special_sites']\n",
    "escape_group = rawdata['escape_group'].tolist()\n",
    "escape_TF    = rawdata['escape_TF'].tolist()\n",
    "trait_dis    = rawdata['trait_dis'].tolist()\n",
    "\n",
    "ne           = len(escape_group)\n",
    "x_length     = len(x[0])\n",
    "print(x_length)"
   ]
  },
  {
   "cell_type": "code",
   "execution_count": 104,
   "id": "57f15956",
   "metadata": {},
   "outputs": [
    {
     "name": "stdout",
     "output_type": "stream",
     "text": [
      "[1.         1.         1.         0.83333333 1.         1.\n",
      " 1.         1.         1.        ]\n"
     ]
    }
   ],
   "source": [
    "print(x[:,18])"
   ]
  },
  {
   "cell_type": "code",
   "execution_count": 56,
   "id": "3a64caf4",
   "metadata": {},
   "outputs": [],
   "source": [
    "NUC = ['-', 'A', 'C', 'G', 'T']\n",
    "q = len(NUC)\n",
    "muMatrix = np.loadtxt(\"%s/Zanini-extended.dat\"%HIV_DIR)\n",
    "\n",
    "# after interpolation, calculate all the required data\n",
    "single_freq, double_freq = interpolator_x(x, xx, sample_times, times)\n",
    "escape_freq              = interpolator_ex(ex, sample_times, times)\n",
    "p_wt_freq, p_mut_k_freq  = interpolator_p(p_wt, p_mut_k,sample_times, times)"
   ]
  },
  {
   "cell_type": "code",
   "execution_count": 58,
   "id": "0e28116f",
   "metadata": {},
   "outputs": [],
   "source": [
    "r_rate = 1.4e-5\n",
    "# covariance matrix, flux term and delta_x\n",
    "covariance_n = diffusion_matrix_at_t(single_freq, double_freq)\n",
    "covariance   = np.swapaxes(covariance_n, 0, 2)\n",
    "flux_mu      = get_mutation_flux(single_freq,escape_freq,muVec)         # mutation part\n",
    "flux_rec     = get_recombination_flux(single_freq,p_wt_freq,p_mut_k_freq,trait_dis) # recombination part\n",
    "delta_x      = cal_delta_x(single_freq,times)\n",
    "\n",
    "# extend the time range\n",
    "TLeft   = int(round(times[-1]*theta/10)*10)\n",
    "TRight  = int(round(times[-1]*theta/10)*10)\n",
    "ex_gap  = int(theta*20)\n",
    "etleft  = np.linspace(-TLeft,-ex_gap,int(TLeft/ex_gap))\n",
    "etright = np.linspace(times[-1]+ex_gap,times[-1]+TRight,int(TRight/ex_gap))\n",
    "ExTimes = np.concatenate((etleft, times, etright))"
   ]
  },
  {
   "cell_type": "code",
   "execution_count": 61,
   "id": "c33e70cb",
   "metadata": {},
   "outputs": [],
   "source": [
    "# regularization value gamma_1 and gamma_2\n",
    "# individual site: gamma_1s, escape group: gamma_1p\n",
    "gamma_1s = round(10/sample_times[-1],3) # constant MPL gamma value / max time\n",
    "gamma_1p = gamma_1s/10\n",
    "gamma1   = np.ones(x_length)*gamma_1s\n",
    "for n in range(ne):\n",
    "    gamma1[x_length-ne+n] = gamma_1p\n",
    "\n",
    "# gamma 2 is also time varying, it is larger at the boundary\n",
    "gamma_t = np.zeros(len(ExTimes))\n",
    "tv_range = max(int(round(times[-1]*0.1/10)*10),1)\n",
    "alpha1  = np.log(4) / tv_range\n",
    "alpha2  = np.log(4) / tv_range\n",
    "for t in range(len(ExTimes)):\n",
    "    if ExTimes[t] <= 0:\n",
    "        gamma_t[t] = 4\n",
    "    elif ExTimes[t] >= times[-1]:\n",
    "        gamma_t[t] = 4\n",
    "    elif 0 < ExTimes[t] and ExTimes[t] <= tv_range:\n",
    "        gamma_t[t] = 4 * np.exp(-alpha1 * ExTimes[t])\n",
    "    elif times[-1]-tv_range <= ExTimes[t] and ExTimes[t] < times[-1]:\n",
    "        gamma_t[t] = 1 * np.exp(alpha2 * (ExTimes[t]-times[-1]+tv_range))\n",
    "    else:\n",
    "        gamma_t[t] = 1\n",
    "\n",
    "gamma_2c = 200\n",
    "gamma_2tv = 1000000\n",
    "# individual site: gamma_2c, escape group and special site: gamma_2tv\n",
    "gamma2 = np.ones((x_length,len(ExTimes)))*gamma_2c\n",
    "for n in range(ne):\n",
    "    gamma2[x_length-ne+n] = gamma_t * gamma_2tv\n",
    "for p_site in p_sites: # special site - time varying\n",
    "    for qq in range(len(NUC)):\n",
    "        index = int (muVec[p_site][qq]) \n",
    "        if index != -1:\n",
    "            gamma2[index] = gamma_t * gamma_2tv\n"
   ]
  },
  {
   "cell_type": "code",
   "execution_count": 66,
   "id": "92efb9e2",
   "metadata": {},
   "outputs": [],
   "source": [
    "# solve the bounadry condition ODE to infer selections\n",
    "def fun(a,b):\n",
    "    \"\"\" Function defining the right-hand side of the system of ODE's\"\"\"\n",
    "    b_1                 = b[:x_length,:]   # the actual selection coefficients\n",
    "    b_2                 = b[x_length:,:]   # the derivatives of the selection coefficients, s'\n",
    "    result              = np.zeros((2*x_length,len(a))) # The RHS of the system of ODE's\n",
    "    result[:x_length]   = b_2       # sets the derivatives of the selection coefficients 'b_1', equal to s'\n",
    "    mat_prod            = np.sum(covariance[:,:,:len(a)] * b_1[:,len(etleft):len(etleft)+len(times)], 1)\n",
    "\n",
    "    for t in range(len(a)): # right hand side of second half of the ODE system\n",
    "        # within the time range\n",
    "        if len(etleft) <= t < len(etleft)+len(times):\n",
    "            tt = t - len(etleft)\n",
    "            for i in range(x_length):\n",
    "                result[x_length+i,t] = (mat_prod[i,tt] + gamma1[i] * b_1[i,t] + flux_mu[tt,i] + flux_rec[tt,i] - delta_x[tt,i]) / gamma2[i,t]\n",
    "\n",
    "        # outside the time range, no selection strength\n",
    "        else:\n",
    "            for i in range(x_length):\n",
    "                result[x_length+i,t] = gamma1[i] * b_1[i,t] / gamma2[i,t]\n",
    "\n",
    "    return result\n",
    "\n",
    "def bc(b1,b2):\n",
    "    return np.ravel(np.array([b1[x_length:],b2[x_length:]])) # s' = 0 at the extended endpoints\n",
    "\n",
    "ss_extend = np.zeros((2*x_length,len(ExTimes)))\n",
    "\n",
    "solution = sp.integrate.solve_bvp(fun, bc, ExTimes, ss_extend, max_nodes=10000, tol=1e-3)\n",
    "\n",
    "selection_coefficients = solution.sol(ExTimes)\n",
    "# removes the superfluous part of the array and only save the real time points\n",
    "desired_coefficients   = selection_coefficients[:x_length,len(etleft):len(etleft)+len(times)]\n",
    "\n"
   ]
  },
  {
   "cell_type": "code",
   "execution_count": 79,
   "id": "a8ec7e6f",
   "metadata": {},
   "outputs": [
    {
     "name": "stdout",
     "output_type": "stream",
     "text": [
      "[  0   5  10  15  21  28  34  39  44  49  54  59  63  68  73  78  83  88\n",
      "  91  96 101 106 111 116 121 126 131 136 141 146 151 156 161 166 171 175\n",
      " 180 185 190 195 200 205 210 215 220 225 230 235 240 245 250 255 260 265\n",
      " 270 273 278 283 288 293 298 303 308 313 318 323 328 333]\n",
      "[0.03030303 0.         0.         0.         0.         0.\n",
      " 0.         0.         0.        ]\n"
     ]
    }
   ],
   "source": [
    "print(times)\n",
    "print(x[:,-3])"
   ]
  },
  {
   "cell_type": "code",
   "execution_count": 70,
   "id": "c809d138",
   "metadata": {},
   "outputs": [
    {
     "name": "stdout",
     "output_type": "stream",
     "text": [
      "68\n"
     ]
    }
   ],
   "source": [
    "print(len(desired_coefficients[-1]))"
   ]
  },
  {
   "cell_type": "code",
   "execution_count": 64,
   "id": "6e68f6a7",
   "metadata": {},
   "outputs": [
    {
     "name": "stdout",
     "output_type": "stream",
     "text": [
      "[  0   5  10  15  21  28  34  39  44  49  54  59  63  68  73  78  83  88\n",
      "  91  96 101 106 111 116 121 126 131 136 141 146 151 156 161 166 171 175\n",
      " 180 185 190 195 200 205 210 215 220 225 230 235 240 245 250 255 260 265\n",
      " 270 273 278 283 288 293 298 303 308 313 318 323 328 333]\n"
     ]
    }
   ],
   "source": [
    "print(times)"
   ]
  },
  {
   "cell_type": "code",
   "execution_count": 42,
   "id": "dda5a737",
   "metadata": {},
   "outputs": [],
   "source": [
    "importlib.reload(sim)\n",
    "\n",
    "# Load the simulation data\n",
    "data         = np.loadtxt(\"%s/example/example-0.dat\"%(SIM_DIR))\n",
    "escape_group = sim.read_file('example','traitsite-0.dat')\n",
    "trait_dis    = sim.read_file('example','traitsite-0.dat')\n",
    "\n",
    "p_sites      = [13,18]\n",
    "# Calculate covariance matrix\n",
    "sVec,nVec,eVec = sim.getSequence(data,escape_group)\n",
    "seq_length     = len(sVec[0][0])      # sequence length\n",
    "ne             = len(escape_group) # trait group\n",
    "\n",
    "muVec    = -np.ones(seq_length)\n",
    "x_length = 0\n",
    "for i in range(seq_length):\n",
    "    allele_count = np.zeros(len(sVec))\n",
    "    allele_count = [np.sum([(sVec[t][k][i]==1)*nVec[t][k] for k in range(len(sVec[t]))]) for t in range(len(sVec))]\n",
    "    if max(allele_count) / np.sum(nVec[0]) >= 0:\n",
    "        muVec[i] = x_length\n",
    "        x_length += 1\n",
    "x_length      += ne\n"
   ]
  },
  {
   "cell_type": "code",
   "execution_count": 60,
   "id": "8f006faa",
   "metadata": {},
   "outputs": [],
   "source": [
    "def get_allele_frequency(sVec,nVec,eVec,muVec):\n",
    "\n",
    "    x  = np.zeros((len(nVec),x_length))           # single allele frequency\n",
    "    xx = np.zeros((len(nVec),x_length,x_length))  # pair allele frequency\n",
    "    for t in range(len(nVec)):\n",
    "        pop_size_t = np.sum([nVec[t]])\n",
    "        # individual locus part\n",
    "        for i in range(seq_length):\n",
    "            aa = int(muVec[i])\n",
    "            if aa != -1:\n",
    "                x[t,aa] = np.sum([sVec[t][k][i] * nVec[t][k] for k in range(len(sVec[t]))]) / pop_size_t\n",
    "            for j in range(int(i+1), seq_length):\n",
    "                bb = int(muVec[j])\n",
    "                if bb != -1:\n",
    "                    xx[t,aa,bb] = np.sum([sVec[t][k][i] * sVec[t][k][j] * nVec[t][k] for k in range(len(sVec[t]))]) / pop_size_t\n",
    "                    xx[t,aa,bb] = np.sum([sVec[t][k][i] * sVec[t][k][j] * nVec[t][k] for k in range(len(sVec[t]))]) / pop_size_t\n",
    "        # escape part\n",
    "        for n in range(ne):\n",
    "            aa      = x_length-ne+n\n",
    "            x[t,aa] = np.sum([eVec[t][k][n] * nVec[t][k] for k in range(len(sVec[t]))]) / pop_size_t\n",
    "            for m in range(int(n+1), ne):\n",
    "                bb          = x_length-ne+m\n",
    "                xx[t,aa,bb] = np.sum([eVec[t][k][n] * eVec[t][k][m] * nVec[t][k] for k in range(len(sVec[t]))]) / pop_size_t\n",
    "                xx[t,bb,aa] = np.sum([eVec[t][k][n] * eVec[t][k][m] * nVec[t][k] for k in range(len(sVec[t]))]) / pop_size_t\n",
    "            for j in range(seq_length):\n",
    "                bb = int(muVec[j])\n",
    "                if bb != -1:\n",
    "                    xx[t,bb,aa] = np.sum([sVec[t][k][j] * eVec[t][k][n] * nVec[t][k] for k in range(len(sVec[t]))]) / pop_size_t\n",
    "                    xx[t,aa,bb] = np.sum([sVec[t][k][j] * eVec[t][k][n] * nVec[t][k] for k in range(len(sVec[t]))]) / pop_size_t\n",
    "    return x,xx\n",
    "\n",
    "# calculate escape frequency (binary case)\n",
    "def get_escape_fre_term(sVec,nVec):\n",
    "    ex  = np.zeros((len(nVec),ne,seq_length))\n",
    "    for t in range(len(nVec)):\n",
    "        pop_size_t = np.sum([nVec[t]])\n",
    "        for k in range(len(sVec[t])):\n",
    "            for n in range(ne):\n",
    "                n_mutations = 0\n",
    "                for nn in escape_group[n]:\n",
    "                    if sVec[t][k][nn] != 0:\n",
    "                        n_mutations += 1\n",
    "                        site = nn\n",
    "                if n_mutations == 1:\n",
    "                    ex[t,n,site] += nVec[t][k]\n",
    "        ex[t,:,:] = ex[t,:,:] / pop_size_t\n",
    "    return ex\n",
    "\n",
    "x,xx         = get_allele_frequency(sVec,nVec,eVec,muVec) \n",
    "covar_int    = sim.diffusion_matrix_at_t(x,xx,x_length)\n"
   ]
  },
  {
   "cell_type": "code",
   "execution_count": 79,
   "id": "967c7b17",
   "metadata": {},
   "outputs": [
    {
     "name": "stdout",
     "output_type": "stream",
     "text": [
      "1.6262595409181634e-07\n"
     ]
    }
   ],
   "source": [
    "gamma_1s      = 10/500 # gamma_s/time points\n",
    "gamma_1p      = gamma_1s/10\n",
    "gamma_2c      = 1000000       # 1000000\n",
    "gamma_2tv     = 500\n",
    "\n",
    "# regularization value gamma_1 and gamma_2\n",
    "# individual site: gamma_1s, escape group: gamma_1p\n",
    "gamma1_m = np.zeros((x_length,x_length))\n",
    "for i in range(x_length):\n",
    "    gamma1_m[i][i] = gamma_1s\n",
    "for n in range(ne):\n",
    "    nn = x_length-ne+n\n",
    "    gamma1_m[nn][nn] = gamma_1p\n",
    "\n",
    "# individual site: gamma_2c, escape group and special site: gamma_2tv\n",
    "gamma2 = np.ones(x_length)*gamma_2c\n",
    "for n in range(ne):\n",
    "    gamma2[x_length-ne+n] = gamma_2tv\n",
    "for i in range(len(p_sites)): # special site - time varying\n",
    "    index = int (muVec[p_sites[i]]) \n",
    "    if index != -1:\n",
    "        gamma2[index] = gamma_2tv\n",
    "\n",
    "A_matrix = np.zeros((x_length,x_length))\n",
    "for i in range(x_length):\n",
    "    for j in range(x_length):\n",
    "        A_matrix[i][j] = (np.average(covar_int[:,i,j])+gamma1_m[i,j])/gamma2[i]\n",
    "\n",
    "print(A_matrix[0,0])"
   ]
  },
  {
   "cell_type": "code",
   "execution_count": 46,
   "id": "d328a7f4",
   "metadata": {},
   "outputs": [],
   "source": [
    "d_value, Q_matrix = np.linalg.eig(A_matrix) # calculate the eigenvalues d_value and eigenvectors Q_matrix\n",
    "D_matrix = np.diag(d_value) # D is a diagonal matrix with the eigenvalues of A\n"
   ]
  },
  {
   "cell_type": "code",
   "execution_count": 4,
   "id": "7dd01d95",
   "metadata": {},
   "outputs": [
    {
     "name": "stdout",
     "output_type": "stream",
     "text": [
      "241\n"
     ]
    }
   ],
   "source": [
    "tag = '703010131-3'\n",
    "rawdata = np.load('%s/rawdata/rawdata_%s.npz'%(HIV_DIR,tag), allow_pickle=\"True\")\n",
    "x            = rawdata['single_freq']\n",
    "print(len(x[0]))"
   ]
  },
  {
   "cell_type": "code",
   "execution_count": null,
   "id": "d6e673f5",
   "metadata": {},
   "outputs": [],
   "source": []
  },
  {
   "cell_type": "code",
   "execution_count": null,
   "id": "977a3639",
   "metadata": {},
   "outputs": [],
   "source": []
  },
  {
   "cell_type": "code",
   "execution_count": null,
   "id": "ed961680",
   "metadata": {},
   "outputs": [],
   "source": []
  }
 ],
 "metadata": {
  "kernelspec": {
   "display_name": "Python 3 (ipykernel)",
   "language": "python",
   "name": "python3"
  },
  "language_info": {
   "codemirror_mode": {
    "name": "ipython",
    "version": 3
   },
   "file_extension": ".py",
   "mimetype": "text/x-python",
   "name": "python",
   "nbconvert_exporter": "python",
   "pygments_lexer": "ipython3",
   "version": "3.10.9"
  }
 },
 "nbformat": 4,
 "nbformat_minor": 5
}
