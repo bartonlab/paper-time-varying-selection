{
 "cells": [
  {
   "cell_type": "markdown",
   "id": "66e25a74",
   "metadata": {},
   "source": [
    "# <font color = red> Simulation Analyze\n",
    "This notebook records the parameters for Wright-Fisher simulations used to generate our test data sets, as well as commands for running infernce algorithms on the test data and compiling the results. "
   ]
  },
  {
   "cell_type": "markdown",
   "id": "54bf1a29",
   "metadata": {},
   "source": [
    "## Contents\n",
    "- ### [Libraries and variables](#lib)\n",
    "- ### [Simple simulation](#sim)\n",
    "    - #### [Wright-Fisher simulations without binary trait term](#simple)\n",
    "    - #### [Try different $\\gamma^{\\prime}$](#simple-gamma)\n",
    "    - #### [Consider all sites are time-varying](#simple-tv)\n",
    "- ### [Simulation with trait](#sim2)\n",
    "    - #### [Wright-Fisher simulations with binary trait terms](#trait)\n",
    "    - #### [Finite sample data inference](#dt)"
   ]
  },
  {
   "cell_type": "markdown",
   "id": "05d18bec",
   "metadata": {},
   "source": [
    "### <a id='lib'></a> Libraries and variables"
   ]
  },
  {
   "cell_type": "code",
   "execution_count": 1,
   "id": "235449e5",
   "metadata": {},
   "outputs": [
    {
     "name": "stdout",
     "output_type": "stream",
     "text": [
      "This notebook was prepared using:\n",
      "python version 3.10.9 | packaged by conda-forge | (main, Feb  2 2023, 20:26:08) [Clang 14.0.6 ]\n",
      "numpy version 1.26.4\n",
      "pandas version 1.5.3\n",
      "matplotlib version 3.7.1\n"
     ]
    }
   ],
   "source": [
    "print('This notebook was prepared using:')\n",
    "\n",
    "import os\n",
    "import sys\n",
    "print('python version %s' % sys.version)\n",
    "\n",
    "import numpy as np\n",
    "print('numpy version %s' % np.__version__)\n",
    "\n",
    "import pandas as pd\n",
    "print('pandas version %s' % pd.__version__)\n",
    "\n",
    "import math\n",
    "from math import isnan\n",
    "\n",
    "import matplotlib\n",
    "import matplotlib.cm as cm\n",
    "import matplotlib.pyplot as plt\n",
    "import matplotlib.gridspec as gridspec\n",
    "import matplotlib.image as mpimg\n",
    "print('matplotlib version %s' % matplotlib.__version__)\n",
    "\n",
    "import re\n",
    "import sys\n",
    "import argparse\n",
    "import scipy as sp\n",
    "import random\n",
    "\n",
    "from scipy import integrate\n",
    "import scipy.interpolate as sp_interpolate\n",
    "import statistics\n",
    "\n",
    "from dataclasses import dataclass\n",
    "import time as time_module\n",
    "\n",
    "import json\n",
    "from importlib import reload\n",
    "\n",
    "import simulation as sim\n",
    "import importlib\n",
    "\n",
    "# GitHub directories\n",
    "HIV_DIR = 'data/HIV'\n",
    "MPL_DIR = 'src/MPL'\n",
    "SIM_DIR = 'data/simulation'\n",
    "FIG_DIR = 'figures'"
   ]
  },
  {
   "cell_type": "markdown",
   "id": "88cfcf85-1bde-460b-b79c-915529b37ec6",
   "metadata": {},
   "source": [
    "<a id='sim'></a>\n",
    "### Simple simulation"
   ]
  },
  {
   "cell_type": "markdown",
   "id": "f35f4cd2",
   "metadata": {},
   "source": [
    "<a id='simple'></a>\n",
    "#### Wright-Fisher simulations without binary trait term\n",
    "The fitness model work like this:\n",
    "$f_a = 1 + \\sum_i^{\\ell} s_i g_i^a$\n",
    "\n",
    "This simulation begins with 4 random initial type, which only has 2 alleles (wild type and mutant type).\n",
    "\n",
    "Wright-Fisher simulations are performed using simulation.py. The output of these simulations is saved for processing. \n",
    "\n",
    "2 benefial (s = 0.02, [0,1]), 2 neutral (s = 0, [2,3]), 2 delerious (s = -0.02, [4,5]) and 4 time varying site (s = 0.04 * sin(2$\\pi$t/$\\tau$)[6,7] and s = 0.04 * cos(2$\\pi$t/$\\tau$)[8,9])"
   ]
  },
  {
   "cell_type": "code",
   "execution_count": 2,
   "id": "2f41ab6a",
   "metadata": {},
   "outputs": [],
   "source": [
    "''' parameter '''\n",
    "importlib.reload(sim)\n",
    "\n",
    "generations = 1000\n",
    "fi_1 = np.zeros(generations+1)\n",
    "fi_2 = np.zeros(generations+1)\n",
    "\n",
    "for t in range(len(fi_1)):\n",
    "    fi_1[t] = np.sin(t*2*np.pi/generations)*0.04\n",
    "    fi_2[t] = np.cos(t*2*np.pi/generations)*0.04\n",
    "    \n",
    "pdata = {  \n",
    "    'NUC':           ['A', 'T'],      # all possible alleles\n",
    "    'dir':           'simple',        # directory of this simulation\n",
    "    'xfile':         '0',             # output file name\n",
    "    'output_dir':    'output',        # directory of reference result\n",
    "    'seq_length':    10,              # sequence length\n",
    "    'pop_size':      1000,            # population size\n",
    "    'generations':   generations,     # number of total generations\n",
    "    'mut_rate':      1e-3,            # mutation rate\n",
    "    'rec_rate':      1e-3,            # recombination rate\n",
    "    'inital_state':  4,               # number of initial sub-population\n",
    "    'bene':          [0,1],           # constant beneficial mutations sites\n",
    "    'dele':          [4,5],           # constant deleterious mutations sites\n",
    "    'p_1':           [6,7],           # time-varying mutations sites (sin)\n",
    "    'p_2':           [8,9],           # time-varying mutations sites (cos)\n",
    "    's_ben':         0.02,            # selection coefficient of beneficial mutations\n",
    "    's_del':         -0.02,           # selection coefficient of deleterious mutations\n",
    "    'fi_1':          fi_1,            # time-varying selection coefficient for individual site (sin)\n",
    "    'fi_2':          fi_2,            # time-varying selection coefficient for individual site (cos)\n",
    "    'gamma_s':       1,               # regularization - selection coefficients - constant part\n",
    "    'gamma_2c':      100000,          # regularization - the time derivative of the selection coefficients\n",
    "    'gamma_2tv':     200,             # regularization - the time derivative of the selection coefficients\n",
    "    'theta':         0.5,             # magnification of extended time at the ends\n",
    "    'beta':          4,               # magnification of extended gamma_2 at the ends\n",
    "    }"
   ]
  },
  {
   "cell_type": "code",
   "execution_count": 3,
   "id": "b3da6ac9",
   "metadata": {},
   "outputs": [
    {
     "name": "stdout",
     "output_type": "stream",
     "text": [
      "we have done 100 simulations\n"
     ]
    }
   ],
   "source": [
    "''' Create simulated evolutionary trajectories'''\n",
    "\n",
    "reload(sim)\n",
    "\n",
    "n_sim   = 100\n",
    "\n",
    "# simulation\n",
    "for k in range(n_sim):\n",
    "    pdata['xfile']        = str(k)\n",
    "#     sim.simulate_simple(**pdata)\n",
    "\n",
    "print('we have done %d simulations'%n_sim)"
   ]
  },
  {
   "cell_type": "code",
   "execution_count": 4,
   "id": "3003e2bb",
   "metadata": {},
   "outputs": [
    {
     "name": "stdout",
     "output_type": "stream",
     "text": [
      "we have done inference for 100 simulations \n"
     ]
    }
   ],
   "source": [
    "''' Infer selection coefficients'''\n",
    "\n",
    "reload(sim)\n",
    "\n",
    "for n in range(n_sim):\n",
    "    pdata['xfile'] = str(n)\n",
    "    # sim.infer_simple(**pdata)\n",
    "\n",
    "print('we have done inference for %d simulations '%n_sim)"
   ]
  },
  {
   "cell_type": "code",
   "execution_count": 5,
   "id": "1d279a8d",
   "metadata": {},
   "outputs": [
    {
     "name": "stdout",
     "output_type": "stream",
     "text": [
      "collect all coefficients for 100 simulations\n"
     ]
    }
   ],
   "source": [
    "''' Collect simulation data'''\n",
    "\n",
    "simple_dir = pdata['dir']\n",
    "output_dir = pdata['output_dir']\n",
    "beta       = pdata['beta']\n",
    "\n",
    "const_num = 6\n",
    "f = open('%s/%s/mpl_collected_%s.csv'%(SIM_DIR,simple_dir,beta),'w')\n",
    "f.write('trajectory,ns,delta_t')\n",
    "for i in range(const_num):\n",
    "    f.write(',sc_%d'%i)\n",
    "f.write('\\n')\n",
    "\n",
    "for k in range(n_sim):\n",
    "    name = str(k)\n",
    "    data_full   = np.load('%s/%s/%s/c_%s.npz'%(SIM_DIR,simple_dir,output_dir,name), allow_pickle=\"True\")\n",
    "    sc_full     = data_full['selection']\n",
    "    TimeVaryingSC = [np.average(sc_full[i]) for i in range(const_num)]\n",
    "    f.write('%d,1000,1'%k)\n",
    "    for i in range(const_num):\n",
    "        f.write(',%f'%TimeVaryingSC[i])\n",
    "    f.write('\\n')\n",
    "f.close()\n",
    "\n",
    "print('collect all coefficients for %d simulations'%(n_sim))"
   ]
  },
  {
   "cell_type": "markdown",
   "id": "4283bcb8",
   "metadata": {},
   "source": [
    "<a id='simple-gamma'></a>\n",
    "#### Try different $\\gamma^{\\prime}$\n",
    "1. constant $\\gamma^{\\prime}$\n",
    "2. small $\\gamma^{\\prime}$ at the boundary (middle value * 0.25)"
   ]
  },
  {
   "cell_type": "code",
   "execution_count": 6,
   "id": "0d1d6ea2",
   "metadata": {},
   "outputs": [
    {
     "name": "stdout",
     "output_type": "stream",
     "text": [
      "we have done inference for 100 simulations in both cases\n"
     ]
    }
   ],
   "source": [
    "''' Use different $\\gamma^{\\prime}$'''\n",
    "\n",
    "reload(sim)\n",
    "\n",
    "for n in range(n_sim):\n",
    "    pdata['xfile'] = str(n)\n",
    "    \n",
    "    '''Smaller gammma^{prime} at the ends'''\n",
    "    pdata['output_dir'] = 'output_0.25'\n",
    "    pdata['beta'] = 0.25\n",
    "    # sim.infer_simple(**pdata)\n",
    "\n",
    "    '''Concant gammma^{prime} '''\n",
    "    pdata['output_dir'] = 'output_1'\n",
    "    pdata['beta'] = 1\n",
    "    # sim.infer_simple(**pdata)\n",
    "\n",
    "print('we have done inference for %d simulations in both cases'%n_sim)"
   ]
  },
  {
   "cell_type": "code",
   "execution_count": 7,
   "id": "f67d4a05",
   "metadata": {},
   "outputs": [
    {
     "name": "stdout",
     "output_type": "stream",
     "text": [
      "we have collected all constant coefficientse for 100 simulations for both cases\n"
     ]
    }
   ],
   "source": [
    "''' Collect simulation data'''\n",
    "\n",
    "reload(sim)\n",
    "\n",
    "betas = [0.25, 1]\n",
    "const_num = 6\n",
    "\n",
    "for beta in betas:\n",
    "    # write the constant reference result\n",
    "    f = open('%s/%s/mpl_collected_%s.csv'%(SIM_DIR,simple_dir,beta),'w')\n",
    "    f.write('trajectory,ns,delta_t')\n",
    "    for i in range(const_num):\n",
    "        f.write(',sc_%d'%i)\n",
    "    f.write('\\n')\n",
    "    \n",
    "    for k in range(n_sim):\n",
    "        name = str(k)\n",
    "        data_full   = np.load('%s/%s/output_%s/c_%s.npz'%(SIM_DIR,simple_dir,beta,name), allow_pickle=\"True\")\n",
    "        sc_full     = data_full['selection']\n",
    "        TimeVaryingSC = [np.average(sc_full[i]) for i in range(const_num)]\n",
    "        f.write('%d,1000,1'%k)\n",
    "        for i in range(const_num):\n",
    "            f.write(',%f'%TimeVaryingSC[i])\n",
    "        f.write('\\n')\n",
    "    f.close()\n",
    "\n",
    "print('we have collected all constant coefficientse for %d simulations for both cases'%n_sim)"
   ]
  },
  {
   "cell_type": "markdown",
   "id": "e89f6d3d-a5bf-4307-8f8f-91d26bcb1b07",
   "metadata": {},
   "source": [
    "<a id='simple-tv'></a>\n",
    "#### Consider all sites are time-varying\n",
    "The fitness model work like this:\n",
    "$f_a = 1 + \\sum_i^{\\ell} s_i g_i^a$\n",
    "\n",
    "Model is a little different from the last section. Here we use 2 benefial (*s = 0.03*, [0,1]), 2 neutral (s = 0, [2,3]), 2 delerious (*s = -0.03*, [4,5]) and 4 time varying site (s = 0.04 * sin(2$\\pi$t/$\\tau$)[6,7] and s = 0.04 * cos(2$\\pi$t/$\\tau$)[8,9])"
   ]
  },
  {
   "cell_type": "code",
   "execution_count": 8,
   "id": "62b1bdea-6d84-4f60-8429-2f35ebfb03ff",
   "metadata": {},
   "outputs": [],
   "source": [
    "''' Parameter '''\n",
    "\n",
    "importlib.reload(sim)\n",
    "\n",
    "generations = 1000\n",
    "fi_1 = np.zeros(generations+1)\n",
    "fi_2 = np.zeros(generations+1)\n",
    "\n",
    "for t in range(len(fi_1)):\n",
    "    fi_1[t] = np.sin(t*2*np.pi/generations)*0.04\n",
    "    fi_2[t] = np.cos(t*2*np.pi/generations)*0.04\n",
    "    \n",
    "pdata = {  \n",
    "    'NUC':           ['A', 'T'],      # all possible alleles\n",
    "    'dir':           'simple-new',    # directory of this simulation\n",
    "    'xfile':         '0',             # output file name\n",
    "    'output_dir':    'output',        # directory of reference result\n",
    "    'seq_length':    10,              # sequence length\n",
    "    'pop_size':      1000,            # population size\n",
    "    'generations':   generations,     # number of total generations\n",
    "    'mut_rate':      1e-3,            # mutation rate\n",
    "    'rec_rate':      1e-3,            # recombination rate\n",
    "    'inital_state':  4,               # number of initial sub-population\n",
    "    'bene':          [0,1],           # constant beneficial mutations sites\n",
    "    'dele':          [4,5],           # constant deleterious mutations sites\n",
    "    'p_1':           [6,7],           # time-varying mutations sites (sin)\n",
    "    'p_2':           [8,9],           # time-varying mutations sites (cos)\n",
    "    's_ben':         0.03,            # selection coefficient of beneficial mutations\n",
    "    's_del':         -0.03,           # selection coefficient of deleterious mutations\n",
    "    'fi_1':          fi_1,            # time-varying selection coefficient for individual site (sin)\n",
    "    'fi_2':          fi_2,            # time-varying selection coefficient for individual site (cos)\n",
    "    'gamma_s':       1,               # regularization - selection coefficients - constant part\n",
    "    'gamma_2c':      100000,          # regularization - the time derivative of the selection coefficients\n",
    "    'gamma_2tv':     200,             # regularization - the time derivative of the selection coefficients\n",
    "    'theta':         0.5,             # magnification of extended time at the ends\n",
    "    'beta':          4,               # magnification of extended gamma_2 at the ends\n",
    "    }\n",
    "\n",
    "# Change\n",
    "# pdata['dir'] = 'simple-new'\n",
    "# pdata['s_ben'] = 0.03\n",
    "# pdata['s_del'] = -0.03"
   ]
  },
  {
   "cell_type": "code",
   "execution_count": 9,
   "id": "d6de3638-02b1-402d-9bee-e2c334b86cdd",
   "metadata": {},
   "outputs": [
    {
     "name": "stdout",
     "output_type": "stream",
     "text": [
      "we have done 100 simulations\n"
     ]
    }
   ],
   "source": [
    "''' Create simulated evolutionary trajectories'''\n",
    "\n",
    "reload(sim)\n",
    "\n",
    "n_sim   = 100\n",
    "\n",
    "# simulation\n",
    "for k in range(n_sim):\n",
    "    pdata['xfile']        = str(k)\n",
    "    # sim.simulate_simple(**pdata)\n",
    "\n",
    "print('we have done %d simulations'%n_sim)"
   ]
  },
  {
   "cell_type": "code",
   "execution_count": 10,
   "id": "8fdabfdc-379f-43b3-a64b-fbf23beec6b9",
   "metadata": {},
   "outputs": [
    {
     "name": "stdout",
     "output_type": "stream",
     "text": [
      "Done inference for 100 simulations （assuming all mutations are time-varying）\n"
     ]
    }
   ],
   "source": [
    "''' Infer selection coefficients with considering all mutations are time-varying'''\n",
    "\n",
    "reload(sim)\n",
    "\n",
    "pdata['output_dir'] = 'output-tv'\n",
    "pdata['p_1'] = [0, 1, 2, 3, 4]\n",
    "pdata['p_2'] = [5, 6, 7, 8, 9]\n",
    "\n",
    "for n in range(n_sim):\n",
    "    pdata['xfile'] = str(n)\n",
    "    # sim.infer_simple(**pdata)\n",
    "\n",
    "print('Done inference for %d simulations （assuming all mutations are time-varying）'%n_sim)"
   ]
  },
  {
   "cell_type": "markdown",
   "id": "44cdfecf-208e-41d0-a5bf-757fcf3537cc",
   "metadata": {},
   "source": [
    "<a id='sim2'></a>\n",
    "### Simulation with trait"
   ]
  },
  {
   "cell_type": "markdown",
   "id": "924df50a",
   "metadata": {},
   "source": [
    "<a id='trait'></a>\n",
    "#### Wright-Fisher simulations with binary trait terms\n",
    "The fitness model work like this:\n",
    "$f_a = 1 + \\sum_i^L s_i g_i^a + \\sum_n^{N_p} s_n g_n^a$\n",
    "\n",
    "This simulation begins with 4 random initial type, which only has 2 alleles (wild type and mutant type).\n",
    "\n",
    "Wright-Fisher simulations are performed using simulation.py. The output of these simulations is saved for processing. \n",
    "\n",
    "Benefial [0,1,2,3], delerious[16,17,18,19], trait sites: chosen randomly"
   ]
  },
  {
   "cell_type": "code",
   "execution_count": 11,
   "id": "c109fa60",
   "metadata": {},
   "outputs": [],
   "source": [
    "''' Parameter '''\n",
    "importlib.reload(sim)\n",
    "\n",
    "generations = 1000\n",
    "fn = np.zeros(generations+1)\n",
    "fi = np.zeros(generations+1)\n",
    "\n",
    "for t in range(len(fn)):\n",
    "    fi[t] = 0.04 - 0.08/generations * t\n",
    "    fn[t] = 0.06 - 0.06/generations * t\n",
    "\n",
    "trait_dir = 'trait'\n",
    "pdata = {  \n",
    "    'NUC':           ['A', 'T'],      # all possible alleles\n",
    "    'dir':           trait_dir,       # directory of this simulation\n",
    "    'xfile':         '0',             # output file name\n",
    "    'seq_dir':       'sequences',     # directory of input simulation data\n",
    "    'output_dir':    'output',        # directory of reference result\n",
    "    'seq_length':    20,              # sequence length\n",
    "    'pop_size':      1000,            # population size\n",
    "    'generations':   generations,     # number of total generations\n",
    "    'totalT':        generations,     # generations used to infer\n",
    "    'mut_rate':      1e-3,            # mutation rate\n",
    "    'rec_rate':      1e-3,            # recombination rate\n",
    "    'inital_state':  4,               # number of initial sub-population\n",
    "    'n_ben':         4,               # number of beneficial mutations\n",
    "    'n_del':         4,               # number of deleterious mutations\n",
    "    'bene':          [0,1,2,3],       # constant beneficial mutations sites\n",
    "    'dele':          [16,17,18,19],   # constant deleterious mutations sites\n",
    "    's_ben':         0.02,            # selection coefficient of beneficial mutations\n",
    "    's_del':         -0.02,           # selection coefficient of deleterious mutations\n",
    "    'fi':            fi,              # time-varying selection coefficient for individual site\n",
    "    'fn':            fn,              # time-varying selection coefficient for binary trait\n",
    "    'escape_group':  [[12,15,17]],    # escape sites\n",
    "    'escape_TF':     [[0,0,0]],       # wild type sequences for escape sites\n",
    "    'trait_dis':     [[3,2]],         # distance between trait sites\n",
    "    'p_sites':       [9,10],          # special sites (not escape sites but still time-varying)\n",
    "    'x_thresh':      0.005,           # threshold for single allele frequency\n",
    "    'gamma_s':       1,               # regularization - selection coefficients - constant part\n",
    "    'gamma_2c':      100000,          # regularization - the time derivative of the selection coefficients\n",
    "    'gamma_2tv':     200,              # regularization - the time derivative of the selection coefficients\n",
    "    'theta':         0.5,             # magnification of extended time at the ends\n",
    "    'beta':          4,               # magnification of extended gamma_2 at the ends\n",
    "    'bc_n':          True,            # True: Neumann boundary condition; False: Dirichlet boundary condition\n",
    "    }"
   ]
  },
  {
   "cell_type": "markdown",
   "id": "ce191131",
   "metadata": {},
   "source": [
    "#### Use 3 files to restore the information about trait groups. (\"traitsites\": trait sites , \"traitseq\": TF sequences for trait sites,\"traitdis\":distance between 2 neighboring trait sites)"
   ]
  },
  {
   "cell_type": "code",
   "execution_count": 12,
   "id": "f9b7221e",
   "metadata": {},
   "outputs": [],
   "source": [
    "'Create the necessary files'\n",
    "reload(sim)\n",
    "\n",
    "n_sim   = 100\n",
    "\n",
    "# # get random escape groups for 100 simulations\n",
    "# escape_groups  = []\n",
    "# special_groups = []\n",
    "# for n in range(n_sim):\n",
    "#     random_numbers   = random.sample(range(20), 3)\n",
    "#     escape_group     = [sorted(random_numbers)]\n",
    "#     escape_groups.append(escape_group)\n",
    "    \n",
    "#     # trait sites \n",
    "#     f = open('%s/%s/traitsite/traitsite-%s.dat'%(SIM_DIR,trait_dir,n), 'w')\n",
    "#     for i in range(len(escape_group)):\n",
    "#         f.write('%s\\n'%'\\t'.join([str(ii) for ii in escape_group[i]]))\n",
    "#     f.close()\n",
    "    \n",
    "#     # distance between 2 trait sites\n",
    "#     f = open('%s/%s/traitdis/traitdis-%s.dat'%(SIM_DIR,trait_dir,n), 'w')\n",
    "#     for i in range(len(escape_group)):\n",
    "#         i_dis = []\n",
    "#         for j in range(len(escape_group[i])-1):\n",
    "#             i_dis.append(int(escape_group[i][j+1]-escape_group[i][j]))\n",
    "#         f.write('%s\\n'%'\\t'.join([str(ii) for ii in i_dis]))\n",
    "#     f.close()\n",
    "    \n",
    "\n",
    "# # trait sequence \n",
    "# f = open('%s/%s/traitseq.dat'%(SIM_DIR,trait_dir), 'w')\n",
    "# for i in range(1):\n",
    "#     f.write('%s\\n'%'\\t'.join([str(0) for j in range(3)]))\n",
    "# f.close()\n",
    "    \n",
    "# # save and load escape group information\n",
    "# with open(\"%s/%s/escape_groups.dat\"%(SIM_DIR,trait_dir), 'w') as file:\n",
    "#     json.dump(escape_groups, file)"
   ]
  },
  {
   "cell_type": "code",
   "execution_count": 13,
   "id": "634e8bf0",
   "metadata": {},
   "outputs": [
    {
     "name": "stdout",
     "output_type": "stream",
     "text": [
      "we have done 100 times simulations\n"
     ]
    }
   ],
   "source": [
    "''' Create simulated evolutionary trajectories'''\n",
    "\n",
    "importlib.reload(sim)\n",
    "\n",
    "with open(\"%s/%s/escape_groups.dat\"%(SIM_DIR,trait_dir), 'r') as file:\n",
    "    escape_groups = json.load(file)\n",
    "    \n",
    "# simulation\n",
    "for k in range(n_sim):\n",
    "    pdata['xfile']        = str(k)\n",
    "    pdata['escape_group'] = escape_groups[k]\n",
    "#     sim.simulate_trait(**pdata)\n",
    "\n",
    "print('we have done %d times simulations'%n_sim)"
   ]
  },
  {
   "cell_type": "code",
   "execution_count": 14,
   "id": "323cabf5",
   "metadata": {},
   "outputs": [
    {
     "name": "stdout",
     "output_type": "stream",
     "text": [
      "we have done inference for 100 simulations \n"
     ]
    }
   ],
   "source": [
    "''' Infer the results'''\n",
    "\n",
    "importlib.reload(sim)\n",
    "\n",
    "for n in range(n_sim):\n",
    "    pdata['xfile']        = str(n)\n",
    "    # sim.infer_trait(**pdata)\n",
    "\n",
    "print('we have done inference for %d simulations '%n_sim)"
   ]
  },
  {
   "cell_type": "code",
   "execution_count": 15,
   "id": "5a99e5eb",
   "metadata": {},
   "outputs": [],
   "source": [
    "'Create a csv file to store the results of all simulations'\n",
    "\n",
    "nB = pdata['n_ben']\n",
    "nD = pdata['n_del']\n",
    "ne = len(pdata['escape_group'])\n",
    "\n",
    "seq_length = pdata['seq_length']\n",
    "p_sites    = [9,10]\n",
    "out_dir    = ''\n",
    "trait_dir = pdata['dir']\n",
    "\n",
    "# Neumann boundary condition\n",
    "f = open('%s/%s/mpl_collected%s.csv'%(SIM_DIR,trait_dir,out_dir),'w')\n",
    "f.write('trajectory,ns,delta_t')\n",
    "for i in range(seq_length):\n",
    "    if i not in p_sites:\n",
    "        f.write(',sc_%d'%i)\n",
    "f.write('\\n')\n",
    "\n",
    "for k in range(100):\n",
    "    name = str(k)\n",
    "    data_full   = np.load('%s/%s/output%s/c_%s.npz'%(SIM_DIR,trait_dir,out_dir,name), allow_pickle=\"True\")\n",
    "    sc_full     = data_full['selection']\n",
    "    TimeVaryingSC = [np.average(sc_full[i]) for i in range(seq_length)]\n",
    "    f.write('%d,1000,1'%k)\n",
    "    for i in range(seq_length):\n",
    "        if i not in p_sites:\n",
    "            f.write(',%f'%TimeVaryingSC[i])\n",
    "    f.write('\\n')\n",
    "f.close()"
   ]
  },
  {
   "cell_type": "code",
   "execution_count": 16,
   "id": "a5e8fa95",
   "metadata": {},
   "outputs": [
    {
     "name": "stdout",
     "output_type": "stream",
     "text": [
      "we have done inference for 100 simulations in both cases\n"
     ]
    }
   ],
   "source": [
    "' Get inference results with different $\\gamma^{\\prime}$'\n",
    "\n",
    "reload(sim)\n",
    "\n",
    "for n in range(n_sim):\n",
    "    pdata['xfile'] = str(n)\n",
    "    \n",
    "    '''Smaller gammma^{prime} at the ends'''\n",
    "    pdata['output_dir'] = 'output_0.25'\n",
    "    pdata['beta'] = 0.25\n",
    "    # sim.infer_trait(**pdata)\n",
    "\n",
    "    '''Constant gammma^{prime} '''\n",
    "    pdata['output_dir'] = 'output_1'\n",
    "    pdata['beta'] = 1\n",
    "    # sim.infer_trait(**pdata)\n",
    "\n",
    "print('we have done inference for %d simulations in both cases'%n_sim)"
   ]
  },
  {
   "cell_type": "markdown",
   "id": "a5ed7b44-0b20-4caf-8820-ac724e9f95e4",
   "metadata": {},
   "source": [
    "#### <a id='nsdt'></a> Finite sample data inference\n",
    "\n",
    "For one simulation, use different $\\Delta t$ to get the result. In each case, try different $\\gamma^{\\prime}$\n",
    "1. dt = 10\n",
    "2. dt = 20\n",
    "3. dt = 100\n",
    "4. random time, 11 time points[0, 10, 25, 70, 135, 250, 400, 590, 720, 880, 1000]"
   ]
  },
  {
   "cell_type": "code",
   "execution_count": 17,
   "id": "4bce77f1-6e58-4749-a056-67e01bda5140",
   "metadata": {},
   "outputs": [
    {
     "name": "stdout",
     "output_type": "stream",
     "text": [
      "Done inference for 100 simulations with different γ' when dt = 10\n",
      "Done inference for 100 simulations with different γ' when dt = 20\n",
      "Done inference for 100 simulations with different γ' when dt = 1000\n"
     ]
    }
   ],
   "source": [
    "importlib.reload(sim)\n",
    "'''cut sequence and then infer for different dt'''\n",
    "\n",
    "dts = [10, 20, 1000]\n",
    "for dt in dts:\n",
    "    observed_time = np.linspace(0, 1000, int(1000/dt)+1)\n",
    "    pdata['cut_dir'] = str(dt)\n",
    "    pdata['cut_time'] = observed_time\n",
    "    pdata['seq_dir'] = 'cut/'+str(dt)+'/sequences'\n",
    "    output_dir = 'cut/'+str(dt)+'/output'\n",
    "    \n",
    "    for n in range(n_sim):\n",
    "        pdata['xfile']        = str(n)\n",
    "        # sim.cut_seq(**pdata)\n",
    "    \n",
    "    for n in range(n_sim):\n",
    "        pdata['xfile']        = str(n)\n",
    "        \n",
    "        '''Standard gammma^{prime} at the ends'''\n",
    "        pdata['output_dir'] = output_dir\n",
    "        pdata['beta'] = 4\n",
    "        # sim.infer_trait(**pdata)\n",
    "    \n",
    "        '''Smaller gammma^{prime} at the ends'''\n",
    "        pdata['output_dir'] = output_dir + '_0.25'\n",
    "        pdata['beta'] = 0.25\n",
    "        # sim.infer_trait(**pdata)\n",
    "    \n",
    "        '''Constant gammma^{prime} '''\n",
    "        pdata['output_dir'] = output_dir + '_1'\n",
    "        pdata['beta'] = 1\n",
    "        # sim.infer_trait(**pdata)\n",
    "\n",
    "    print('Done inference for %d simulations with different γ\\' when dt = %d'%(n_sim, dt))"
   ]
  },
  {
   "cell_type": "code",
   "execution_count": 18,
   "id": "721f5b8b",
   "metadata": {},
   "outputs": [
    {
     "name": "stdout",
     "output_type": "stream",
     "text": [
      "Done inference for 100 simulations with different γ' for limited time points\n"
     ]
    }
   ],
   "source": [
    "importlib.reload(sim)\n",
    "'''cut sequence and then infer'''\n",
    "\n",
    "pdata['cut_dir']  = 'random'\n",
    "pdata['cut_time'] = [0, 10, 25, 70, 135, 250, 400, 590, 720, 880, 1000]\n",
    "pdata['seq_dir']  = 'cut/random/sequences'\n",
    "output_dir        = 'cut/random/output'\n",
    "\n",
    "for n in range(n_sim):\n",
    "    pdata['xfile']        = str(n)\n",
    "#     sim.cut_seq(**pdata)\n",
    "\n",
    "for n in range(n_sim):\n",
    "    pdata['xfile']        = str(n)\n",
    "    \n",
    "    '''Standard gammma^{prime} at the ends'''\n",
    "    pdata['output_dir'] = output_dir\n",
    "    pdata['beta'] = 4\n",
    "    # sim.infer_trait(**pdata)\n",
    "\n",
    "    '''Smaller gammma^{prime} at the ends'''\n",
    "    pdata['output_dir'] = output_dir + '_0.25'\n",
    "    pdata['beta'] = 0.25\n",
    "    # sim.infer_trait(**pdata)\n",
    "\n",
    "    '''Constant gammma^{prime} '''\n",
    "    pdata['output_dir'] = output_dir + '_1'\n",
    "    pdata['beta'] = 1\n",
    "    # sim.infer_trait(**pdata)\n",
    "\n",
    "print('Done inference for %d simulations with different γ\\' for limited time points'%(n_sim))"
   ]
  },
  {
   "cell_type": "code",
   "execution_count": null,
   "id": "b4e1db89",
   "metadata": {},
   "outputs": [],
   "source": []
  },
  {
   "cell_type": "code",
   "execution_count": null,
   "id": "b8ca4aad-e5a9-427d-bdef-677f87f56b07",
   "metadata": {},
   "outputs": [],
   "source": []
  },
  {
   "cell_type": "code",
   "execution_count": null,
   "id": "9ce828b7-6a06-426c-8777-e783f971b4f1",
   "metadata": {},
   "outputs": [],
   "source": []
  },
  {
   "cell_type": "code",
   "execution_count": null,
   "id": "fa32b49b-01c1-4d7f-a286-3429e470968f",
   "metadata": {},
   "outputs": [],
   "source": []
  }
 ],
 "metadata": {
  "kernelspec": {
   "display_name": "Python 3 (ipykernel)",
   "language": "python",
   "name": "python3"
  },
  "language_info": {
   "codemirror_mode": {
    "name": "ipython",
    "version": 3
   },
   "file_extension": ".py",
   "mimetype": "text/x-python",
   "name": "python",
   "nbconvert_exporter": "python",
   "pygments_lexer": "ipython3",
   "version": "3.10.9"
  },
  "widgets": {
   "application/vnd.jupyter.widget-state+json": {
    "state": {},
    "version_major": 2,
    "version_minor": 0
   }
  }
 },
 "nbformat": 4,
 "nbformat_minor": 5
}
