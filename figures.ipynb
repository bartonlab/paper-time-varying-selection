{
 "cells": [
  {
   "cell_type": "markdown",
   "metadata": {},
   "source": [
    "<a id='contents'></a>"
   ]
  },
  {
   "cell_type": "markdown",
   "metadata": {},
   "source": [
    "# Figures and analysis\n",
    "\n",
    "This notebook contains scripts for producing the main figures and results accompanying the manuscript. Here we perform basic organization and processing of data, which is then passed to functions in `figures.py` and `mplot.py` (available at this [GitHub repository](https://github.com/johnbarton/mplot)) for detailed formatting. The figures produced are stored as PDFs in the `/figures` folder.\n",
    "\n",
    "## Contents\n",
    "\n",
    "- [Overview and table of contents](#contents)\n",
    "- [Loading libraries and global variables](#global)\n",
    "- [Figures and data analysis](#figures)  \n",
    "    - [Figure 1](#fig1)\n",
    "\n",
    "**DELETE LATER: Include any other relevant links here. To link to somewhere in the notebook, you can include the following line of code in a Markdown cell right above where you want to make the link:**\n",
    "`<a id='TAG'></a>`\n",
    "**The TAG that you set as the id will be what you use when making the link in another Markdown cell:**\n",
    "`[This link would go to the previous tag.](#TAG)`"
   ]
  },
  {
   "cell_type": "markdown",
   "metadata": {},
   "source": [
    "<a id='global'></a>"
   ]
  },
  {
   "cell_type": "markdown",
   "metadata": {},
   "source": [
    "## Libraries and global variables"
   ]
  },
  {
   "cell_type": "code",
   "execution_count": 1,
   "metadata": {},
   "outputs": [
    {
     "name": "stdout",
     "output_type": "stream",
     "text": [
      "python version 3.9.13 | packaged by conda-forge | (main, May 27 2022, 17:01:00) \n",
      "[Clang 13.0.1 ]\n",
      "numpy version 1.23.4\n",
      "scipy version 1.9.3\n",
      "pandas version 1.5.1\n",
      "matplotlib version 3.6.1\n"
     ]
    }
   ],
   "source": [
    "# Libraries and packages\n",
    "\n",
    "print('This notebook was prepared using:')\n",
    "\n",
    "from importlib import reload\n",
    "import sys, os\n",
    "from copy import deepcopy\n",
    "print('python version %s' % sys.version)\n",
    "\n",
    "import numpy as np\n",
    "print('numpy version %s' % np.__version__)\n",
    "\n",
    "import scipy as sp\n",
    "import scipy.stats as st\n",
    "print('scipy version %s' % sp.__version__)\n",
    "\n",
    "import pandas as pd\n",
    "print('pandas version %s' % pd.__version__)\n",
    "\n",
    "import matplotlib\n",
    "from matplotlib import cm\n",
    "import matplotlib.pyplot as plt\n",
    "print('matplotlib version %s' % matplotlib.__version__)\n",
    "\n",
    "\n",
    "# Global variables\n",
    "\n",
    "A_GLOBAL_VARIABLE = 0  # Global names in ALL CAPS!\n",
    "\n",
    "SIMULATION_DIRECTORY = 'simulations'\n",
    "DATA_DIRECTORY       = 'data'\n",
    "SCRIPT_DIRECTORY     = ''\n",
    "INFERENCE_DATE       = '2022-06-09'\n",
    "SARS_DATA_DIR        = os.path.join(os.getcwd(), DATA_DIRECTORY)"
   ]
  },
  {
   "cell_type": "markdown",
   "metadata": {},
   "source": [
    "<a id='figures'></a>"
   ]
  },
  {
   "cell_type": "markdown",
   "metadata": {},
   "source": [
    "## Figures and data analysis"
   ]
  },
  {
   "cell_type": "markdown",
   "metadata": {},
   "source": [
    "<a id='fig1'></a>"
   ]
  },
  {
   "cell_type": "markdown",
   "metadata": {},
   "source": [
    "### Figure 1. A description of the figure/analysis."
   ]
  },
  {
   "cell_type": "code",
   "execution_count": 3,
   "metadata": {},
   "outputs": [],
   "source": [
    "# Figure 1 -- inference results for simulations\n",
    "\n",
    "import figs as f\n",
    "reload(f)\n",
    "\n",
    "data = { 'sim_file':       os.path.join(SIMULATION_DIRECTORY, 'sim-init-sample50-T50.npz'),\n",
    "         'inf_file':       os.path.join(SIMULATION_DIRECTORY, 'inf-init-sample50-T50.npz'),\n",
    "         'replicate_file': os.path.join(SIMULATION_DIRECTORY, 'epi-init-sample50-T50.npz'),\n",
    "         'pop_size':       10000,\n",
    "         'cutoff':         0.01 }\n",
    "\n",
    "f.plot_performance(**data)"
   ]
  }
 ],
 "metadata": {
  "kernelspec": {
   "display_name": "Python 3 (ipykernel)",
   "language": "python",
   "name": "python3"
  },
  "language_info": {
   "codemirror_mode": {
    "name": "ipython",
    "version": 3
   },
   "file_extension": ".py",
   "mimetype": "text/x-python",
   "name": "python",
   "nbconvert_exporter": "python",
   "pygments_lexer": "ipython3",
   "version": "3.9.13"
  }
 },
 "nbformat": 4,
 "nbformat_minor": 4
}
