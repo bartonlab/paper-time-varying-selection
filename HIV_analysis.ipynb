{
 "cells": [
  {
   "cell_type": "markdown",
   "id": "5f50d53d",
   "metadata": {},
   "source": [
    "# <font color = red> HIV Analysis\n",
    "</font> Here we combine HIV sequence data from [the Los Alamos National Laboratory HIV Sequence Database](https://www.hiv.lanl.gov/content/index) and immunological data to investigate HIV evolution across 13 individuals. This data is contained in the data/HIV/ directory."
   ]
  },
  {
   "cell_type": "markdown",
   "id": "73cc675b",
   "metadata": {},
   "source": [
    "## Contents\n",
    "- ### [Libraries and variables](#lib)\n",
    "- ### Data analyze\n",
    "    - #### [Escape information](#escape)\n",
    "    - #### [Write shell script](#mpl)\n",
    "    - #### [Deal with data](#deal)\n",
    "    - #### [Calculate Δs_ij](#sij)"
   ]
  },
  {
   "cell_type": "markdown",
   "id": "c8bc00c2",
   "metadata": {},
   "source": [
    "### <a id='lib'></a> Libraries and variables"
   ]
  },
  {
   "cell_type": "code",
   "execution_count": 5,
   "id": "f4d1cabb",
   "metadata": {},
   "outputs": [
    {
     "name": "stdout",
     "output_type": "stream",
     "text": [
      "This notebook was prepared using:\n",
      "python version 3.10.9 | packaged by conda-forge | (main, Feb  2 2023, 20:26:08) [Clang 14.0.6 ]\n",
      "numpy version 1.24.2\n",
      "pandas version 1.5.3\n",
      "matplotlib version 3.7.1\n"
     ]
    }
   ],
   "source": [
    "print('This notebook was prepared using:')\n",
    "\n",
    "import os\n",
    "import sys\n",
    "print('python version %s' % sys.version)\n",
    "\n",
    "import numpy as np\n",
    "print('numpy version %s' % np.__version__)\n",
    "\n",
    "import pandas as pd\n",
    "print('pandas version %s' % pd.__version__)\n",
    "\n",
    "import math## <a id='lib'></a> Libraries and variables\n",
    "from math import isnan\n",
    "\n",
    "import matplotlib\n",
    "import matplotlib.cm as cm\n",
    "import matplotlib.pyplot as plt\n",
    "import matplotlib.gridspec as gridspec\n",
    "import matplotlib.image as mpimg\n",
    "print('matplotlib version %s' % matplotlib.__version__)\n",
    "\n",
    "import re\n",
    "import sys\n",
    "import argparse\n",
    "import scipy as sp\n",
    "try:\n",
    "    import itertools.izip as zip\n",
    "except ImportError:\n",
    "    import itertools\n",
    "import random\n",
    "\n",
    "from scipy import integrate\n",
    "import scipy.interpolate as sp_interpolate\n",
    "import statistics\n",
    "\n",
    "from dataclasses import dataclass\n",
    "import time as time_module\n",
    "\n",
    "# GitHub\n",
    "# HIV_DIR = 'data/HIV200'\n",
    "HIV_DIR = 'data/HIV'\n",
    "SIM_DIR = 'data/simulation'\n",
    "FIG_DIR = 'figures'\n",
    "MPL_DIR = 'src'\n",
    "\n",
    "NUC = ['-', 'A', 'C', 'G', 'T']\n"
   ]
  },
  {
   "cell_type": "markdown",
   "id": "46be5dfc",
   "metadata": {},
   "source": [
    "#### <a id='escape'></a> Escape information"
   ]
  },
  {
   "cell_type": "markdown",
   "id": "81068f41",
   "metadata": {},
   "source": [
    "1. all epitopes just had one or two escape mutations (700010077-5,700010058-5,700010040-5,706010164-5,704010042-5)\n",
    "2. all epitopes have more than two escape mutations (700010077-3,700010058-3,700010607-3,705010198-3,705010185-5,703010159-3) \n",
    "3. combination of the above (700010470-3 ,700010470-5 ,700010040-3,706010164-3, 705010162-3, 705010162-5, 704010042-3, 703010256-3, 703010256-5, 703010131-3, 703010131-5)\n",
    "4. no mutation related to escape (700010607-5,705010198-5,705010185-3,703010159-5)\n",
    "\n",
    "tag|sequence<br>length|escape<br>group|variants|max<br>time|time<br>step|gamma<br>s|raw<br>time|special<br>sites\n",
    ":----:|:----:|:---:|:-----:|:----|:----|:----:|:----:|:----:\n",
    "700010040-3|303|3|314|552|20|0.018|[0, 16, 45, 111, 181, 283, 412, 552]|[245, 246]\n",
    "700010040-5|146|0|146|552|5 |0.018|[0, 16, 45, 111, 181, 283, 412, 552]|[31, 32, 39, 104]\n",
    "700010058-3|90 |1|91 |85 |1 |0.118|[0, 8, 45, 85]|[]\n",
    "700010058-5|96 |0|96 |350|1 |0.029|[0, 8, 45, 85, 154, 239, 252, 350]|[13, 16, 17]\n",
    "700010077-3|203|6|221|159|5 |0.063|[0, 14, 32, 102, 159]|[]\n",
    "700010077-5|48 |0|49 |159|1 |0.063|[0, 14, 32, 159]|[1, 4, 5, 47]\n",
    "700010470-3|367|3|405|420|20|0.024|[0, 13, 41, 69, 174, 420]|[40, 334]\n",
    "700010470-5|193|3|198|454|5 |0.022|[0, 13, 41, 69, 174, 420, 454]|[8, 9, 124]\n",
    "700010607-3|239|1|252|21 |1 |0.476|[0, 9, 14, 21]|[]\n",
    "700010607-5|78 |0|78 |21 |1 |     |[0, 9, 14, 21]|no mutation related to epitope\t\n",
    "703010131-3|744|1|807|333|20|0.030|[0, 21, 28, 34, 63, 91, 175, 273, 333]|[0, 45, 46, 47, 76, 189, 560, 561]\n",
    "703010131-5|261|1|265|333|5 |0.030|[0, 21, 28, 34, 63, 91, 175, 273, 333]|[259]\n",
    "703010159-3|477|2|517|302|20|0.033|[0, 8, 12, 22, 29, 56, 85, 302]|[]\n",
    "703010159-5|216|0|224|302|5 |     |[0, 8, 12, 22, 29, 56, 85, 302]|no mutation related to epitope\t\n",
    "703010256-3|463|4|510|684|20|0.015|[0, 28, 63, 172, 426, 684]|[45, 46, 316, 317]\n",
    "703010256-5|402|1|410|684|20|0.015|[0, 28, 63, 172, 426, 684]|[42, 208]\n",
    "704010042-3|875|2|1074|676|20|0.015|[0, 21, 60, 172, 424, 676]|[95, 96, 765, 766]\n",
    "704010042-5|266|0|272|676|5|0.015|[0, 21, 60, 172, 424, 676]|[29, 30, 125]\n",
    "705010162-3|508|2|562|438|20|0.023|[0, 21, 77, 179, 438]|[33, 34, 327, 328]\n",
    "705010162-5|254|3|259|438|5 |0.023|[0, 21, 77, 179, 438]|[155]\n",
    "705010185-3|292|0|303|416|5 |     |[0, 25, 67, 180, 416]|no mutation related to epitope\t\n",
    "705010185-5|85 |1|89 |67 |1 |0.149|[0, 25, 67]|[]\n",
    "705010198-3|204|1|223|60 |1 |0.167|[0, 11, 60]|[]\n",
    "705010198-5|72 |0|73 |60 |1 |     |[0, 11, 60]|no mutation related to epitope\t\n",
    "706010164-3|485|3|532|434|20|0.023|[0, 14, 28, 70, 183, 434]|[463]\n",
    "706010164-5|204|0|205|434|5 |0.023|[0, 14, 28, 70, 183, 434]|[44, 50, 51, 170]"
   ]
  },
  {
   "cell_type": "markdown",
   "id": "c912d699",
   "metadata": {},
   "source": [
    "Write sh file for HIV data"
   ]
  },
  {
   "cell_type": "code",
   "execution_count": 3,
   "id": "e8965821",
   "metadata": {},
   "outputs": [],
   "source": [
    "infer_tags = ['700010040-3','700010040-5','700010058-3','700010058-5','700010077-3','700010077-5',\n",
    "              '700010470-3','700010470-5','700010607-3','703010131-3','703010131-5','703010159-3',\n",
    "              '703010256-3','703010256-5','704010042-5','705010162-3','705010162-5',\n",
    "              '705010185-5','705010198-3','706010164-3','706010164-5'] #\n",
    "\n",
    "f = open(\"%s/HIV_run.sh\"%MPL_DIR,'w')\n",
    "f.write('#!/bin/bash\\n')\n",
    "f.write('cd ..\\n')\n",
    "\n",
    "# f.write('tags=(')\n",
    "# for tag in infer_tags:\n",
    "#     f.write('\"%s\" '%tag)\n",
    "# f.write(')\\n')\n",
    "# f.write('for tag in \"${tags[@]}\"\\n')\n",
    "# f.write('do\\n')\n",
    "# f.write('   python ../inference_HIV.py -tag %s --raw & \\n'%(tag))\n",
    "# f.write('done\\n')\n",
    "# f.write('wait\\n')\n",
    "# f.write('echo \"All scripts have been attempted.\"')\n",
    "# f.close()  \n",
    "\n",
    "for i in range(len(infer_tags)):\n",
    "    tag = infer_tags[i]\n",
    "    f.write('\\tpython inference_HIV.py -tag %s --raw'%(tag))\n",
    "    f.write(' || echo \"CH%s failed, continuing with next script...\" \\n'%tag[-5:])\n",
    "f.write('echo \"All scripts have been attempted.\"')\n",
    "f.close()  \n",
    "\n",
    "python inference_HIV.py -tag '704010042-3' --raw\n",
    "python inference_HIV.py -tag '700010077-5'"
   ]
  },
  {
   "cell_type": "code",
   "execution_count": 2,
   "id": "1236d58c",
   "metadata": {},
   "outputs": [],
   "source": [
    "infer_tags = ['700010040-3','700010040-5','700010058-3','700010058-5','700010077-3','700010077-5',\n",
    "              '700010470-3','700010470-5','700010607-3','703010131-3','703010131-5','703010159-3',\n",
    "              '703010256-3','703010256-5','704010042-5','705010162-3','705010162-5',\n",
    "              '705010185-5','705010198-3','706010164-3','706010164-5'] #'704010042-3'\n",
    "\n",
    "f = open(\"%s/HIV_run_nog.sh\"%MPL_DIR,'w')\n",
    "f.write('#!/bin/bash\\n')\n",
    "f.write('cd ..\\n')\n",
    "\n",
    "for i in range(len(infer_tags)):\n",
    "    tag = infer_tags[i]\n",
    "    f.write('\\tpython inference_HIV.py -tag %s -g1 0'%(tag))\n",
    "    f.write(' || echo \"CH%s failed, continuing with next script...\" \\n'%tag[-5:])\n",
    "f.write('echo \"All scripts have been attempted.\"')\n",
    "f.close()  "
   ]
  },
  {
   "cell_type": "markdown",
   "id": "06d3a23c",
   "metadata": {},
   "source": [
    "### See the influence of the length of extended time\n",
    "Use gamma = 0, and s(boundary) = 0 instead of s'(boundary) = 0"
   ]
  },
  {
   "cell_type": "code",
   "execution_count": 62,
   "id": "f25c2632",
   "metadata": {},
   "outputs": [],
   "source": [
    "try_tags = ['700010040-3', '700010058-3','700010077-3','703010131-5','705010185-5']\n",
    "\n",
    "theta_range = [0.5, 2, 5, 10]\n",
    "\n",
    "f = open(\"%s/HIV_nog_try.sh\"%MPL_DIR,'w')\n",
    "f.write('#!/bin/bash\\n')\n",
    "f.write('cd ..\\n')\n",
    "for i in range(len(try_tags)):\n",
    "    tag = try_tags[i]\n",
    "    for theta in theta_range:\n",
    "        f.write('python inference_HIV.py -tag %s -g1 0 -theta %s'%(tag, theta))\n",
    "        f.write(' || echo \"CH%s failed, continuing with next script...\" \\n'%tag[-5:])\n",
    "f.write('echo \"All scripts have been attempted.\"')\n",
    "f.close()  "
   ]
  },
  {
   "cell_type": "markdown",
   "id": "e8ba3a07",
   "metadata": {},
   "source": [
    "Dealing with mpl results (Normalize the selection coefficients such that the TF nucleotide at each site has a selection coefficient of zero) and record information in analyze files.\n",
    "\n",
    "- /analysis/'tag'-analyze.csv\n",
    "    - coefficients in 2 cases (old: constant case; new: time-varying case)\n",
    "    - standard deviation for the selection coefficient\n",
    "    - allele frequencies over time\n",
    "- /epitopes/'tag'-trait.csv\n",
    "    - individual information \n",
    "    - trait frequencies over time\n",
    "    - escape coefficients over time\n",
    "\n",
    "Use a very large $\\gamma^{\\prime}$ to get a flat selection coefficients. Use the average value of it. "
   ]
  },
  {
   "cell_type": "code",
   "execution_count": 3,
   "id": "d752a1cd",
   "metadata": {},
   "outputs": [],
   "source": [
    "import epitope\n",
    "import importlib\n",
    "importlib.reload(epitope)\n",
    "\n",
    "infer_tags = ['700010040-3','700010040-5','700010058-3','700010058-5','700010077-3','700010077-5',\n",
    "          '700010470-3','700010470-5','700010607-3','703010131-3','703010131-5','703010159-3',\n",
    "          '703010256-3','703010256-5','704010042-5','705010162-3','705010162-5',\n",
    "          '705010185-5','705010198-3','706010164-3','706010164-5'] #'704010042-3'\n",
    "\n",
    "HIV_DIR = 'data/HIV'\n",
    "output  = 'output_nog'\n",
    "\n",
    "# for tag in infer_tags:\n",
    "#     epitope.analyze_result(HIV_DIR,output,tag)\n"
   ]
  },
  {
   "cell_type": "code",
   "execution_count": 7,
   "id": "797d9b44",
   "metadata": {},
   "outputs": [],
   "source": [
    "tag = '700010040-3'\n",
    "df_epi    = pd.read_csv('%s/epitopes/escape_group-%s.csv' %(HIV_DIR,tag), comment='#', memory_map=True)\n",
    "cols_time = [i for i in list(df_epi) if 'f_at_' in i]\n",
    "cols_xp   = [i for i in list(df_epi) if 'xp_at_' in i]\n",
    "times     = [int(cols_time[i].split('_')[-1]) for i in range(len(cols_time))]\n",
    "\n",
    "df_tv     = pd.read_csv('%s/%s/%s-tv.csv' %(HIV_DIR,output,tag), comment='#', memory_map=True)\n",
    "cols      = [i for i in list(df_tv) if 'f_at_' not in i]\n",
    "\n",
    "# get selection coefficient\n",
    "data_pro     = np.load('%s/rawdata/rawdata_%s.npz'%(HIV_DIR,tag), allow_pickle=\"True\")\n",
    "time_step    = data_pro['time_step']\n",
    "\n",
    "data_tc      = np.load('%s/%s/c_%s_%d.npz'%(HIV_DIR,output,tag,time_step), allow_pickle=\"True\")\n",
    "sc_tv_all    = data_tc['selection']# time range:times\n",
    "muVec        = data_pro['muVec']\n",
    "\n",
    "g = open('%s/%s/escape_group-%s.csv'%(HIV_DIR,output,tag),'w')\n",
    "g.write('%s,' % (','.join(cols)))\n",
    "g.write('%s' % (','.join(cols_time)))\n",
    "for t in range(len(times)):\n",
    "    g.write(',sc_at_%s'%times[t])\n",
    "g.write('\\n')\n",
    "\n",
    "epitopes = df_epi['epitope'].unique()\n",
    "for n in range(len(epitopes)):\n",
    "    df_epi_n = df_epi[df_epi['epitope'] == epitopes[n]]\n",
    "    for i in range(len(df_epi_n)):\n",
    "        site_index = df_epi_n.iloc[i].polymorphic_index\n",
    "        HXB2_index = df_epi_n.iloc[i].HXB2_index\n",
    "        nucleotide = df_epi_n.iloc[i].nucleotide\n",
    "        TF         = df_epi_n.iloc[i].TF\n",
    "        consensus  = df_epi_n.iloc[i].consensus\n",
    "        epitope    = df_epi_n.iloc[i].epitope\n",
    "        escape     = df_epi_n.iloc[i].escape\n",
    "        sc_c       = df_epi_n.iloc[i].sc_MPL\n",
    "        \n",
    "        index_mu   = muVec[site_index,NUC.index(nucleotide)]\n",
    "        index_TF   = muVec[site_index,NUC.index(TF)]\n",
    "\n",
    "        sc_tv      = sc_tv_all[int(index_mu)] - sc_tv_all[int(index_TF)]\n",
    "        sc_mean    = np.average(sc_tv)\n",
    "        sc_sigma   = statistics.stdev(sc_tv)\n",
    "                \n",
    "        g.write('%d,%s,%s,%s,' % (site_index, HXB2_index, nucleotide, TF))\n",
    "        g.write('%s,%s,%s,%f,%s,%s,' % (consensus, epitope, escape, sc_c, sc_mean, sc_sigma))\n",
    "        g.write('%s' % (','.join([str(df_epi_n.iloc[i][c]) for c in cols_time])))        \n",
    "        for t in range(len(times)):\n",
    "            g.write(',%f'%sc_tv[t])\n",
    "        g.write('\\n')\n",
    "    \n",
    "    sc_tv_n  = sc_tv_all[-(len(epitopes)-n)]\n",
    "    sc_c = df_epi_n.iloc[0].tc_MPL\n",
    "    g.write(' , , , , %s, , , %s, , ,'%(epitope,sc_c))\n",
    "    g.write('%s' % (','.join([str(df_epi_n.iloc[0][c]) for c in cols_xp])))\n",
    "    for t in range(len(times)):\n",
    "        g.write(',%f'%sc_tv_n[t])\n",
    "    g.write('\\n')\n",
    "    "
   ]
  },
  {
   "cell_type": "code",
   "execution_count": null,
   "id": "df073472",
   "metadata": {},
   "outputs": [],
   "source": []
  },
  {
   "cell_type": "markdown",
   "id": "e521a00d",
   "metadata": {},
   "source": [
    "### Write sh file for HIV data with shorter time - 200"
   ]
  },
  {
   "cell_type": "code",
   "execution_count": 50,
   "id": "dcdbd3fe",
   "metadata": {},
   "outputs": [
    {
     "name": "stdout",
     "output_type": "stream",
     "text": [
      "\tmutant at site 0 in codon for CH131-3 that does not terminate in alignment\n"
     ]
    }
   ],
   "source": [
    "import epitope\n",
    "import importlib\n",
    "importlib.reload(epitope)\n",
    "    \n",
    "min_n = 2\n",
    "tags = ['700010040-3', '700010040-5', '700010058-3', '700010058-5', '700010077-3', '700010077-5',\n",
    "        '700010470-3', '700010470-5', '700010607-3', '700010607-5', '703010131-3', '703010131-5', \n",
    "        '703010159-3', '703010159-5', '703010256-3', '703010256-5', '704010042-3', '704010042-5', \n",
    "        '705010162-3', '705010162-5', '705010185-3', '705010185-5', '705010198-3', '705010198-5', \n",
    "        '706010164-3', '706010164-5']  \n",
    "\n",
    "HIV_DIR_200 = 'data/HIV200'\n",
    "for tag in tags:\n",
    "    epitope.find_trait_site(tag,min_n,HIV_DIR_200)   "
   ]
  },
  {
   "cell_type": "code",
   "execution_count": 51,
   "id": "9c441e13",
   "metadata": {},
   "outputs": [
    {
     "name": "stdout",
     "output_type": "stream",
     "text": [
      "CH077-3 35 C\n",
      "CH077-3 161 A\n",
      "CH162-3 194 T\n",
      "CH162-3 198 T\n"
     ]
    }
   ],
   "source": [
    "for tag in tags:\n",
    "    traitsite = epitope.read_file(HIV_DIR_200,'traitsite/traitsite-'+tag+'.dat')\n",
    "    df = pd.read_csv('%s/interim/%s-escape.csv' %(HIV_DIR_200,tag), comment='#', memory_map=True)\n",
    "    for i in range(len(traitsite)):\n",
    "        for j in range(len(traitsite[i])):\n",
    "            n_ij   = df[df['polymorphic_index'] == traitsite[i][j]]\n",
    "            for a in range(len(n_ij)):\n",
    "                if n_ij.iloc[a].escape == False and n_ij.iloc[a].nucleotide != n_ij.iloc[a].TF:\n",
    "                    print(f'CH{tag[-5:]} {n_ij.iloc[a].polymorphic_index} {n_ij.iloc[a].nucleotide}')"
   ]
  },
  {
   "cell_type": "code",
   "execution_count": 52,
   "id": "9271f1a1",
   "metadata": {},
   "outputs": [],
   "source": [
    "special_tags = ['700010077-3', '705010162-3']\n",
    "NUC = ['-', 'A', 'C', 'G', 'T']\n",
    "\n",
    "# case 1: CH077-3 35C and 161A\n",
    "tag = '700010077-3'\n",
    "traitseq  = epitope.read_file(HIV_DIR_200,'traitseq/traitseq-'+tag+'.dat')\n",
    "traitsite = epitope.read_file(HIV_DIR_200,'traitsite/traitsite-'+tag+'.dat')\n",
    "f = open(\"%s/input/traitseq/traitallele-%s.dat\"%(HIV_DIR_200,tag),'w')\n",
    "for i in range(len(traitsite)):\n",
    "    line_content = [\n",
    "        f'{traitseq[i][j]}/{NUC.index(\"C\")}' if traitsite[i][j] == 35 else\n",
    "        f'{traitseq[i][j]}/{NUC.index(\"A\")}' if traitsite[i][j] == 161 else\n",
    "        str(traitseq[i][j])\n",
    "        for j in range(len(traitsite[i]))\n",
    "    ]\n",
    "    \n",
    "    line = '\\t'.join(line_content)\n",
    "    f.write(line + '\\n')\n",
    "f.close()\n",
    "\n",
    "# case 2: CH162-3 194T and 198T\n",
    "tag = '705010162-3'\n",
    "traitseq  = epitope.read_file(HIV_DIR_200,'traitseq/traitseq-'+tag+'.dat')\n",
    "traitsite = epitope.read_file(HIV_DIR_200,'traitsite/traitsite-'+tag+'.dat')\n",
    "f = open(\"%s/input/traitseq/traitallele-%s.dat\"%(HIV_DIR_200,tag),'w')\n",
    "for i in range(len(traitsite)):\n",
    "    line_content = [\n",
    "        f'{traitseq[i][j]}/{NUC.index(\"T\")}' if traitsite[i][j] == 194 else\n",
    "        f'{traitseq[i][j]}/{NUC.index(\"T\")}' if traitsite[i][j] == 198 else\n",
    "        str(traitseq[i][j])\n",
    "        for j in range(len(traitsite[i]))\n",
    "    ]\n",
    "    \n",
    "    line = '\\t'.join(line_content)\n",
    "    f.write(line + '\\n')\n",
    "f.close()   "
   ]
  },
  {
   "cell_type": "code",
   "execution_count": 53,
   "id": "eeb04154",
   "metadata": {},
   "outputs": [],
   "source": [
    "for tag in tags:\n",
    "    epitope.analyze_result(tag,HIV_DIR_200) "
   ]
  },
  {
   "cell_type": "markdown",
   "id": "cd1389a4",
   "metadata": {},
   "source": [
    "input sequences changed:\\\n",
    "CH470-3, CH470-5, CH159-3, CH256-3, CH256-5, CH042-3, CH042-5, CH162-3, CH162-5, CH164-3, CH164-5\\\n",
    "trait sites changed:\\\n",
    "CH470-5, CH256-3, CH256-5, CH042-3, CH162-5, CH164-3\\\n",
    "trait sites NOT changed:\\\n",
    "CH470-3, CH159-3, CH042-5, CH162-3, CH164-5"
   ]
  },
  {
   "cell_type": "code",
   "execution_count": 54,
   "id": "b266cc1e",
   "metadata": {},
   "outputs": [
    {
     "name": "stdout",
     "output_type": "stream",
     "text": [
      "700010040-3|303|3|314|552|20|0.018|[0, 16, 45, 111, 181, 283, 412, 552]|[245, 246]|\n",
      "700010040-5|146|0|146|552|5|0.018|[0, 16, 45, 111, 181, 283, 412, 552]|[31, 32, 39, 104]|\n",
      "700010058-3|90|1|91|85|1|0.118|[0, 8, 45, 85]|[]|\n",
      "700010058-5|96|0|96|350|1|0.029|[0, 8, 45, 85, 154, 239, 252, 350]|[13, 16, 17]|\n",
      "700010077-3|203|6|221|159|5|0.063|[0, 14, 32, 102, 159]|[]|\n",
      "700010077-5|48|0|49|159|1|0.063|[0, 14, 32, 159]|[1, 4, 5]|\n",
      "700010470-3|282|3|301|174|5|0.057|[0, 13, 41, 69, 174]|[32]|\n",
      "700010470-5|139|1|141|174|5|0.057|[0, 13, 41, 69, 174]|[8, 17, 57, 59, 90]|\n",
      "700010607-3|239|1|252|21|1|0.476|[0, 9, 14, 21]|[]|\n",
      "700010607-5|78|0|78|21|1|0.476|[0, 9, 14, 21]|[]|\n",
      "703010131-3|744|1|807|333|20|0.03|[0, 21, 28, 34, 63, 91, 175, 273, 333]|[45, 46, 47, 76, 189, 560, 561]|\n"
     ]
    }
   ],
   "source": [
    "import inference_HIV as HIV\n",
    "\n",
    "importlib.reload(HIV)\n",
    "\n",
    "tags_200 = ['700010470-3','700010470-5','703010159-3','703010256-3','703010256-5','704010042-3',\n",
    "            '704010042-5','705010162-3','705010162-5','706010164-3','706010164-5']\n",
    "\n",
    "for i in range(len(tags_200)):\n",
    "    tag = tags[i]\n",
    "    result = HIV.AnalyzeData(tag,HIV_DIR_200)\n",
    "    sample_times = result.uniq_t\n",
    "    gamma  = round(10/sample_times[-1],3)\n",
    "    print('%s|%d|%d|%d|%d|%d|%s|'%(tag,result.seq_length,len(result.escape_group),result.variants,\\\n",
    "                                   result.uniq_t[-1],result.time_step,gamma),end='')\n",
    "    print([int(i) for i in result.uniq_t],end='')\n",
    "    print('|',end='')\n",
    "    print([int(i) for i in result.special_sites],end='')\n",
    "    print('|')"
   ]
  },
  {
   "cell_type": "markdown",
   "id": "3a1fe919",
   "metadata": {},
   "source": [
    "\n",
    "tag|sequence<br>length|escape<br>group|variants|max<br>time|time<br>step|gamma<br>s|raw<br>time|special<br>sites\n",
    ":----:|:----:|:---:|:-----:|:----|:----|:----:|:----:|:----:\n",
    "700010470-3|282|3|301|174|5|0.057|[0, 13, 41, 69, 174]     |[32]|\n",
    "700010470-5|139|1|141|174|5|0.057|[0, 13, 41, 69, 174]     |[8, 17, 57, 59, 90]|\n",
    "703010159-3|312|2|322|85|1|0.118|[0, 8, 12, 22, 29, 56, 85]|[]|\n",
    "703010256-3|175|3|180|172|5|0.058|[0, 28, 63, 172]         |[20, 105, 159, 160]|\n",
    "703010256-5|236|1|238|172|5|0.058|[0, 28, 63, 172]         |[]|\n",
    "704010042-3|499|1|585|172|20|0.058|[0, 21, 60, 172]        |[20, 21, 51, 52, 426]|\n",
    "704010042-5|80|0|80|172|1|0.058|[0, 21, 60, 172]           |[9, 10]|\n",
    "705010162-3|394|2|404|179|20|0.056|[0, 21, 77, 179]        |[18, 19, 224]|\n",
    "705010162-5|135|2|135|179|5|0.056|[0, 21, 77, 179]         |[2, 3]|\n",
    "706010164-3|275|3|280|183|5|0.055|[0, 14, 28, 70, 183]     |[269]|\n",
    "706010164-5|109|0|110|183|5|0.055|[0, 14, 28, 70, 183]     |[27, 93]|\n"
   ]
  },
  {
   "cell_type": "code",
   "execution_count": 59,
   "id": "f6290405",
   "metadata": {},
   "outputs": [],
   "source": [
    "tags_200 = ['700010470-3','700010470-5','703010159-3','703010256-3','703010256-5','704010042-3',\n",
    "            '704010042-5','705010162-3','705010162-5','706010164-3','706010164-5']\n",
    "\n",
    "f = open(\"%s/HIV_200.sh\"%MPL_DIR,'w')\n",
    "f.write('#!/bin/bash\\n')\n",
    "f.write('cd ..\\n')\n",
    "\n",
    "for tag in tags_200:\n",
    "    f.write('python inference_HIV.py -tag %s -dir \\'data/HIV200\\' --raw'%(tag))\n",
    "    f.write(' || echo \"CH%s failed, continuing with next script...\" \\n'%tag[-5:])\n",
    "f.write('echo \"All scripts have been attempted.\"')\n",
    "f.close()  "
   ]
  },
  {
   "cell_type": "code",
   "execution_count": null,
   "id": "4da25246",
   "metadata": {},
   "outputs": [],
   "source": []
  },
  {
   "cell_type": "code",
   "execution_count": null,
   "id": "49950435",
   "metadata": {},
   "outputs": [],
   "source": []
  },
  {
   "cell_type": "markdown",
   "id": "410684ef",
   "metadata": {},
   "source": [
    "### Write sh file for HIV data with shorter time - 250"
   ]
  },
  {
   "cell_type": "code",
   "execution_count": 38,
   "id": "6d879600",
   "metadata": {},
   "outputs": [
    {
     "name": "stdout",
     "output_type": "stream",
     "text": [
      "\tmutant at site 0 in codon for CH131-3 that does not terminate in alignment\n"
     ]
    }
   ],
   "source": [
    "import epitope\n",
    "import importlib\n",
    "importlib.reload(epitope)\n",
    "    \n",
    "min_n = 2\n",
    "tags = ['700010040-3', '700010040-5', '700010058-3', '700010058-5', '700010077-3', '700010077-5',\n",
    "        '700010470-3', '700010470-5', '700010607-3', '700010607-5', '703010131-3', '703010131-5', \n",
    "        '703010159-3', '703010159-5', '703010256-3', '703010256-5', '704010042-3', '704010042-5', \n",
    "        '705010162-3', '705010162-5', '705010185-3', '705010185-5', '705010198-3', '705010198-5', \n",
    "        '706010164-3', '706010164-5']  \n",
    "\n",
    "HIV_DIR_250 = 'data/HIV250'\n",
    "for tag in tags:\n",
    "    epitope.find_trait_site(tag,min_n,HIV_DIR_250)   "
   ]
  },
  {
   "cell_type": "code",
   "execution_count": 39,
   "id": "d610af72",
   "metadata": {},
   "outputs": [
    {
     "name": "stdout",
     "output_type": "stream",
     "text": [
      "CH077-3 35 C\n",
      "CH077-3 161 A\n",
      "CH162-3 194 T\n",
      "CH162-3 198 T\n"
     ]
    }
   ],
   "source": [
    "for tag in tags:\n",
    "    traitsite = epitope.read_file(HIV_DIR_250,'traitsite/traitsite-'+tag+'.dat')\n",
    "    df = pd.read_csv('%s/interim/%s-escape.csv' %(HIV_DIR_250,tag), comment='#', memory_map=True)\n",
    "    for i in range(len(traitsite)):\n",
    "        for j in range(len(traitsite[i])):\n",
    "            n_ij   = df[df['polymorphic_index'] == traitsite[i][j]]\n",
    "            for a in range(len(n_ij)):\n",
    "                if n_ij.iloc[a].escape == False and n_ij.iloc[a].nucleotide != n_ij.iloc[a].TF:\n",
    "                    print(f'CH{tag[-5:]} {n_ij.iloc[a].polymorphic_index} {n_ij.iloc[a].nucleotide}')"
   ]
  },
  {
   "cell_type": "code",
   "execution_count": 40,
   "id": "eb152915",
   "metadata": {},
   "outputs": [],
   "source": [
    "special_tags = ['700010077-3', '705010162-3']\n",
    "NUC = ['-', 'A', 'C', 'G', 'T']\n",
    "\n",
    "# case 1: CH077-3 35C and 161A\n",
    "tag = '700010077-3'\n",
    "traitseq  = epitope.read_file(HIV_DIR_250,'traitseq/traitseq-'+tag+'.dat')\n",
    "traitsite = epitope.read_file(HIV_DIR_250,'traitsite/traitsite-'+tag+'.dat')\n",
    "f = open(\"%s/input/traitseq/traitallele-%s.dat\"%(HIV_DIR_250,tag),'w')\n",
    "for i in range(len(traitsite)):\n",
    "    line_content = [\n",
    "        f'{traitseq[i][j]}/{NUC.index(\"C\")}' if traitsite[i][j] == 35 else\n",
    "        f'{traitseq[i][j]}/{NUC.index(\"A\")}' if traitsite[i][j] == 161 else\n",
    "        str(traitseq[i][j])\n",
    "        for j in range(len(traitsite[i]))\n",
    "    ]\n",
    "    \n",
    "    line = '\\t'.join(line_content)\n",
    "    f.write(line + '\\n')\n",
    "f.close()\n",
    "\n",
    "# case 2: CH162-3 194T and 198T\n",
    "tag = '705010162-3'\n",
    "traitseq  = epitope.read_file(HIV_DIR_250,'traitseq/traitseq-'+tag+'.dat')\n",
    "traitsite = epitope.read_file(HIV_DIR_250,'traitsite/traitsite-'+tag+'.dat')\n",
    "f = open(\"%s/input/traitseq/traitallele-%s.dat\"%(HIV_DIR_250,tag),'w')\n",
    "for i in range(len(traitsite)):\n",
    "    line_content = [\n",
    "        f'{traitseq[i][j]}/{NUC.index(\"T\")}' if traitsite[i][j] == 194 else\n",
    "        f'{traitseq[i][j]}/{NUC.index(\"T\")}' if traitsite[i][j] == 198 else\n",
    "        str(traitseq[i][j])\n",
    "        for j in range(len(traitsite[i]))\n",
    "    ]\n",
    "    \n",
    "    line = '\\t'.join(line_content)\n",
    "    f.write(line + '\\n')\n",
    "f.close()"
   ]
  },
  {
   "cell_type": "code",
   "execution_count": 41,
   "id": "0514693d",
   "metadata": {},
   "outputs": [],
   "source": [
    "for tag in tags:\n",
    "    epitope.analyze_result(tag,HIV_DIR_250) "
   ]
  },
  {
   "cell_type": "markdown",
   "id": "2f333869",
   "metadata": {},
   "source": [
    "input sequences changed:\\\n",
    "CH256-3, CH256-5, CH042-3, CH042-5, CH162-3, CH162-5, CH164-3, CH164-5\\\n",
    "trait sites changed:\\\n",
    "CH256-3, CH256-5, CH042-3, CH162-5, CH164-3\\\n",
    "trait sites NOT changed:\\\n",
    "CH042-5, CH162-3, CH164-5"
   ]
  },
  {
   "cell_type": "code",
   "execution_count": 47,
   "id": "2ba4b6cb",
   "metadata": {},
   "outputs": [
    {
     "name": "stdout",
     "output_type": "stream",
     "text": [
      "703010256-3|175|3|180|172|5|0.058|[0, 28, 63, 172]|[20, 105, 159, 160]|\n",
      "703010256-5|236|1|238|172|5|0.058|[0, 28, 63, 172]|[]|\n",
      "704010042-3|499|1|585|172|20|0.058|[0, 21, 60, 172]|[20, 21, 51, 52, 426]|\n",
      "704010042-5|80|0|80|172|1|0.058|[0, 21, 60, 172]|[9, 10]|\n",
      "705010162-3|394|2|404|179|20|0.056|[0, 21, 77, 179]|[18, 19, 224]|\n",
      "705010162-5|135|2|135|179|5|0.056|[0, 21, 77, 179]|[2, 3]|\n",
      "706010164-3|275|3|280|183|5|0.055|[0, 14, 28, 70, 183]|[269]|\n",
      "706010164-5|109|0|110|183|5|0.055|[0, 14, 28, 70, 183]|[27, 93]|\n"
     ]
    }
   ],
   "source": [
    "import inference_HIV as HIV\n",
    "\n",
    "importlib.reload(HIV)\n",
    "\n",
    "tags_250 = ['703010256-3','703010256-5','704010042-3','704010042-5',\n",
    "            '705010162-3','705010162-5','706010164-3','706010164-5']\n",
    "\n",
    "for i in range(len(tags_250)):\n",
    "    tag = tags[i]\n",
    "    result = HIV.AnalyzeData(tag,HIV_DIR_250)\n",
    "    sample_times = result.uniq_t\n",
    "    gamma  = round(10/sample_times[-1],3)\n",
    "    print('%s|%d|%d|%d|%d|%d|%s|'%(tag,result.seq_length,len(result.escape_group),result.variants,\\\n",
    "                                   result.uniq_t[-1],result.time_step,gamma),end='')\n",
    "    print([int(i) for i in result.uniq_t],end='')\n",
    "    print('|',end='')\n",
    "    print([int(i) for i in result.special_sites],end='')\n",
    "    print('|')"
   ]
  },
  {
   "cell_type": "markdown",
   "id": "0d251187",
   "metadata": {},
   "source": [
    "tag|sequence<br>length|escape<br>group|variants|max<br>time|time<br>step|gamma<br>s|raw<br>time|special<br>sites\n",
    ":----:|:----:|:---:|:-----:|:----|:----|:----:|:----:|:----:\n",
    "703010256-3|175|3|180|172|5|0.058|[0, 28, 63, 172]         |[20, 105, 159, 160]|\n",
    "703010256-5|236|1|238|172|5|0.058|[0, 28, 63, 172]         |[]|\n",
    "704010042-3|499|1|585|172|20|0.058|[0, 21, 60, 172]        |[20, 21, 51, 52, 426]|\n",
    "704010042-5|80|0|80|172|1|0.058|[0, 21, 60, 172]           |[9, 10]|\n",
    "705010162-3|394|2|404|179|20|0.056|[0, 21, 77, 179]        |[18, 19, 224]|\n",
    "705010162-5|135|2|135|179|5|0.056|[0, 21, 77, 179]         |[2, 3]|\n",
    "706010164-3|275|3|280|183|5|0.055|[0, 14, 28, 70, 183]     |[269]|\n",
    "706010164-5|109|0|110|183|5|0.055|[0, 14, 28, 70, 183]     |[27, 93]|\n"
   ]
  },
  {
   "cell_type": "code",
   "execution_count": 63,
   "id": "9617b6a2",
   "metadata": {},
   "outputs": [],
   "source": [
    "tags_250 = ['703010256-3','703010256-5','704010042-3','704010042-5',\n",
    "            '705010162-3','705010162-5','706010164-3','706010164-5']\n",
    "\n",
    "f = open(\"%s/HIV_250.sh\"%MPL_DIR,'w')\n",
    "f.write('#!/bin/bash\\n')\n",
    "f.write('cd ..\\n')\n",
    "\n",
    "for tag in tags_250:\n",
    "    f.write('python inference_HIV.py -tag %s -dir \\'data/HIV250\\' --raw'%(tag))\n",
    "    f.write(' || echo \"CH%s failed, continuing with next script...\" \\n'%tag[-5:])\n",
    "f.write('echo \"All scripts have been attempted.\"')\n",
    "f.close()  "
   ]
  },
  {
   "cell_type": "code",
   "execution_count": null,
   "id": "783e1ce7",
   "metadata": {},
   "outputs": [],
   "source": []
  }
 ],
 "metadata": {
  "kernelspec": {
   "display_name": "Python 3 (ipykernel)",
   "language": "python",
   "name": "python3"
  },
  "language_info": {
   "codemirror_mode": {
    "name": "ipython",
    "version": 3
   },
   "file_extension": ".py",
   "mimetype": "text/x-python",
   "name": "python",
   "nbconvert_exporter": "python",
   "pygments_lexer": "ipython3",
   "version": "3.10.9"
  }
 },
 "nbformat": 4,
 "nbformat_minor": 5
}
