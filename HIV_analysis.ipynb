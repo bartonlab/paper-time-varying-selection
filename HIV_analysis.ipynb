{
 "cells": [
  {
   "cell_type": "markdown",
   "id": "5f50d53d",
   "metadata": {},
   "source": [
    "# <font color = red> HIV Analysis\n",
    "</font> Here we combine HIV sequence data from [the Los Alamos National Laboratory HIV Sequence Database](https://www.hiv.lanl.gov/content/index) and immunological data to investigate HIV evolution across 13 individuals. This data is contained in the data/HIV/ directory."
   ]
  },
  {
   "cell_type": "markdown",
   "id": "73cc675b",
   "metadata": {},
   "source": [
    "## Contents\n",
    "- ### [Libraries and variables](#lib)\n",
    "- ### Data analyze\n",
    "    - #### [Escape information](#escape)\n",
    "    - #### [Write shell script](#mpl)\n",
    "    - #### [Deal with data](#deal)\n",
    "    - #### [Calculate Δs_ij](#sij)"
   ]
  },
  {
   "cell_type": "markdown",
   "id": "c8bc00c2",
   "metadata": {},
   "source": [
    "### <a id='lib'></a> Libraries and variables"
   ]
  },
  {
   "cell_type": "code",
   "execution_count": 1,
   "id": "f4d1cabb",
   "metadata": {},
   "outputs": [
    {
     "name": "stdout",
     "output_type": "stream",
     "text": [
      "This notebook was prepared using:\n",
      "python version 3.10.9 | packaged by conda-forge | (main, Feb  2 2023, 20:26:08) [Clang 14.0.6 ]\n",
      "numpy version 1.24.2\n",
      "pandas version 1.5.3\n",
      "matplotlib version 3.7.1\n"
     ]
    }
   ],
   "source": [
    "print('This notebook was prepared using:')\n",
    "\n",
    "import os\n",
    "import sys\n",
    "print('python version %s' % sys.version)\n",
    "\n",
    "import numpy as np\n",
    "print('numpy version %s' % np.__version__)\n",
    "\n",
    "import pandas as pd\n",
    "print('pandas version %s' % pd.__version__)\n",
    "\n",
    "import math## \n",
    "from math import isnan\n",
    "\n",
    "import matplotlib\n",
    "import matplotlib.cm as cm\n",
    "import matplotlib.pyplot as plt\n",
    "import matplotlib.gridspec as gridspec\n",
    "import matplotlib.image as mpimg\n",
    "print('matplotlib version %s' % matplotlib.__version__)\n",
    "\n",
    "import re\n",
    "import sys\n",
    "import argparse\n",
    "import scipy as sp\n",
    "try:\n",
    "    import itertools.izip as zip\n",
    "except ImportError:\n",
    "    import itertools\n",
    "import random\n",
    "\n",
    "from scipy import integrate\n",
    "import scipy.interpolate as sp_interpolate\n",
    "import statistics\n",
    "\n",
    "from dataclasses import dataclass\n",
    "import time as time_module\n",
    "import importlib\n",
    "import subprocess\n",
    "\n",
    "import epitope\n",
    "\n",
    "# GitHub\n",
    "HIV_DIR = 'data/HIV'\n",
    "SIM_DIR = 'data/simulation'\n",
    "FIG_DIR = 'figures'\n",
    "MPL_DIR = 'src'\n",
    "\n",
    "NUC = ['-', 'A', 'C', 'G', 'T']\n",
    "\n",
    "ppts = ['700010040', '700010058', '700010077', '700010470', '700010607', '703010131', '703010159', \n",
    "       '703010256', '704010042', '705010162', '705010185', '705010198', '706010164']\n",
    "\n",
    "tags = ['700010040-3', '700010040-5', '700010058-3', '700010058-5', '700010077-3', '700010077-5',\n",
    "        '700010470-3', '700010470-5', '700010607-3', '700010607-5', '703010131-3', '703010131-5', \n",
    "        '703010159-3', '703010159-5', '703010256-3', '703010256-5', '704010042-3', '704010042-5', \n",
    "        '705010162-3', '705010162-5', '705010185-3', '705010185-5', '705010198-3', '705010198-5', \n",
    "        '706010164-3', '706010164-5']  "
   ]
  },
  {
   "cell_type": "markdown",
   "id": "77ab1631",
   "metadata": {},
   "source": [
    "Remove sites with weak linkage with trait sites, special sites and binary traits.\\\n",
    "Create a new sequence file '/sequence/'+tag+'-cut.dat'"
   ]
  },
  {
   "cell_type": "code",
   "execution_count": 2,
   "id": "6935f441-5d8b-4dce-8558-976347266dcb",
   "metadata": {},
   "outputs": [],
   "source": [
    "'Rename files'\n",
    "HIV_DIR = 'data/HIV'\n",
    "\n",
    "cut_tags = ['704010042-3', '703010131-3']\n",
    "\n",
    "# for tag in cut_tags:\n",
    "    # original_file1 = '%s/constant/analysis/%s-analyze.csv' %(HIV_DIR,tag) # original file path\n",
    "    # new_file1      = '%s/constant/analysis/%s-analyze-old.csv' %(HIV_DIR,tag) \n",
    "    # os.rename(original_file1, new_file1)\n",
    "\n",
    "    # original_file2 = '%s/constant/epitopes/escape_group-%s.csv' %(HIV_DIR,tag) # original file path\n",
    "    # new_file2      = '%s/constant/epitopes/escape_group-%s-old.csv' %(HIV_DIR,tag) \n",
    "    # os.rename(original_file2, new_file2)\n",
    "\n",
    "    # original_file = '%s/input/sequence/%s-poly-seq2state.dat' %(HIV_DIR,tag) # original file path\n",
    "    # new_file      = '%s/input/sequence/%s-poly-seq2state-old.dat' %(HIV_DIR,tag) \n",
    "    # os.rename(original_file, new_file)\n"
   ]
  },
  {
   "cell_type": "code",
   "execution_count": 20,
   "id": "8f971452",
   "metadata": {},
   "outputs": [
    {
     "name": "stdout",
     "output_type": "stream",
     "text": [
      "CH042-3 raw sequence length is 875, remove 477 sites\n",
      "CH131-3 raw sequence length is 744, remove 478 sites\n"
     ]
    }
   ],
   "source": [
    "import epitope\n",
    "importlib.reload(epitope)\n",
    "\n",
    "HIV_DIR = 'data/HIV'\n",
    "tag = '704010042-3'\n",
    "epitope.get_cut_sequences(HIV_DIR,tag,0.025,0.025)\n",
    "\n",
    "tag = '703010131-3'\n",
    "epitope.get_cut_sequences(HIV_DIR,tag,0.01,0.01)"
   ]
  },
  {
   "cell_type": "code",
   "execution_count": 23,
   "id": "9e08deed-b1e1-48d4-8f63-8f9996943d0a",
   "metadata": {},
   "outputs": [],
   "source": [
    "f = open(\"src/cut-HIV.sh\",'w')\n",
    "f.write('g++ main.cpp inf.cpp io.cpp -O3 -mcpu=apple-a14 -std=c++11 -lgsl -lgslcblas -o mpl\\n')\n",
    "\n",
    "cut_tags = ['704010042-3', '703010131-3']\n",
    "for tag in cut_tags:\n",
    "            \n",
    "    f.write('./mpl -d ../data/HIV -i input/sequence/%s-poly-seq2state.dat '%(tag))\n",
    "    f.write('-o constant/output/sc-%s-cut.dat -g 10 -m input/Zanini-extended.dat '%(tag))\n",
    "    f.write('-r input/r_rates/r-%s.dat -e input/traitsite/traitsite-%s-cut.dat '%(tag,tag))\n",
    "    f.write('-es input/traitseq/traitseq-%s.dat -ed input/traitdis/traitdis-%s.dat\\n'%(tag,tag))\n",
    "        \n",
    "f.close()"
   ]
  },
  {
   "cell_type": "code",
   "execution_count": 24,
   "id": "e3a622a9-6170-4453-8ea2-cbed91148455",
   "metadata": {},
   "outputs": [],
   "source": [
    "import epitope\n",
    "importlib.reload(epitope)\n",
    "\n",
    "for tag in cut_tags:\n",
    "    epitope.get_cut_analysis(HIV_DIR,tag)\n"
   ]
  },
  {
   "cell_type": "code",
   "execution_count": 6,
   "id": "611324e5-eade-4585-9a45-0a274e23b837",
   "metadata": {},
   "outputs": [
    {
     "name": "stdout",
     "output_type": "stream",
     "text": [
      "1. All epitopes are dependent ['CH077-5', 'CH164-5']\n",
      "2. All epitopes are independent ['CH040-3', 'CH058-3', 'CH077-3', 'CH607-3', 'CH159-3', 'CH042-3', 'CH185-5', 'CH198-3']\n",
      "3. Combination of the above  ['CH040-5', 'CH058-5', 'CH470-3', 'CH470-5', 'CH131-3', 'CH131-5', 'CH256-3', 'CH256-5', 'CH042-5', 'CH162-3', 'CH162-5', 'CH164-3']\n",
      "4. No mutation related to epitope ['CH607-5', 'CH159-5', 'CH185-3', 'CH198-5']\n"
     ]
    }
   ],
   "source": [
    "tag_independent = []\n",
    "tag_dependent   = []\n",
    "tag_combine     = []\n",
    "tag_noepitope   = []\n",
    "\n",
    "for tag in tags:\n",
    "    df   = pd.read_csv('%s/constant/analysis/%s-analyze.csv'%(HIV_DIR,tag), comment='#', memory_map=True)\n",
    "    try:\n",
    "        df_escape   = pd.read_csv('%s/constant/epitopes/escape_group-%s.csv'%(HIV_DIR,tag), memory_map=True)\n",
    "        trait_sites = df_escape['polymorphic_index'].unique()\n",
    "        ne          = len(df_escape['epitope'].unique())\n",
    "    except FileNotFoundError:\n",
    "        trait_sites = []\n",
    "        ne          = 0\n",
    "\n",
    "    seq_length   = df.iloc[-1]['polymorphic_index'] + 1\n",
    "    variants     = len(df)\n",
    "    sample_times = [int(i.split('_')[-1]) for i in df.columns if 'f_at_' in i]\n",
    "    gamma_s      = round(10/sample_times[-1],3)\n",
    "    \n",
    "    # Get special sites (nonsynonymous mutation for epitope but not trait sites)\n",
    "    df_epi = df[(df['epitope'].notna()) & (df['escape'] == True)]\n",
    "    epitopes = df_epi['epitope'].unique()\n",
    "    nonsy_sites = df_epi['polymorphic_index'].unique()\n",
    "    sp_index = []\n",
    "    for site in nonsy_sites:\n",
    "        if site not in trait_sites:\n",
    "            sp_index.append(site)\n",
    "\n",
    "    # print(f'CH{tag[-5:]}|{seq_length}|{ne}|{variants}|{sample_times[-1]}', end = '|')\n",
    "    # print(f'{gamma_s}|{sample_times}|{sp_index}', end = '\\n')\n",
    "\n",
    "    name_tag = 'CH' + str(tag[-5:])\n",
    "    if ne > 0 and len(sp_index) > 0:\n",
    "        tag_combine.append(name_tag)\n",
    "    elif ne > 0 and len(sp_index) == 0:\n",
    "        tag_independent.append(name_tag)\n",
    "    elif ne == 0 and len(sp_index) > 0:\n",
    "        tag_dependent.append(name_tag)\n",
    "    else:\n",
    "        tag_noepitope.append(name_tag)\n",
    "    \n",
    "\n",
    "print(f'1. All epitopes are dependent {tag_dependent}')\n",
    "print(f'2. All epitopes are independent {tag_independent}')\n",
    "print(f'3. Combination of the above  {tag_combine}')\n",
    "print(f'4. No mutation related to epitope {tag_noepitope}')\n"
   ]
  },
  {
   "cell_type": "markdown",
   "id": "18eb4895-75bb-4305-80d7-73f156d8e88c",
   "metadata": {},
   "source": [
    "#### <a id='escape'></a> Escape information"
   ]
  },
  {
   "cell_type": "markdown",
   "id": "11a51ab2-8230-48b6-b057-609aca4c68f8",
   "metadata": {},
   "source": [
    "tag|sequence<br>length|escape<br>group|variants|max<br>time|gamma<br>s|raw<br>time|special<br>sites\n",
    ":----:|:----:|:---:|:-----:|:----|:----|:----:|:----:\n",
    "CH040-3|303|4|617|552|0.018|[0, 16, 45, 111, 181, 283, 412, 552]|[]\n",
    "CH040-5|146|1|292|552|0.018|[0, 16, 45, 111, 181, 283, 412, 552]|[39, 104]\n",
    "CH058-3|90|1|181|85|0.118|[0, 8, 45, 85]|[]\n",
    "CH058-5|96|1|192|350|0.029|[0, 8, 45, 85, 154, 239, 252, 350]|[13]\n",
    "CH077-3|203|6|424|159|0.063|[0, 14, 32, 102, 159]|[]\n",
    "CH077-5|48|0|97|159|0.063|[0, 14, 32, 159]|[1, 4, 5]\n",
    "CH470-3|367|3|772|420|0.024|[0, 13, 41, 69, 174, 420]|[40, 334]\n",
    "CH470-5|193|4|391|454|0.022|[0, 13, 41, 69, 174, 420, 454]|[124]\n",
    "CH607-3|239|1|491|21|0.476|[0, 9, 14, 21]|[]\n",
    "CH607-5|78|0|156|21|0.476|[0, 9, 14, 21]|[]\n",
    "CH131-3|97|2|209|333|0.03|[0, 21, 28, 34, 63, 91, 175, 273, 333]|[45, 46, 47, 76, 189]\n",
    "CH131-5|261|1|526|333|0.03|[0, 21, 28, 34, 63, 91, 175, 273, 333]|[259]\n",
    "CH159-3|477|2|994|302|0.033|[0, 8, 12, 22, 29, 56, 85, 302]|[]\n",
    "CH159-5|216|0|440|302|0.033|[0, 8, 12, 22, 29, 56, 85, 302]|[]\n",
    "CH256-3|463|4|973|684|0.015|[0, 28, 63, 172, 426, 684]|[45, 46, 316, 317]\n",
    "CH256-5|402|1|812|684|0.015|[0, 28, 63, 172, 426, 684]|[42, 208]\n",
    "CH042-3|398|4|949|676|0.015|[0, 21, 60, 172, 424, 676]|[]\n",
    "CH042-5|266|1|538|676|0.015|[0, 21, 60, 172, 424, 676]|[125]\n",
    "CH162-3|508|3|1070|438|0.023|[0, 21, 77, 179, 438]|[327, 328]\n",
    "CH162-5|254|1|513|438|0.023|[0, 21, 77, 179, 438]|[6, 7, 8, 38, 39, 40, 42, 43, 155]\n",
    "CH185-3|292|0|595|416|0.024|[0, 25, 67, 180, 416]|[]\n",
    "CH185-5|85|1|174|67|0.149|[0, 25, 67]|[]\n",
    "CH198-3|204|1|427|60|0.167|[0, 11, 60]|[]\n",
    "CH198-5|72|0|145|60|0.167|[0, 11, 60]|[]\n",
    "CH164-3|485|2|1017|434|0.023|[0, 14, 28, 70, 183, 434]|[86, 87, 88, 89, 463]\n",
    "CH164-5|204|0|409|434|0.023|[0, 14, 28, 70, 183, 434]|[44, 50, 51, 170]"
   ]
  },
  {
   "cell_type": "markdown",
   "id": "c912d699",
   "metadata": {},
   "source": [
    "Write sh file for HIV data"
   ]
  },
  {
   "cell_type": "code",
   "execution_count": 7,
   "id": "0439bdbf-6530-41d4-96d6-df379a8e92d0",
   "metadata": {},
   "outputs": [],
   "source": [
    "'''Time-varying gamma_prime with middle value is 50'''\n",
    "\n",
    "infer_tags=['700010077-5','700010058-3','700010058-5','700010040-3','703010256-3','700010040-5',\n",
    "            '700010470-3','700010470-5','700010607-3','703010131-3','703010131-5','703010159-3',\n",
    "            '703010256-5','704010042-3','704010042-5','705010162-3','705010162-5','700010077-3',\n",
    "            '705010185-5','705010198-3','706010164-3','706010164-5']\n",
    "\n",
    "f = open(\"%s/new-HIV.sh\"%MPL_DIR,'w')\n",
    "f.write('#!/bin/bash\\n')\n",
    "f.write('cd ..\\n')\n",
    "\n",
    "for i in range(len(infer_tags)):\n",
    "    tag = infer_tags[i]\n",
    "    f.write('python new_infer.py -tag %s --raw --TV'%(tag))\n",
    "    f.write(' || echo \"CH%s failed, continuing with next script...\" \\n'%tag[-5:])\n",
    "f.write('echo \"All scripts have been attempted.\"')\n",
    "f.close()  "
   ]
  },
  {
   "cell_type": "code",
   "execution_count": 8,
   "id": "79410bae",
   "metadata": {},
   "outputs": [],
   "source": [
    "# '''Time-varying gamma_prime with middle value is 50/200 and constant gamma_prime'''\n",
    "\n",
    "# infer_tags = ['700010040-3','700010040-5','700010058-3','700010058-5','700010077-3','700010077-5',\n",
    "#               '700010470-3','700010470-5','700010607-3','703010131-3','703010131-5','703010159-3',\n",
    "#               '703010256-3','703010256-5','704010042-3','704010042-5','705010162-3','705010162-5',\n",
    "#               '705010185-5','705010198-3','706010164-3','706010164-5']\n",
    "\n",
    "# f = open(\"%s/try-HIV.sh\"%MPL_DIR,'w')\n",
    "# f.write('#!/bin/bash\\n')\n",
    "# f.write('cd ..\\n')\n",
    "\n",
    "# for i in range(len(infer_tags)):\n",
    "#     tag = infer_tags[i]\n",
    "#     f.write('python inference_HIV.py -tag %s '%(tag))\n",
    "#     f.write(' || echo \"CH%s failed, continuing with next script...\" \\n'%tag[-5:])\n",
    "#     f.write('python inference_HIV.py -tag %s -output output-50 -g2tv 50 '%(tag))\n",
    "#     f.write(' || echo \"CH%s failed, continuing with next script...\" \\n'%tag[-5:])\n",
    "#     f.write('python inference_HIV.py -tag %s -output output-cg --tvgamma '%(tag))\n",
    "#     f.write(' || echo \"CH%s failed, continuing with next script...\" \\n'%tag[-5:])\n",
    "# f.write('echo \"All scripts have been attempted.\"')\n",
    "# f.close()  "
   ]
  },
  {
   "cell_type": "code",
   "execution_count": 9,
   "id": "3f5d8801-d853-462d-bf26-0c873003e169",
   "metadata": {},
   "outputs": [],
   "source": [
    "# '''Different gamma_prime with constant recombination rate'''\n",
    "\n",
    "# infer_tags = ['700010040-3','700010040-5','700010058-3','700010058-5','700010077-3','700010077-5',\n",
    "#               '700010470-3','700010470-5','700010607-3','703010131-3','703010131-5','703010159-3',\n",
    "#               '703010256-3','703010256-5','704010042-3','704010042-5','705010162-3','705010162-5',\n",
    "#               '705010185-5','705010198-3','706010164-3','706010164-5']\n",
    "\n",
    "# f = open(\"%s/try-HIV-cr.sh\"%MPL_DIR,'w')\n",
    "# f.write('#!/bin/bash\\n')\n",
    "# f.write('cd ..\\n')\n",
    "\n",
    "\n",
    "# for i in range(len(infer_tags)):\n",
    "#     tag = infer_tags[i]\n",
    "#     f.write('python inference_HIV.py -tag %s -output output-200 -g2tv 200 --cr --raw'%(tag))\n",
    "#     f.write(' || echo \"CH%s failed, continuing with next script...\" \\n'%tag[-5:])\n",
    "#     f.write('python inference_HIV.py -tag %s -output output-50 -g2tv 50 --cr'%(tag))\n",
    "#     f.write(' || echo \"CH%s failed, continuing with next script...\" \\n'%tag[-5:])\n",
    "#     f.write('python inference_HIV.py -tag %s -output output-cg --tvgamma --cr'%(tag))\n",
    "#     f.write(' || echo \"CH%s failed, continuing with next script...\" \\n'%tag[-5:])\n",
    "# f.write('echo \"All scripts have been attempted.\"')\n",
    "# f.close()  "
   ]
  },
  {
   "cell_type": "markdown",
   "id": "309d3ebf-ba9e-414b-8d72-63786d1ea405",
   "metadata": {},
   "source": [
    "### Use a shorter time gap"
   ]
  },
  {
   "cell_type": "markdown",
   "id": "949b5f13-d04d-4f0e-b176-74c39000fa83",
   "metadata": {},
   "source": [
    "#### Find tag with the larger gap"
   ]
  },
  {
   "cell_type": "code",
   "execution_count": 10,
   "id": "c602d981-fbf6-4d93-9c6c-c62edfb542ac",
   "metadata": {},
   "outputs": [
    {
     "name": "stdout",
     "output_type": "stream",
     "text": [
      "['700010470-3', '700010470-5', '703010159-3', '703010256-3', '703010256-5', '704010042-3', '704010042-5', '705010162-3', '705010162-5', '706010164-3', '706010164-5']\n"
     ]
    }
   ],
   "source": [
    "HIV_DIR = 'data/HIV'\n",
    "MAX_DT       = 200\n",
    "\n",
    "infer_tags = ['700010040-3','700010040-5','700010058-3','700010058-5','700010077-3',\n",
    "              '700010077-5','700010470-3','700010470-5','700010607-3','703010131-3',\n",
    "              '703010131-5','703010159-3','703010256-3','703010256-5','704010042-3',\n",
    "              '704010042-5','705010162-3','705010162-5','705010185-5','705010198-3',\n",
    "              '706010164-3','706010164-5']\n",
    "\n",
    "change_tags = []\n",
    "for tag in infer_tags:\n",
    "    rawdata  = np.load('%s/rawdata/rawdata_%s.npz'%(HIV_DIR,tag), allow_pickle=True)\n",
    "    sample_times = rawdata['sample_times']\n",
    "    dt_tag = [(sample_times[i+1]-sample_times[i]) for i in range(len(sample_times)-1)]\n",
    "    if np.max(dt_tag) > MAX_DT:\n",
    "        change_tags.append(tag)\n",
    "\n",
    "print(change_tags)"
   ]
  },
  {
   "cell_type": "markdown",
   "id": "4f32a035-8b63-406e-b3f9-87d1eb7f74c9",
   "metadata": {},
   "source": [
    "#### Process sequences"
   ]
  },
  {
   "cell_type": "code",
   "execution_count": 67,
   "id": "3011fe60-0fb8-4836-92d0-92f39afe5b0d",
   "metadata": {},
   "outputs": [
    {
     "name": "stdout",
     "output_type": "stream",
     "text": [
      "700010470-3\n",
      "\tselected 113 of 217 sequences with <200 gaps in excess of consensus\n",
      "\tremoved 47 of 4681 sites with >95% gaps\n",
      "700010470-5\n",
      "\tselected 104 of 217 sequences with <200 gaps in excess of consensus\n",
      "\tremoved 2 of 4286 sites with >95% gaps\n",
      "703010159-3\n",
      "\tselected 140 of 247 sequences with <200 gaps in excess of consensus\n",
      "\tremoved 116 of 4744 sites with >95% gaps\n",
      "\tmutant at site 0 in codon that does not terminate in alignment, assuming syn\n",
      "\tmutant at site 0 in codon that does not terminate in alignment, assuming syn\n",
      "\tmutant at site 1 in codon that does not terminate in alignment, assuming syn\n",
      "\tmutant at site 1 in codon that does not terminate in alignment, assuming syn\n",
      "703010256-3\n",
      "\tselected 99 of 209 sequences with <200 gaps in excess of consensus\n",
      "\tremoved 59 of 4693 sites with >95% gaps\n",
      "703010256-5\n",
      "\tselected 110 of 209 sequences with <200 gaps in excess of consensus\n",
      "\tremoved 26 of 4301 sites with >95% gaps\n",
      "\tmutant at site 4274 in codon that does not terminate in alignment, assuming syn\n",
      "\tmutant at site 4274 in codon that does not terminate in alignment, assuming syn\n",
      "704010042-3\n",
      "\tselected 93 of 179 sequences with <200 gaps in excess of consensus\n",
      "\tremoved 62 of 4714 sites with >95% gaps\n",
      "704010042-5\n",
      "\tselected 85 of 179 sequences with <200 gaps in excess of consensus\n",
      "\tremoved 26 of 4280 sites with >95% gaps\n",
      "\tmutant at site 4253 in codon that does not terminate in alignment, assuming syn\n",
      "\tmutant at site 4253 in codon that does not terminate in alignment, assuming syn\n",
      "705010162-3\n",
      "\tselected 69 of 149 sequences with <200 gaps in excess of consensus\n",
      "\tremoved 70 of 4735 sites with >95% gaps\n",
      "705010162-5\n",
      "\tselected 60 of 149 sequences with <200 gaps in excess of consensus\n",
      "\tremoved 2 of 4277 sites with >95% gaps\n",
      "\tmutant at site 4274 in codon that does not terminate in alignment, assuming syn\n",
      "\tmutant at site 4274 in codon that does not terminate in alignment, assuming syn\n",
      "706010164-3\n",
      "\tselected 102 of 199 sequences with <200 gaps in excess of consensus\n",
      "\tremoved 37 of 4678 sites with >95% gaps\n",
      "706010164-5\n",
      "\tselected 98 of 199 sequences with <200 gaps in excess of consensus\n",
      "\tremoved 2 of 4262 sites with >95% gaps\n"
     ]
    }
   ],
   "source": [
    "import importlib\n",
    "importlib.reload(epitope)\n",
    "\n",
    "MAX_GAP_NUM  = 200\n",
    "MAX_GAP_FREQ = 0.95\n",
    "MIN_SEQS     = 4\n",
    "MAX_DT       = 200\n",
    "HIV_DIR_new = 'data/HIV'+str(MAX_DT)\n",
    "\n",
    "epitope.process_sequence(MAX_GAP_NUM, MAX_GAP_FREQ, MIN_SEQS, MAX_DT, HIV_DIR_new, change_tags)"
   ]
  },
  {
   "cell_type": "markdown",
   "id": "7128314e-75b5-41f9-83f6-99c419e986c7",
   "metadata": {},
   "source": [
    "#### find binary traits"
   ]
  },
  {
   "cell_type": "code",
   "execution_count": 71,
   "id": "84f01251-e3c8-49fe-89cc-8360925a8b4c",
   "metadata": {},
   "outputs": [
    {
     "name": "stdout",
     "output_type": "stream",
     "text": [
      "CH470-3 has 3 binary traits, epitope RK10 : [0, 1, 2, 3], epitope RI9 : [238, 239, 240, 241], epitope RK11 : [271, 272, 273], \n",
      "CH470-5 has 2 binary traits, epitope EK9 : [57, 59], epitope RL9 : [108, 109, 110, 111], \n",
      "CH159-3 has 2 binary traits, epitope PL9 : [223, 224, 225, 226, 227, 228], epitope RD9 : [254, 255, 257, 258, 259, 260, 261], \n",
      "CH256-3 has 4 binary traits, epitope EK9 : [10, 11, 12, 13, 14], epitope RN9 : [120, 121, 122, 123], epitope LL9 : [134, 135, 136, 137], epitope QR9 : [159, 160], \n",
      "CH256-5 has 1 binary traits, epitope PS9 : [77, 78, 79, 80, 81], \n",
      "CH042-3 has 3 binary traits, epitope DR9 : [20, 21], epitope KY9 : [51, 52], epitope NL9 : [396, 397, 398, 399, 400], \n",
      "CH042-5 has 1 binary traits, epitope QP9 : [9, 10], \n",
      "CH162-3 has 3 binary traits, epitope LI9 : [18, 19], epitope RA9 : [193, 194, 195, 196, 197, 198, 199, 200, 201, 202, 203, 204, 205, 206, 207, 208, 209, 210, 211, 212, 213, 214, 215, 216, 217, 218, 219, 220], epitope EH9 : [226, 227, 229], \n",
      "CH162-5 has 3 binary traits, epitope VD9 : [2, 3], epitope GN9 : [15, 16, 17], epitope EW9 : [19, 20, 21, 22], \n",
      "CH164-3 has 3 binary traits, epitope NY9 : [23, 24, 25], epitope SY9 : [51, 52, 53, 54, 55, 56], epitope EV11 : [264, 265, 266, 267, 268], \n",
      "706010164-5 has no bianry trait\n"
     ]
    }
   ],
   "source": [
    "import importlib\n",
    "importlib.reload(epitope)\n",
    "\n",
    "for tag in change_tags:\n",
    "    epitope.find_nons_mutations(HIV_DIR_new,tag)"
   ]
  },
  {
   "cell_type": "code",
   "execution_count": 84,
   "id": "d38fb002-e25d-430f-8827-a4c0a4993760",
   "metadata": {},
   "outputs": [
    {
     "name": "stdout",
     "output_type": "stream",
     "text": [
      "CH162-5 : trait VD9, linked variants: 17A(GN9, WT), 17G(GN9), VD9, EW9, \n",
      "CH162-5 : trait EW9, linked variants: 17A(GN9, WT), 17G(GN9), VD9, EW9, \n",
      "CH164-3 : trait NY9, linked variants: 25G(NY9, WT), 25T(NY9), NY9, \n",
      "CH164-3 : trait SY9, linked variants: 51-(SY9), 51C(SY9, WT), 52-(SY9), 52C(SY9, WT), 53-(SY9), 53A(SY9, WT), 54-(SY9), 54A(SY9, WT), 55-(SY9), 55T(SY9, WT), 56-(SY9), 56T(SY9, WT), SY9, \n"
     ]
    }
   ],
   "source": [
    "import subprocess\n",
    "importlib.reload(epitope)\n",
    "\n",
    "status = subprocess.run('g++ src/rref.cpp -O3 -o rref.out', shell=True)\n",
    "\n",
    "for tag in change_tags:\n",
    "    co_rr = epitope.determine_dependence(HIV_DIR_new,tag)\n",
    "\n",
    "status = subprocess.run('rm rref.out', shell=True)"
   ]
  },
  {
   "cell_type": "markdown",
   "id": "2a4b6e33-91bb-472d-b2a9-98fb6dffddec",
   "metadata": {},
   "source": [
    "#### Show some basic information"
   ]
  },
  {
   "cell_type": "code",
   "execution_count": 92,
   "id": "28b09b2e-6ec5-4123-9137-337044c3025d",
   "metadata": {},
   "outputs": [],
   "source": [
    "# n_independent = 0\n",
    "# n_dependent = 0\n",
    "# TF_correct = True\n",
    "\n",
    "# for tag in change_tags:\n",
    "\n",
    "#     traitsite = epitope.read_file(HIV_DIR_new,'traitsite/traitsite-'+tag+'.dat')\n",
    "#     TFseq     = epitope.read_file_s(HIV_DIR_new,'traitseq/traitseq-'+tag+'.dat')\n",
    "    \n",
    "#     df = pd.read_csv('%s/constant/interim/%s-poly.csv' %(HIV_DIR_new,tag), comment='#', memory_map=True)\n",
    "\n",
    "#     variants     = len(df)\n",
    "#     sample_times = [int(i.split('_')[-1]) for i in df.columns if 'f_at_' in i]\n",
    "    \n",
    "#     print(f'CH{tag[-5:]}|{sample_times[-1]}|{variants}', end = '|')\n",
    "    \n",
    "#     # Get special sites (nonsynonymous mutation for epitope but not trait sites)\n",
    "#     df_epi = df[(df['epitope'].notna()) & (df['escape'] == True)]\n",
    "#     epitopes = df_epi['epitope'].unique()\n",
    "#     trait_index = []\n",
    "#     sp_index = []\n",
    "#     nonsy_sites = []\n",
    "    \n",
    "#     for n in range(len(epitopes)):\n",
    "#         df_n = df_epi[(df_epi['epitope'] == epitopes[n]) ]\n",
    "#         nonsy_sites_n = df_n['polymorphic_index'].unique()\n",
    "#         nonsy_sites.append(nonsy_sites_n)\n",
    "#         if any(np.array_equal(nonsy_sites_n, trait) for trait in traitsite):\n",
    "#             trait_index.append(n)\n",
    "#         else:\n",
    "#             sp_index.append(n)\n",
    "    \n",
    "#     n_independent += len(trait_index)\n",
    "#     n_dependent   += len(sp_index)\n",
    "#     if len(traitsite)!= 0:\n",
    "#         print(f'{len(traitsite)}', end = '|')\n",
    "#         for nn in trait_index:\n",
    "#             trait_epi = epitopes[nn]\n",
    "#             epiname = trait_epi[0] + trait_epi[-1] + str(len(trait_epi))\n",
    "#             print(f'<br>{epiname}: {nonsy_sites[nn]}', end = '')\n",
    "#         print('',end = '|')\n",
    "#     else:\n",
    "#         print(f'0|No binary trait', end = '|')\n",
    "\n",
    "#     if len(sp_index)!= 0:\n",
    "#         for nn in sp_index:\n",
    "#             sp_epi = epitopes[nn]\n",
    "#             epiname = sp_epi[0] + sp_epi[-1] + str(len(sp_epi))\n",
    "#             print(f'<br>{epiname}: {nonsy_sites[nn]}', end = '')\n",
    "#     else:\n",
    "#         print(f'No special sites', end = '')\n",
    "\n",
    "#     print(f'|{sample_times}')"
   ]
  },
  {
   "cell_type": "markdown",
   "id": "9a7b60d1-45b8-47ef-b5fc-53aba401f1f1",
   "metadata": {},
   "source": [
    "tag|max<br>time|variants|escape<br>group|escape sites|special sites|sample times\n",
    ":----:|:----:|:----:|:----:|:---|:----|:-----\n",
    "CH470-3|174|583|3|RK10: [0 1 2 3]<br>RI9: [238 239 240 241]<br>RK11: [271 272 273]|LP9: [32]|[0, 13, 41, 69, 174]\n",
    "CH470-5|174|280|2|EK9: [57 59]<br>RL9: [108 109 110 111]|GK9: [8]<br>DL9: [17]<br>QK9: [90]|[0, 13, 41, 69, 174]\n",
    "CH159-3|85|634|2|PL9: [223 224 225 226 227 228]<br>RD9: [254 255 257 258 259 260 261]|No special sites|[0, 8, 12, 22, 29, 56, 85]\n",
    "CH256-3|172|355|4|EK9: [10 11 12 13 14]<br>RN9: [120 121 122 123]<br>LL9: [134 135 136 137]<br>QR9: [159 160]|EW10: [20]<br>TW9: [105]|[0, 28, 63, 172]\n",
    "CH256-5|172|474|1|PS9: [77 78 79 80 81]|No special sites|[0, 28, 63, 172]\n",
    "CH042-3|172|1084|3|DR9: [20 21]<br>KY9: [51 52]<br>NL9: [396 397 398 399 400]|RY9: [426]|[0, 21, 60, 172]\n",
    "CH042-5|172|160|1|QP9: [ 9 10]|No special sites|[0, 21, 60, 172]\n",
    "CH162-3|179|798|3|LI9: [18 19]<br>RA9: [193 194 195 196 197 198 199<br> 200 201 202 203 204 205 206<br> 207 208 209 210 211 212 <br>213 214 215 216 217 218 219 220]<br>EH9: [226 227 229]|KM9: [224]|[0, 21, 77, 179]\n",
    "CH162-5|179|270|1|GN9: [15 16 17]|VD9: [2 3]<br>EW9: [19 20 21 22]|[0, 21, 77, 179]\n",
    "CH164-3|183|555|1|EV11: [264 265 266 267 268]|NY9: [23 24 25]<br>SY9: [51 52 53 54 55 56]<br>KY11: [269]|[0, 14, 28, 70, 183]\n",
    "CH164-5|183|219|0|No binary trait|PF9: [27]<br>GW10: [93]|[0, 14, 28, 70, 183]\n"
   ]
  },
  {
   "cell_type": "code",
   "execution_count": 19,
   "id": "6f84abe2-2708-4b3e-9574-0e49861cefd8",
   "metadata": {},
   "outputs": [],
   "source": [
    "\n",
    "def get_times(tag):\n",
    "    seq      = np.loadtxt('%s/input/sequence/%s-poly-seq2state.dat'%(HIV_DIR_new,tag))\n",
    "    times = []\n",
    "    for i in range(len(seq)):\n",
    "        times.append(seq[i][0])\n",
    "    return np.unique(times)\n",
    "\n",
    "\n",
    "for tag in change_tags:\n",
    "\n",
    "    ppt = tag[:9]\n",
    "    \n",
    "    df_vl_raw    = pd.read_csv('%s/raw/virus load/%s.csv' %(HIV_DIR_new,ppt), header=None)\n",
    "    df_vl_raw.columns = ['time', 'virus_load']\n",
    "    df_vl = df_vl_raw.sort_values(by='time', ascending=True)\n",
    "\n",
    "    sample_times = get_times(tag)\n",
    "    \n",
    "    times = [int(i) for i in df_vl['time'].values]\n",
    "    virus_load = [np.power(10, i) for i in df_vl['virus_load'].values]\n",
    "    vl_sample = np.zeros(len(sample_times))\n",
    "    \n",
    "#     if sample_times[-1] > times[-1]:\n",
    "#         print(f'CH{tag[-5:]} last time point is {int(sample_times[-1])}, the last point detected VL is {times[-1]}')\n",
    "    #     print(f'there are some time points have no VL')\n",
    "\n",
    "    time_min = np.min([int(times[0]),sample_times[0]])\n",
    "    time_max = np.max([int(times[-1]),sample_times[-1]])\n",
    "    whole_time = np.linspace(time_min,time_max,int(time_max-time_min+1))\n",
    "    \n",
    "    interpolation = lambda a,b: sp_interpolate.interp1d(a,b,kind='linear',fill_value=(virus_load[0], virus_load[-1]), bounds_error=False)\n",
    "    AllVL = interpolation(times, virus_load)(whole_time)\n",
    "\n",
    "    for t_index in range(len(sample_times)):\n",
    "        t = sample_times[t_index]\n",
    "        index = list(whole_time).index(t)\n",
    "        vl_sample[t_index] = AllVL[index]\n",
    "        \n",
    "    # recombination rate over time\n",
    "    f = open('%s/input/r_rates/r-%s.dat'%(HIV_DIR_new,tag), 'w')\n",
    "    f.write('%s\\n'%'\\t'.join([str((1.722*vl_sample[i]/1000000+0.139)/10000) for i in range(len(vl_sample))]))\n",
    "    f.close()\n",
    "    "
   ]
  },
  {
   "cell_type": "markdown",
   "id": "23ea5069-3874-4535-bf39-c7bf865d39a7",
   "metadata": {},
   "source": [
    "#### run constant MPL"
   ]
  },
  {
   "cell_type": "code",
   "execution_count": 20,
   "id": "197b3e15-2944-4838-aa4c-c054eca44e38",
   "metadata": {},
   "outputs": [],
   "source": [
    "f = open(\"src/const-HIV-%d.sh\"%MAX_DT,'w')\n",
    "f.write('g++ main.cpp inf.cpp io.cpp -O3 -mcpu=apple-a14 -std=c++11 -lgsl -lgslcblas -o mpl\\n')\n",
    "\n",
    "for tag in change_tags:\n",
    "            \n",
    "    f.write('./mpl -d ../data/HIV%d -i input/sequence/%s-poly-seq2state.dat '%(MAX_DT,tag))\n",
    "    f.write('-o constant/output/sc-%s.dat -g 10 -m input/Zanini-extended.dat '%(tag))\n",
    "    f.write('-r input/r_rates/r-%s.dat -e input/traitsite/traitsite-%s.dat '%(tag,tag))\n",
    "    f.write('-es input/traitseq/traitseq-%s.dat -ed input/traitdis/traitdis-%s.dat '%(tag,tag))\n",
    "    f.write('-sc constant/output/c-%s.dat\\n'%(tag))\n",
    "        \n",
    "f.close()"
   ]
  },
  {
   "cell_type": "markdown",
   "id": "e212e71a-ede5-4980-a3d7-3f253587f85b",
   "metadata": {},
   "source": [
    "Check if every binary trait is indepedent"
   ]
  },
  {
   "cell_type": "code",
   "execution_count": 25,
   "id": "46b45b22-9362-4652-afc3-b48d2ed56928",
   "metadata": {},
   "outputs": [
    {
     "name": "stdout",
     "output_type": "stream",
     "text": [
      "Done!\n"
     ]
    }
   ],
   "source": [
    "importlib.reload(epitope)\n",
    "\n",
    "status = subprocess.run('g++ src/rref.cpp -O3 -o rref.out', shell=True)\n",
    "epitope.get_independent(HIV_DIR_new)\n",
    "status = subprocess.run('rm rref.out', shell=True)"
   ]
  },
  {
   "cell_type": "code",
   "execution_count": 26,
   "id": "b19c277e-a4d6-4513-b900-0e39541c4a35",
   "metadata": {},
   "outputs": [
    {
     "name": "stdout",
     "output_type": "stream",
     "text": [
      "All inferred binary traits are independent\n"
     ]
    }
   ],
   "source": [
    "importlib.reload(epitope)\n",
    "\n",
    "Independence = True\n",
    "\n",
    "for tag in change_tags:\n",
    "    \n",
    "    co_rr     = np.loadtxt('%s/constant/output/rr-c-%s.dat'%(HIV_DIR_new,tag))\n",
    "    \n",
    "    traitsite = epitope.read_file(HIV_DIR_new,'traitsite/traitsite-'+tag+'.dat')\n",
    "    \n",
    "    ll = len(co_rr)\n",
    "    ne = len(traitsite)\n",
    "    \n",
    "    if ne > 0:\n",
    "        \n",
    "        for n in range(ne):\n",
    "            co_rr_c = list(co_rr.T[ll-ne+n])\n",
    "            \n",
    "            pivot = co_rr_c.index(np.sum(co_rr_c))\n",
    "                \n",
    "            if np.sum(abs(co_rr[pivot])) > 1:\n",
    "                Independence = False\n",
    "                print(f'{tag} still has some dependent binary trait, {traitsite[n]}')\n",
    "\n",
    "cov_dir = HIV_DIR_new + '/constant/output'\n",
    "\n",
    "if Independence == True:\n",
    "    status = subprocess.run('rm %s/rr-c-*.dat'%cov_dir, shell=True)\n",
    "    status = subprocess.run('rm %s/c-*.dat'%cov_dir, shell=True)\n",
    "    print('All inferred binary traits are independent')"
   ]
  },
  {
   "cell_type": "markdown",
   "id": "ad420fef-305f-4d70-980b-6f5c949d7f39",
   "metadata": {},
   "source": [
    "Deal with the constant data"
   ]
  },
  {
   "cell_type": "code",
   "execution_count": 17,
   "id": "78b4b081-1bfb-4962-b779-2253bc96921f",
   "metadata": {},
   "outputs": [
    {
     "name": "stdout",
     "output_type": "stream",
     "text": [
      "Successfully create the analysis and escape group file\n"
     ]
    }
   ],
   "source": [
    "importlib.reload(epitope)\n",
    "\n",
    "for tag in change_tags:\n",
    "    epitope.analyze_result(HIV_DIR_new,tag)\n",
    "\n",
    "print('Successfully create the analysis and escape group file')"
   ]
  },
  {
   "cell_type": "code",
   "execution_count": 12,
   "id": "4e8ae0e4-2a31-4210-8599-90135607badd",
   "metadata": {},
   "outputs": [],
   "source": [
    "'''Time-varying gamma_prime with middle value is 50'''\n",
    "\n",
    "HIV_DIR_new = 'data/HIV'+str(MAX_DT)\n",
    "f = open(\"src/HIV-%d.sh\"%MAX_DT,'w')\n",
    "\n",
    "f.write('#!/bin/bash\\n')\n",
    "f.write('cd ..\\n')\n",
    "\n",
    "for tag in change_tags:\n",
    "    f.write('python new_infer.py -tag %s -dir %s --raw'%(tag,HIV_DIR_new))\n",
    "    f.write(' || echo \"CH%s failed, continuing with next script...\" \\n'%tag[-5:])\n",
    "f.write('echo \"All scripts have been attempted.\"')\n",
    "f.close()\n",
    "\n"
   ]
  },
  {
   "cell_type": "code",
   "execution_count": 15,
   "id": "d23a0115-01a9-45a4-81a7-56dfd847994d",
   "metadata": {},
   "outputs": [],
   "source": [
    "'''Time-varying gamma_prime with middle value is 50'''\n",
    "\n",
    "HIV_DIR_new = 'data/HIV'+str(MAX_DT)\n",
    "f = open(\"src/try-HIV-%d.sh\"%MAX_DT,'w')\n",
    "\n",
    "tag = '703010256-3'\n",
    "g2s = [100,150,200]\n",
    "f.write('#!/bin/bash\\n')\n",
    "f.write('cd ..\\n')\n",
    "\n",
    "for g2 in g2s:\n",
    "    f.write('python new_infer.py -tag %s -name %s -dir %s -g2tv %s'%(tag,g2,HIV_DIR_new,g2))\n",
    "    f.write(' || echo \"CH%s failed, continuing with next script...\" \\n'%tag[-5:])\n",
    "f.write('echo \"All scripts have been attempted.\"')\n",
    "f.close()"
   ]
  },
  {
   "cell_type": "markdown",
   "id": "e521a00d",
   "metadata": {},
   "source": [
    "### Shorter time - 250"
   ]
  },
  {
   "cell_type": "code",
   "execution_count": 7,
   "id": "49950435",
   "metadata": {},
   "outputs": [
    {
     "name": "stdout",
     "output_type": "stream",
     "text": [
      "['703010256-3', '703010256-5', '704010042-3', '704010042-5', '705010162-3', '705010162-5', '706010164-3', '706010164-5']\n"
     ]
    }
   ],
   "source": [
    "HIV_DIR = 'data/HIV'\n",
    "MAX_DT       = 250\n",
    "\n",
    "infer_tags = ['700010040-3','700010040-5','700010058-3','700010058-5','700010077-3',\n",
    "              '700010077-5','700010470-3','700010470-5','700010607-3','703010131-3',\n",
    "              '703010131-5','703010159-3','703010256-3','703010256-5','704010042-3',\n",
    "              '704010042-5','705010162-3','705010162-5','705010185-5','705010198-3',\n",
    "              '706010164-3','706010164-5']\n",
    "\n",
    "change_tags = []\n",
    "for tag in infer_tags:\n",
    "    rawdata  = np.load('%s/rawdata/rawdata_%s.npz'%(HIV_DIR,tag), allow_pickle=True)\n",
    "    sample_times = rawdata['sample_times']\n",
    "    dt_tag = [(sample_times[i+1]-sample_times[i]) for i in range(len(sample_times)-1)]\n",
    "    if np.max(dt_tag) > MAX_DT:\n",
    "        change_tags.append(tag)\n",
    "\n",
    "print(change_tags)"
   ]
  },
  {
   "cell_type": "code",
   "execution_count": 11,
   "id": "eb9646b2",
   "metadata": {},
   "outputs": [
    {
     "name": "stdout",
     "output_type": "stream",
     "text": [
      "703010256-3\n",
      "\tselected 99 of 209 sequences with <200 gaps in excess of consensus\n",
      "\tremoved 59 of 4693 sites with >95% gaps\n",
      "703010256-5\n",
      "\tselected 110 of 209 sequences with <200 gaps in excess of consensus\n",
      "\tremoved 26 of 4301 sites with >95% gaps\n",
      "\tmutant at site 4274 in codon that does not terminate in alignment, assuming syn\n",
      "\tmutant at site 4274 in codon that does not terminate in alignment, assuming syn\n",
      "704010042-3\n",
      "\tselected 93 of 179 sequences with <200 gaps in excess of consensus\n",
      "\tremoved 62 of 4714 sites with >95% gaps\n",
      "704010042-5\n",
      "\tselected 85 of 179 sequences with <200 gaps in excess of consensus\n",
      "\tremoved 26 of 4280 sites with >95% gaps\n",
      "\tmutant at site 4253 in codon that does not terminate in alignment, assuming syn\n",
      "\tmutant at site 4253 in codon that does not terminate in alignment, assuming syn\n",
      "705010162-3\n",
      "\tselected 69 of 149 sequences with <200 gaps in excess of consensus\n",
      "\tremoved 70 of 4735 sites with >95% gaps\n",
      "705010162-5\n",
      "\tselected 60 of 149 sequences with <200 gaps in excess of consensus\n",
      "\tremoved 2 of 4277 sites with >95% gaps\n",
      "\tmutant at site 4274 in codon that does not terminate in alignment, assuming syn\n",
      "\tmutant at site 4274 in codon that does not terminate in alignment, assuming syn\n",
      "706010164-3\n",
      "\tselected 102 of 199 sequences with <200 gaps in excess of consensus\n",
      "\tremoved 37 of 4678 sites with >95% gaps\n",
      "706010164-5\n",
      "\tselected 98 of 199 sequences with <200 gaps in excess of consensus\n",
      "\tremoved 2 of 4262 sites with >95% gaps\n"
     ]
    }
   ],
   "source": [
    "import importlib\n",
    "importlib.reload(epitope)\n",
    "\n",
    "MAX_GAP_NUM  = 200\n",
    "MAX_GAP_FREQ = 0.95\n",
    "MIN_SEQS     = 4\n",
    "MAX_DT       = 250\n",
    "\n",
    "HIV_DIR_new = 'data/HIV'+str(MAX_DT)\n",
    "\n",
    "epitope.process_sequence(MAX_GAP_NUM, MAX_GAP_FREQ, MIN_SEQS, MAX_DT, HIV_DIR_new, change_tags)"
   ]
  },
  {
   "cell_type": "code",
   "execution_count": 12,
   "id": "d972bd34",
   "metadata": {},
   "outputs": [
    {
     "name": "stdout",
     "output_type": "stream",
     "text": [
      "CH256-3 has 4 binary traits, epitope EK9 : [10, 11, 12, 13, 14], epitope RN9 : [120, 121, 122, 123], epitope LL9 : [134, 135, 136, 137], epitope QR9 : [159, 160], \n",
      "CH256-5 has 1 binary traits, epitope PS9 : [77, 78, 79, 80, 81], \n",
      "CH042-3 has 3 binary traits, epitope DR9 : [20, 21], epitope KY9 : [51, 52], epitope NL9 : [396, 397, 398, 399, 400], \n",
      "CH042-5 has 1 binary traits, epitope QP9 : [9, 10], \n",
      "CH162-3 has 3 binary traits, epitope LI9 : [18, 19], epitope RA9 : [193, 194, 195, 196, 197, 198, 199, 200, 201, 202, 203, 204, 205, 206, 207, 208, 209, 210, 211, 212, 213, 214, 215, 216, 217, 218, 219, 220], epitope EH9 : [226, 227, 229], \n",
      "CH162-5 has 3 binary traits, epitope VD9 : [2, 3], epitope GN9 : [15, 16, 17], epitope EW9 : [19, 20, 21, 22], \n",
      "CH164-3 has 3 binary traits, epitope NY9 : [23, 24, 25], epitope SY9 : [51, 52, 53, 54, 55, 56], epitope EV11 : [264, 265, 266, 267, 268], \n",
      "706010164-5 has no bianry trait\n"
     ]
    }
   ],
   "source": [
    "import importlib\n",
    "importlib.reload(epitope)\n",
    "\n",
    "for tag in change_tags:\n",
    "    epitope.find_nons_mutations(HIV_DIR_new,tag)"
   ]
  },
  {
   "cell_type": "code",
   "execution_count": 13,
   "id": "ea70285e",
   "metadata": {},
   "outputs": [
    {
     "name": "stdout",
     "output_type": "stream",
     "text": [
      "CH162-5 : trait VD9, linked variants: 17A(GN9, WT), 17G(GN9), VD9, EW9, \n",
      "CH162-5 : trait EW9, linked variants: 17A(GN9, WT), 17G(GN9), VD9, EW9, \n",
      "CH164-3 : trait NY9, linked variants: 25G(NY9, WT), 25T(NY9), NY9, \n",
      "CH164-3 : trait SY9, linked variants: 51-(SY9), 51C(SY9, WT), 52-(SY9), 52C(SY9, WT), 53-(SY9), 53A(SY9, WT), 54-(SY9), 54A(SY9, WT), 55-(SY9), 55T(SY9, WT), 56-(SY9), 56T(SY9, WT), SY9, \n"
     ]
    }
   ],
   "source": [
    "import subprocess\n",
    "importlib.reload(epitope)\n",
    "\n",
    "status = subprocess.run('g++ src/rref.cpp -O3 -o rref.out', shell=True)\n",
    "\n",
    "for tag in change_tags:\n",
    "    co_rr = epitope.determine_dependence(HIV_DIR_new,tag)\n",
    "\n",
    "status = subprocess.run('rm rref.out', shell=True)"
   ]
  },
  {
   "cell_type": "code",
   "execution_count": 15,
   "id": "12dff035",
   "metadata": {},
   "outputs": [],
   "source": [
    "# n_independent = 0\n",
    "# n_dependent = 0\n",
    "# TF_correct = True\n",
    "\n",
    "# for tag in change_tags:\n",
    "\n",
    "#     traitsite = epitope.read_file(HIV_DIR_new,'traitsite/traitsite-'+tag+'.dat')\n",
    "#     TFseq     = epitope.read_file_s(HIV_DIR_new,'traitseq/traitseq-'+tag+'.dat')\n",
    "    \n",
    "#     df = pd.read_csv('%s/constant/interim/%s-poly.csv' %(HIV_DIR_new,tag), comment='#', memory_map=True)\n",
    "\n",
    "#     variants     = len(df)\n",
    "#     sample_times = [int(i.split('_')[-1]) for i in df.columns if 'f_at_' in i]\n",
    "    \n",
    "#     print(f'CH{tag[-5:]}|{sample_times[-1]}|{variants}', end = '|')\n",
    "    \n",
    "#     # Get special sites (nonsynonymous mutation for epitope but not trait sites)\n",
    "#     df_epi = df[(df['epitope'].notna()) & (df['escape'] == True)]\n",
    "#     epitopes = df_epi['epitope'].unique()\n",
    "#     trait_index = []\n",
    "#     sp_index = []\n",
    "#     nonsy_sites = []\n",
    "    \n",
    "#     for n in range(len(epitopes)):\n",
    "#         df_n = df_epi[(df_epi['epitope'] == epitopes[n]) ]\n",
    "#         nonsy_sites_n = df_n['polymorphic_index'].unique()\n",
    "#         nonsy_sites.append(nonsy_sites_n)\n",
    "#         if any(np.array_equal(nonsy_sites_n, trait) for trait in traitsite):\n",
    "#             trait_index.append(n)\n",
    "#         else:\n",
    "#             sp_index.append(n)\n",
    "    \n",
    "#     n_independent += len(trait_index)\n",
    "#     n_dependent   += len(sp_index)\n",
    "#     if len(traitsite)!= 0:\n",
    "#         print(f'{len(traitsite)}', end = '|')\n",
    "#         for nn in trait_index:\n",
    "#             trait_epi = epitopes[nn]\n",
    "#             epiname = trait_epi[0] + trait_epi[-1] + str(len(trait_epi))\n",
    "#             print(f'<br>{epiname}: {nonsy_sites[nn]}', end = '')\n",
    "#         print('',end = '|')\n",
    "#     else:\n",
    "#         print(f'0|No binary trait', end = '|')\n",
    "\n",
    "#     if len(sp_index)!= 0:\n",
    "#         for nn in sp_index:\n",
    "#             sp_epi = epitopes[nn]\n",
    "#             epiname = sp_epi[0] + sp_epi[-1] + str(len(sp_epi))\n",
    "#             print(f'<br>{epiname}: {nonsy_sites[nn]}', end = '')\n",
    "#     else:\n",
    "#         print(f'No special sites', end = '')\n",
    "\n",
    "#     print(f'|{sample_times}')"
   ]
  },
  {
   "cell_type": "markdown",
   "id": "1ad07678-5ded-447d-92a9-63f8e1ae85eb",
   "metadata": {},
   "source": [
    "tag|max<br>time|variants|escape<br>group|escape sites|special sites|sample times\n",
    ":----:|:----:|:----:|:----:|:---|:----|:-----\n",
    "CH256-3|172|355|4|EK9: [10 11 12 13 14]<br>RN9: [120 121 122 123]<br>LL9: [134 135 136 137]<br>QR9: [159 160]|EW10: [20]<br>TW9: [105]|[0, 28, 63, 172]\n",
    "CH256-5|172|474|1|PS9: [77 78 79 80 81]|No special sites|[0, 28, 63, 172]\n",
    "CH042-3|172|1084|3|DR9: [20 21]<br>KY9: [51 52]<br>NL9: [396 397 398 399 400]|RY9: [426]|[0, 21, 60, 172]\n",
    "CH042-5|172|160|1|QP9: [ 9 10]|No special sites|[0, 21, 60, 172]\n",
    "CH162-3|179|798|3|LI9: [18 19]<br>RA9: [193 194 195 196 197 198 199<br>200 201 202 203 204 205 206<br>207 208 209 210 211 212 213<br>214 215 216 217 218 219 220]<br>EH9: [226 227 229]|KM9: [224]|[0, 21, 77, 179]\n",
    "CH162-5|179|270|1|GN9: [15 16 17]|VD9: [2 3]<br>EW9: [19 20 21 22]|[0, 21, 77, 179]\n",
    "CH164-3|183|555|1|EV11: [264 265 266 267 268]|NY9: [23 24 25]<br>SY9: [51 52 53 54 55 56]<br>KY11: [269]|[0, 14, 28, 70, 183]\n",
    "CH164-5|183|219|0|No binary trait|PF9: [27]<br>GW10: [93]|[0, 14, 28, 70, 183]\n"
   ]
  },
  {
   "cell_type": "code",
   "execution_count": 22,
   "id": "45037cf5",
   "metadata": {},
   "outputs": [],
   "source": [
    "\n",
    "def get_times(tag):\n",
    "    seq      = np.loadtxt('%s/input/sequence/%s-poly-seq2state.dat'%(HIV_DIR_new,tag))\n",
    "    times = []\n",
    "    for i in range(len(seq)):\n",
    "        times.append(seq[i][0])\n",
    "    return np.unique(times)\n",
    "\n",
    "\n",
    "for tag in change_tags:\n",
    "\n",
    "    ppt = tag[:9]\n",
    "    \n",
    "    df_vl_raw    = pd.read_csv('%s/raw/virus load/%s.csv' %(HIV_DIR_new,ppt), header=None)\n",
    "    df_vl_raw.columns = ['time', 'virus_load']\n",
    "    df_vl = df_vl_raw.sort_values(by='time', ascending=True)\n",
    "\n",
    "    sample_times = get_times(tag)\n",
    "    \n",
    "    times = [int(i) for i in df_vl['time'].values]\n",
    "    virus_load = [np.power(10, i) for i in df_vl['virus_load'].values]\n",
    "    vl_sample = np.zeros(len(sample_times))\n",
    "    \n",
    "#     if sample_times[-1] > times[-1]:\n",
    "#         print(f'CH{tag[-5:]} last time point is {int(sample_times[-1])}, the last point detected VL is {times[-1]}')\n",
    "    #     print(f'there are some time points have no VL')\n",
    "\n",
    "    time_min = np.min([int(times[0]),sample_times[0]])\n",
    "    time_max = np.max([int(times[-1]),sample_times[-1]])\n",
    "    whole_time = np.linspace(time_min,time_max,int(time_max-time_min+1))\n",
    "    \n",
    "    interpolation = lambda a,b: sp_interpolate.interp1d(a,b,kind='linear',fill_value=(virus_load[0], virus_load[-1]), bounds_error=False)\n",
    "    AllVL = interpolation(times, virus_load)(whole_time)\n",
    "\n",
    "    for t_index in range(len(sample_times)):\n",
    "        t = sample_times[t_index]\n",
    "        index = list(whole_time).index(t)\n",
    "        vl_sample[t_index] = AllVL[index]\n",
    "        \n",
    "    # recombination rate over time\n",
    "    f = open('%s/input/r_rates/r-%s.dat'%(HIV_DIR_new,tag), 'w')\n",
    "    f.write('%s\\n'%'\\t'.join([str((1.722*vl_sample[i]/1000000+0.139)/10000) for i in range(len(vl_sample))]))\n",
    "    f.close()\n",
    "    "
   ]
  },
  {
   "cell_type": "code",
   "execution_count": 70,
   "id": "a78ba3bc",
   "metadata": {},
   "outputs": [],
   "source": [
    "f = open(\"src/const-HIV-%d.sh\"%MAX_DT,'w')\n",
    "f.write('g++ main.cpp inf.cpp io.cpp -O3 -mcpu=apple-a14 -std=c++11 -lgsl -lgslcblas -o mpl\\n')\n",
    "\n",
    "for tag in change_tags:\n",
    "            \n",
    "    f.write('./mpl -d ../data/HIV%d -i input/sequence/%s-poly-seq2state.dat '%(MAX_DT,tag))\n",
    "    f.write('-o constant/output/sc-%s.dat -g 10 -m input/Zanini-extended.dat '%(tag))\n",
    "    f.write('-r input/r_rates/r-%s.dat -e input/traitsite/traitsite-%s.dat '%(tag,tag))\n",
    "    f.write('-es input/traitseq/traitseq-%s.dat -ed input/traitdis/traitdis-%s.dat '%(tag,tag))\n",
    "    f.write('-sc constant/output/c-%s.dat\\n'%(tag))\n",
    "        \n",
    "f.close()"
   ]
  },
  {
   "cell_type": "code",
   "execution_count": 31,
   "id": "526297a6",
   "metadata": {},
   "outputs": [
    {
     "name": "stdout",
     "output_type": "stream",
     "text": [
      "Done!\n"
     ]
    }
   ],
   "source": [
    "importlib.reload(epitope)\n",
    "\n",
    "status = subprocess.run('g++ src/rref.cpp -O3 -o rref.out', shell=True)\n",
    "epitope.get_independent(HIV_DIR_new)\n",
    "status = subprocess.run('rm rref.out', shell=True)"
   ]
  },
  {
   "cell_type": "code",
   "execution_count": 32,
   "id": "a623836e",
   "metadata": {},
   "outputs": [
    {
     "name": "stdout",
     "output_type": "stream",
     "text": [
      "All inferred binary traits are independent\n"
     ]
    }
   ],
   "source": [
    "importlib.reload(epitope)\n",
    "\n",
    "Independence = True\n",
    "\n",
    "for tag in change_tags:\n",
    "    \n",
    "    co_rr     = np.loadtxt('%s/constant/output/rr-c-%s.dat'%(HIV_DIR_new,tag))\n",
    "    \n",
    "    traitsite = epitope.read_file(HIV_DIR_new,'traitsite/traitsite-'+tag+'.dat')\n",
    "    \n",
    "    ll = len(co_rr)\n",
    "    ne = len(traitsite)\n",
    "    \n",
    "    if ne > 0:\n",
    "        \n",
    "        for n in range(ne):\n",
    "            co_rr_c = list(co_rr.T[ll-ne+n])\n",
    "            \n",
    "            pivot = co_rr_c.index(np.sum(co_rr_c))\n",
    "                \n",
    "            if np.sum(abs(co_rr[pivot])) > 1:\n",
    "                Independence = False\n",
    "                print(f'{tag} still has some dependent binary trait, {traitsite[n]}')\n",
    "\n",
    "cov_dir = HIV_DIR_new + '/constant/output'\n",
    "\n",
    "if Independence == True:\n",
    "    status = subprocess.run('rm %s/rr-c-*.dat'%cov_dir, shell=True)\n",
    "    status = subprocess.run('rm %s/c-*.dat'%cov_dir, shell=True)\n",
    "    print('All inferred binary traits are independent')"
   ]
  },
  {
   "cell_type": "code",
   "execution_count": 33,
   "id": "213bc393",
   "metadata": {},
   "outputs": [
    {
     "name": "stdout",
     "output_type": "stream",
     "text": [
      "Successfully create the analysis and escape group file\n"
     ]
    }
   ],
   "source": [
    "importlib.reload(epitope)\n",
    "\n",
    "for tag in change_tags:\n",
    "    epitope.analyze_result(HIV_DIR_new,tag)\n",
    "\n",
    "print('Successfully create the analysis and escape group file')"
   ]
  },
  {
   "cell_type": "code",
   "execution_count": 34,
   "id": "f8ab9bbb",
   "metadata": {},
   "outputs": [],
   "source": [
    "'''Time-varying gamma_prime with middle value is 50'''\n",
    "\n",
    "\n",
    "f = open(\"src/HIV-%d.sh\"%MAX_DT,'w')\n",
    "\n",
    "f.write('#!/bin/bash\\n')\n",
    "f.write('cd ..\\n')\n",
    "\n",
    "for tag in change_tags:\n",
    "    f.write('python new_infer.py -tag %s -dir %s --raw'%(tag,HIV_DIR_new))\n",
    "    f.write(' || echo \"CH%s failed, continuing with next script...\" \\n'%tag[-5:])\n",
    "f.write('echo \"All scripts have been attempted.\"')\n",
    "f.close()\n",
    "\n"
   ]
  },
  {
   "cell_type": "code",
   "execution_count": null,
   "id": "7213f7b3",
   "metadata": {},
   "outputs": [],
   "source": []
  }
 ],
 "metadata": {
  "kernelspec": {
   "display_name": "Python 3 (ipykernel)",
   "language": "python",
   "name": "python3"
  },
  "language_info": {
   "codemirror_mode": {
    "name": "ipython",
    "version": 3
   },
   "file_extension": ".py",
   "mimetype": "text/x-python",
   "name": "python",
   "nbconvert_exporter": "python",
   "pygments_lexer": "ipython3",
   "version": "3.10.9"
  },
  "widgets": {
   "application/vnd.jupyter.widget-state+json": {
    "state": {},
    "version_major": 2,
    "version_minor": 0
   }
  }
 },
 "nbformat": 4,
 "nbformat_minor": 5
}
